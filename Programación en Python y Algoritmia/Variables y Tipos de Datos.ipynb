{
 "cells": [
  {
   "cell_type": "markdown",
   "metadata": {
    "id": "ZjYjcyjZu-fH"
   },
   "source": [
    "## Variables y tipos de datos"
   ]
  },
  {
   "cell_type": "markdown",
   "metadata": {
    "id": "Hd2zQpcCvJTW"
   },
   "source": [
    "## Asignación y tipos de variables\n",
    "\n",
    "### ¿Qué son las variables?\n",
    "\n",
    "En programación, una variable es como un contenedor con nombre o una ubicación de almacenamiento que contiene datos. Estos contenedores tienen nombres, llamados identificadores, y permiten a los programadores almacenar, gestionar y manipular datos fácilmente. Las variables sirven como un bloque de construcción fundamental para escribir código porque permiten a los programas trabajar y recordar información.\n",
    "\n",
    "### Definición de variables:\n",
    "\n",
    "Definir una variable es como crear una etiqueta para un contenedor. Se especifica un nombre (el identificador) para la variable, y este nombre ayuda a acceder y trabajar con los datos que contiene. Los nombres de las variables en programación siguen ciertas reglas, como no contener espacios y empezar por una letra o guión bajo (_)."
   ]
  },
  {
   "cell_type": "markdown",
   "metadata": {
    "id": "rG5Quf1gYq14"
   },
   "source": [
    "### Numéricas\n",
    "Una variable numérica es un tipo de variable que se utiliza para almacenar datos numéricos. Las variables numéricas están diseñadas para contener valores numéricos, que pueden ser enteros (números enteros) o números de coma flotante (números con decimales). Estas variables son esenciales para realizar operaciones matemáticas, cálculos y análisis de datos en programación."
   ]
  },
  {
   "cell_type": "code",
   "execution_count": null,
   "metadata": {
    "colab": {
     "base_uri": "https://localhost:8080/"
    },
    "id": "JH1tljJsvNx8",
    "outputId": "6c378da3-6e6b-481a-a80d-14b64f79b196"
   },
   "outputs": [
    {
     "data": {
      "text/plain": [
       "1"
      ]
     },
     "execution_count": 1,
     "metadata": {},
     "output_type": "execute_result"
    }
   ],
   "source": [
    "#numéricas\n",
    "num_var = 1\n",
    "num_var"
   ]
  },
  {
   "cell_type": "code",
   "execution_count": null,
   "metadata": {
    "colab": {
     "base_uri": "https://localhost:8080/"
    },
    "id": "BRuzbtWqiUC8",
    "outputId": "0648546c-2181-4d3a-ede0-9be3a711dd14"
   },
   "outputs": [
    {
     "data": {
      "text/plain": [
       "12.5"
      ]
     },
     "execution_count": 2,
     "metadata": {},
     "output_type": "execute_result"
    }
   ],
   "source": [
    "num_var = 12.5\n",
    "num_var"
   ]
  },
  {
   "cell_type": "markdown",
   "metadata": {
    "id": "lY_6ciQLXzlp"
   },
   "source": [
    "### Booleanos\n",
    "\n",
    "Un \"bool\" es la abreviatura de \"boolean\", y es un tipo de dato fundamental en Python y en muchos otros lenguajes de programación. Los booleanos se utilizan para representar el concepto de verdad o falsedad, y sólo tienen dos valores posibles: True (Verdadero) y False (Falso)."
   ]
  },
  {
   "cell_type": "code",
   "execution_count": null,
   "metadata": {
    "colab": {
     "base_uri": "https://localhost:8080/"
    },
    "id": "yygyBPUixRcs",
    "outputId": "1a41b6a4-7989-4d40-f7ad-3328b319fd30"
   },
   "outputs": [
    {
     "data": {
      "text/plain": [
       "True"
      ]
     },
     "execution_count": 3,
     "metadata": {},
     "output_type": "execute_result"
    }
   ],
   "source": [
    "bool_var = True\n",
    "bool_var"
   ]
  },
  {
   "cell_type": "code",
   "execution_count": null,
   "metadata": {
    "colab": {
     "base_uri": "https://localhost:8080/"
    },
    "id": "9jnz4WWgibHN",
    "outputId": "a5902b61-dcd5-4a63-800d-051c08ccc71f"
   },
   "outputs": [
    {
     "data": {
      "text/plain": [
       "False"
      ]
     },
     "execution_count": 4,
     "metadata": {},
     "output_type": "execute_result"
    }
   ],
   "source": [
    "bool_var = False\n",
    "bool_var"
   ]
  },
  {
   "cell_type": "markdown",
   "metadata": {
    "id": "Orf_fMjiY90t"
   },
   "source": [
    "### Casting\n",
    "Casting, en el contexto de la programación, se refiere al proceso de convertir un valor de un tipo de datos a otro. En muchos lenguajes de programación, incluido Python, las variables tienen tipos de datos específicos que dictan cómo se almacenan los datos y cómo se pueden realizar operaciones con ellos. Casting permite cambiar el tipo de datos de un valor cuando es necesario para realizar operaciones específicas o para asegurar la compatibilidad entre diferentes tipos de datos."
   ]
  },
  {
   "cell_type": "code",
   "execution_count": null,
   "metadata": {
    "colab": {
     "base_uri": "https://localhost:8080/"
    },
    "id": "24DY-em2iiT0",
    "outputId": "71d770bf-e946-49de-8826-6349cb6e6ffe"
   },
   "outputs": [
    {
     "data": {
      "text/plain": [
       "False"
      ]
     },
     "execution_count": 5,
     "metadata": {},
     "output_type": "execute_result"
    }
   ],
   "source": [
    "# Casting y relación entre variables booleanas y enteros\n",
    "num_var = 0\n",
    "casted_bool_var = bool(num_var)\n",
    "casted_bool_var"
   ]
  },
  {
   "cell_type": "code",
   "execution_count": null,
   "metadata": {
    "colab": {
     "base_uri": "https://localhost:8080/"
    },
    "id": "jmizgjv5i1I1",
    "outputId": "a96dd8a5-993c-4c87-f267-cfcdb440f20e"
   },
   "outputs": [
    {
     "data": {
      "text/plain": [
       "True"
      ]
     },
     "execution_count": 6,
     "metadata": {},
     "output_type": "execute_result"
    }
   ],
   "source": [
    "#¿Qué pasa cuándo el entero es diferente a 1?\n",
    "num_var = 1\n",
    "casted_bool_var = bool(num_var)\n",
    "casted_bool_var"
   ]
  },
  {
   "cell_type": "code",
   "execution_count": null,
   "metadata": {
    "colab": {
     "base_uri": "https://localhost:8080/"
    },
    "id": "8hAiVe1QjCBR",
    "outputId": "d2ba4fc9-f2fc-486a-d9b2-44f8ce99d607"
   },
   "outputs": [
    {
     "data": {
      "text/plain": [
       "1"
      ]
     },
     "execution_count": 7,
     "metadata": {},
     "output_type": "execute_result"
    }
   ],
   "source": [
    "#¿Qué pasa si hacemos el casting al revés?\n",
    "bool_var = True\n",
    "casted_num_var = int(bool_var)\n",
    "casted_num_var"
   ]
  },
  {
   "cell_type": "code",
   "execution_count": null,
   "metadata": {
    "colab": {
     "base_uri": "https://localhost:8080/"
    },
    "id": "aKeDTNqljMSe",
    "outputId": "1cc7a415-3d82-4c74-ca97-762b348005ae"
   },
   "outputs": [
    {
     "data": {
      "text/plain": [
       "0"
      ]
     },
     "execution_count": 8,
     "metadata": {},
     "output_type": "execute_result"
    }
   ],
   "source": [
    "#¿Qué pasa si hacemos el casting al revés?\n",
    "bool_var = False\n",
    "casted_num_var = int(bool_var)\n",
    "casted_num_var"
   ]
  },
  {
   "cell_type": "code",
   "execution_count": null,
   "metadata": {
    "colab": {
     "base_uri": "https://localhost:8080/"
    },
    "id": "hQ7LPfhVZGAi",
    "outputId": "df7a511f-58b1-42b6-ad81-7f24a4c05bbc"
   },
   "outputs": [
    {
     "data": {
      "text/plain": [
       "12"
      ]
     },
     "execution_count": 9,
     "metadata": {},
     "output_type": "execute_result"
    }
   ],
   "source": [
    "# ¿Qué pasa cuándo hacemos casting de un float a un entero?\n",
    "num_var = 12.5\n",
    "num_var = int(num_var)\n",
    "num_var"
   ]
  },
  {
   "cell_type": "markdown",
   "metadata": {
    "id": "oz9RaOZxSSxx"
   },
   "source": [
    "### Listas\n",
    "\n",
    "Una lista en Python es una estructura de datos versátil y ampliamente utilizada que permite almacenar y gestionar colecciones de elementos. Es una de las estructuras de datos fundamentales en Python, y es similar a un array en otros lenguajes de programación. Las listas son particularmente potentes porque pueden contener elementos de diferentes tipos de datos, y puedes cambiar su contenido (añadir, eliminar o modificar elementos) después de crearlas."
   ]
  },
  {
   "cell_type": "code",
   "execution_count": null,
   "metadata": {
    "colab": {
     "base_uri": "https://localhost:8080/"
    },
    "id": "1x7T2P_Zwd5J",
    "outputId": "7952ec46-75d1-473b-ec6c-93367fe5b012"
   },
   "outputs": [
    {
     "data": {
      "text/plain": [
       "[1, 2, 3, 4, 5, 6, 7, 8, 9, 10]"
      ]
     },
     "execution_count": 10,
     "metadata": {},
     "output_type": "execute_result"
    }
   ],
   "source": [
    "#listas\n",
    "list_var = [1,2,3,4,5,6,7,8,9,10]\n",
    "list_var"
   ]
  },
  {
   "cell_type": "code",
   "execution_count": null,
   "metadata": {
    "colab": {
     "base_uri": "https://localhost:8080/"
    },
    "id": "_GAqUGVxjVb5",
    "outputId": "3df487bc-5cbb-43b1-976c-7def59d3aa4e"
   },
   "outputs": [
    {
     "name": "stdout",
     "output_type": "stream",
     "text": [
      "1\n",
      "10\n"
     ]
    }
   ],
   "source": [
    "#indexación\n",
    "print(list_var[0])\n",
    "print(list_var[-1])"
   ]
  },
  {
   "cell_type": "code",
   "execution_count": null,
   "metadata": {
    "colab": {
     "base_uri": "https://localhost:8080/"
    },
    "id": "MhzpZ-qsjbqQ",
    "outputId": "412a0c03-0a1a-4708-cbdb-e5c850cb6d1f"
   },
   "outputs": [
    {
     "name": "stdout",
     "output_type": "stream",
     "text": [
      "[2, 3, 4, 5, 6, 7, 8, 9]\n"
     ]
    }
   ],
   "source": [
    "#indexación con :\n",
    "print(list_var[1:-1])"
   ]
  },
  {
   "cell_type": "code",
   "execution_count": null,
   "metadata": {
    "colab": {
     "base_uri": "https://localhost:8080/"
    },
    "id": "Xjm1QpJ5N0Yj",
    "outputId": "6f94bdae-153b-4879-9de8-35deeae6482a"
   },
   "outputs": [
    {
     "name": "stdout",
     "output_type": "stream",
     "text": [
      "[2, 4, 6, 8]\n"
     ]
    }
   ],
   "source": [
    "print(list_var[1:-1:2])"
   ]
  },
  {
   "cell_type": "code",
   "execution_count": null,
   "metadata": {
    "colab": {
     "base_uri": "https://localhost:8080/"
    },
    "id": "MR3va50cPfSZ",
    "outputId": "8171ea6d-f6d0-4b47-e904-a2322ba8ae70"
   },
   "outputs": [
    {
     "data": {
      "text/plain": [
       "[1, 2, 3, 4, 5, 6, 7, 8, 9, 0]"
      ]
     },
     "execution_count": 14,
     "metadata": {},
     "output_type": "execute_result"
    }
   ],
   "source": [
    "list_var[-1] = 0\n",
    "list_var"
   ]
  },
  {
   "cell_type": "code",
   "execution_count": null,
   "metadata": {
    "colab": {
     "base_uri": "https://localhost:8080/"
    },
    "id": "NesCfX4jkB2P",
    "outputId": "5959e496-dbbf-4b5e-8932-c61016283f01"
   },
   "outputs": [
    {
     "data": {
      "text/plain": [
       "[[1, 2, 3], [10, 20, 30], [100, 200, 300]]"
      ]
     },
     "execution_count": 15,
     "metadata": {},
     "output_type": "execute_result"
    }
   ],
   "source": [
    "#listas anidadas\n",
    "nested_list = [[1,2,3],[10,20,30],[100,200,300]]\n",
    "nested_list"
   ]
  },
  {
   "cell_type": "code",
   "execution_count": null,
   "metadata": {
    "colab": {
     "base_uri": "https://localhost:8080/"
    },
    "id": "-rZ9pjBBkMyJ",
    "outputId": "2ac5bf67-9ecb-41da-f2f3-aeddc92706e1"
   },
   "outputs": [
    {
     "data": {
      "text/plain": [
       "[1, 2, 3]"
      ]
     },
     "execution_count": 16,
     "metadata": {},
     "output_type": "execute_result"
    }
   ],
   "source": [
    "nested_list[0]"
   ]
  },
  {
   "cell_type": "code",
   "execution_count": null,
   "metadata": {
    "colab": {
     "base_uri": "https://localhost:8080/"
    },
    "id": "4pPxIKBukPms",
    "outputId": "ac9cbd07-4dbb-41db-d5c0-748b1afaa5fc"
   },
   "outputs": [
    {
     "data": {
      "text/plain": [
       "2"
      ]
     },
     "execution_count": 17,
     "metadata": {},
     "output_type": "execute_result"
    }
   ],
   "source": [
    "nested_list[0][1]"
   ]
  },
  {
   "cell_type": "markdown",
   "metadata": {
    "id": "H4JL_zeASd7n"
   },
   "source": [
    "### Strings\n",
    "Un string in Python es un secuencia de caracteres, como letras, números, símbolos, o espacios. Los strings se usan para represnetar datos basados en texto y son uno de los tipos de datos más fundamentales."
   ]
  },
  {
   "cell_type": "code",
   "execution_count": null,
   "metadata": {
    "colab": {
     "base_uri": "https://localhost:8080/",
     "height": 36
    },
    "id": "WxLnM5hIwc0b",
    "outputId": "d893494d-a8e7-483e-a899-c01413452bbf"
   },
   "outputs": [
    {
     "data": {
      "application/vnd.google.colaboratory.intrinsic+json": {
       "type": "string"
      },
      "text/plain": [
       "'¡Viva México!'"
      ]
     },
     "execution_count": 18,
     "metadata": {},
     "output_type": "execute_result"
    }
   ],
   "source": [
    "string_var = \"¡Viva México!\"\n",
    "string_var"
   ]
  },
  {
   "cell_type": "code",
   "execution_count": null,
   "metadata": {
    "colab": {
     "base_uri": "https://localhost:8080/"
    },
    "id": "bOLS53S55_Um",
    "outputId": "eb5c5fd4-645f-43b4-847f-477308417cf1"
   },
   "outputs": [
    {
     "name": "stdout",
     "output_type": "stream",
     "text": [
      "!\n",
      "¡\n",
      "¡Viva México\n",
      "!ocixéM aviV\n"
     ]
    }
   ],
   "source": [
    "print(string_var[-1])\n",
    "print(string_var[0])\n",
    "print(string_var[0:-1])\n",
    "print(string_var[-1:0:-1])"
   ]
  },
  {
   "cell_type": "code",
   "execution_count": null,
   "metadata": {
    "colab": {
     "base_uri": "https://localhost:8080/"
    },
    "id": "HDek51mHSos7",
    "outputId": "c6c1f8d5-2603-4a8b-a8e1-491ca6ee0765"
   },
   "outputs": [
    {
     "data": {
      "text/plain": [
       "[1, 2, 3, 4, 'Viva', 'México', '!']"
      ]
     },
     "execution_count": 20,
     "metadata": {},
     "output_type": "execute_result"
    }
   ],
   "source": [
    "# ¿Puedo crear listas de strings y números a la vez?\n",
    "mixed_list = [1,2,3,4,\"Viva\", \"México\",\"!\"]\n",
    "mixed_list"
   ]
  },
  {
   "cell_type": "markdown",
   "metadata": {
    "id": "W_wSZwsTRgv0"
   },
   "source": [
    "### Tuplas\n",
    "Una tupla en Python es una estructura de datos que es similar a una lista en que puede almacenar una colección de elementos. Al igual que las listas, las tuplas son colecciones ordenadas, lo que significa que se mantiene el orden de los elementos de una tupla.\n",
    "\n",
    "La principal diferencia entre las tuplas y las listas es que las tuplas son inmutables. Esto significa que una vez creada una tupla, no se puede cambiar su contenido (añadir, eliminar o modificar elementos). En cambio, las listas son mutables, lo que permite modificar sus elementos.\n",
    "\n"
   ]
  },
  {
   "cell_type": "code",
   "execution_count": null,
   "metadata": {
    "colab": {
     "base_uri": "https://localhost:8080/"
    },
    "id": "QiKM_u7uwfiX",
    "outputId": "e4b873a1-54b7-43e5-8e7b-b3e8bbe2b535"
   },
   "outputs": [
    {
     "data": {
      "text/plain": [
       "(1, 2, 3, 4, 5, 6, 7, 8, 9, 10)"
      ]
     },
     "execution_count": 21,
     "metadata": {},
     "output_type": "execute_result"
    }
   ],
   "source": [
    "tuple_var = (1,2,3,4,5,6,7,8,9,10)\n",
    "tuple_var"
   ]
  },
  {
   "cell_type": "code",
   "execution_count": null,
   "metadata": {
    "colab": {
     "base_uri": "https://localhost:8080/",
     "height": 192
    },
    "id": "DNVG7e_UPukV",
    "outputId": "e43e45a4-9388-47a7-c925-25c5ee0e394e"
   },
   "outputs": [
    {
     "ename": "TypeError",
     "evalue": "ignored",
     "output_type": "error",
     "traceback": [
      "\u001b[0;31m---------------------------------------------------------------------------\u001b[0m",
      "\u001b[0;31mTypeError\u001b[0m                                 Traceback (most recent call last)",
      "\u001b[0;32m<ipython-input-22-56b75fbe19a6>\u001b[0m in \u001b[0;36m<cell line: 1>\u001b[0;34m()\u001b[0m\n\u001b[0;32m----> 1\u001b[0;31m \u001b[0mtuple_var\u001b[0m\u001b[0;34m[\u001b[0m\u001b[0;34m-\u001b[0m\u001b[0;36m1\u001b[0m\u001b[0;34m]\u001b[0m \u001b[0;34m=\u001b[0m \u001b[0;36m0\u001b[0m\u001b[0;34m\u001b[0m\u001b[0;34m\u001b[0m\u001b[0m\n\u001b[0m\u001b[1;32m      2\u001b[0m \u001b[0mtuple_var\u001b[0m\u001b[0;34m\u001b[0m\u001b[0;34m\u001b[0m\u001b[0m\n",
      "\u001b[0;31mTypeError\u001b[0m: 'tuple' object does not support item assignment"
     ]
    }
   ],
   "source": [
    "tuple_var[-1] = 0\n",
    "tuple_var"
   ]
  },
  {
   "cell_type": "code",
   "execution_count": null,
   "metadata": {
    "colab": {
     "base_uri": "https://localhost:8080/"
    },
    "id": "pAXv_JpueMK5",
    "outputId": "529a83ca-a8f8-4fb2-e605-ab69eb1db9fd"
   },
   "outputs": [
    {
     "data": {
      "text/plain": [
       "[1, 2, 3, 4, 5, 6, 7, 8, 9, 10]"
      ]
     },
     "execution_count": 23,
     "metadata": {},
     "output_type": "execute_result"
    }
   ],
   "source": [
    "tuple_var = list(tuple_var)\n",
    "tuple_var"
   ]
  },
  {
   "cell_type": "code",
   "execution_count": null,
   "metadata": {
    "colab": {
     "base_uri": "https://localhost:8080/"
    },
    "id": "sSjt_wy8eRap",
    "outputId": "90123dd2-c4ef-4809-9347-f05c63ae12f7"
   },
   "outputs": [
    {
     "data": {
      "text/plain": [
       "(1, 2, 3, 4, 5, 6, 7, 8, 9, 10)"
      ]
     },
     "execution_count": 24,
     "metadata": {},
     "output_type": "execute_result"
    }
   ],
   "source": [
    "tuple_var = tuple(tuple_var)\n",
    "tuple_var"
   ]
  },
  {
   "cell_type": "markdown",
   "metadata": {
    "id": "mNuz_LTgQwyj"
   },
   "source": [
    "### Diccionario\n",
    "\n",
    "Un diccionario en Python es una estructura de datos que almacena una colección de datos como pares clave-valor. A veces también se denomina \"dict\". Los diccionarios son increíblemente útiles porque te permiten asociar un valor (la parte \"valor\" del par clave-valor) con un identificador único (la parte \"clave\" del par clave-valor). Piensa en un diccionario como en un diccionario del mundo real, donde las palabras (claves) están asociadas a sus significados (valores).\n",
    "\n",
    "Los diccionarios son versátiles y pueden almacenar una amplia gama de tipos de datos como valores, incluidos números, cadenas, listas e incluso otros diccionarios. Las claves de un diccionario deben ser únicas, es decir, no puede haber dos claves idénticas en el mismo diccionario."
   ]
  },
  {
   "cell_type": "code",
   "execution_count": null,
   "metadata": {
    "colab": {
     "base_uri": "https://localhost:8080/"
    },
    "id": "1LoQaQR5wgET",
    "outputId": "c5378c78-b57f-4c60-b466-a9ca9cf2963c"
   },
   "outputs": [
    {
     "name": "stdout",
     "output_type": "stream",
     "text": [
      "{'nombre': 'Gerardo', 'apellido': 'gutiérrez'}\n",
      "Gerardo\n"
     ]
    }
   ],
   "source": [
    "dict_var = {\"nombre\": \"Gerardo\", \"apellido\":\"gutiérrez\"}\n",
    "print(dict_var)\n",
    "print(dict_var[\"nombre\"])"
   ]
  },
  {
   "cell_type": "code",
   "execution_count": null,
   "metadata": {
    "colab": {
     "base_uri": "https://localhost:8080/"
    },
    "id": "EouMHkgHPt4a",
    "outputId": "fb379815-16ca-4183-9fba-03b93852d574"
   },
   "outputs": [
    {
     "name": "stdout",
     "output_type": "stream",
     "text": [
      "gutierrez\n"
     ]
    }
   ],
   "source": [
    "dict_var = {\"nombre\": \"Gerardo\", \"apellidos\":[\"gutiérrez\", \"gutierrez\"]}\n",
    "print(dict_var[\"apellidos\"][-1])"
   ]
  },
  {
   "cell_type": "code",
   "execution_count": null,
   "metadata": {
    "colab": {
     "base_uri": "https://localhost:8080/"
    },
    "id": "8D-ntlksNM9L",
    "outputId": "630bbf58-d712-4149-e738-16c25482f498"
   },
   "outputs": [
    {
     "data": {
      "text/plain": [
       "{'nombre': 'Gerardo', 'apellidos': ['gutiérrez', 'gutiérrez']}"
      ]
     },
     "execution_count": 27,
     "metadata": {},
     "output_type": "execute_result"
    }
   ],
   "source": [
    "dict_var[\"apellidos\"][-1] = \"gutiérrez\"\n",
    "dict_var"
   ]
  },
  {
   "cell_type": "code",
   "execution_count": null,
   "metadata": {
    "colab": {
     "base_uri": "https://localhost:8080/"
    },
    "id": "3cX03eWNNND-",
    "outputId": "39ac23a2-d434-4d54-96df-e0e69fa4ad24"
   },
   "outputs": [
    {
     "data": {
      "text/plain": [
       "{'nombre': 'Gerardo',\n",
       " 'apellidos': ['gutiérrez', 'gutiérrez'],\n",
       " 'experiencia': {'udea': {'cargo': 'desarrollador',\n",
       "   'fecha_inicio': 2020,\n",
       "   'fecha_final': None},\n",
       "  'itm': {'cargo': 'desarrollador',\n",
       "   'fecha_inicio': 2014,\n",
       "   'fecha_final': 2018}}}"
      ]
     },
     "execution_count": 28,
     "metadata": {},
     "output_type": "execute_result"
    }
   ],
   "source": [
    "dict_var[\"experiencia\"] = {\n",
    "    \"udea\":{\n",
    "        \"cargo\":\"desarrollador\",\n",
    "        \"fecha_inicio\":2020,\n",
    "        \"fecha_final\":None\n",
    "    },\n",
    "    \"itm\": {\n",
    "        \"cargo\":\"administrador hpc\",\n",
    "        \"fecha_inicio\":2018,\n",
    "        \"fecha_final\":2020\n",
    "    },\n",
    "    \"itm\":{\n",
    "        \"cargo\": \"desarrollador\",\n",
    "        \"fecha_inicio\":2014,\n",
    "        \"fecha_final\":2018\n",
    "    }\n",
    "}\n",
    "dict_var"
   ]
  },
  {
   "cell_type": "code",
   "execution_count": null,
   "metadata": {
    "colab": {
     "base_uri": "https://localhost:8080/"
    },
    "id": "XvAo36wU9av2",
    "outputId": "f35c90a4-2464-4841-879b-b3e9bd8bb647"
   },
   "outputs": [
    {
     "data": {
      "text/plain": [
       "{'nombre': 'Gerardo',\n",
       " 'apellidos': ['gutiérrez', 'gutiérrez'],\n",
       " 'experiencia': [{'empresa': 'udea',\n",
       "   'cargo': 'desarrollador',\n",
       "   'fecha_inicio': 2020,\n",
       "   'fecha_final': None},\n",
       "  {'empresa': 'itm',\n",
       "   'cargo': 'administrador hpc',\n",
       "   'fecha_inicio': 2018,\n",
       "   'fecha_final': 2020},\n",
       "  {'empresa': 'itm',\n",
       "   'cargo': 'desarrollador',\n",
       "   'fecha_inicio': 2014,\n",
       "   'fecha_final': 2018}]}"
      ]
     },
     "execution_count": 29,
     "metadata": {},
     "output_type": "execute_result"
    }
   ],
   "source": [
    "# ¿Cómo podemos repetir la llave?\n",
    "# Usando una lista en vez de un diccionario\n",
    "dict_var[\"experiencia\"] = [\n",
    "    {\n",
    "        \"empresa\":\"udea\",\n",
    "        \"cargo\":\"desarrollador\",\n",
    "        \"fecha_inicio\":2020,\n",
    "        \"fecha_final\":None\n",
    "    },\n",
    "    {\n",
    "        \"empresa\": \"itm\",\n",
    "        \"cargo\": \"administrador hpc\",\n",
    "        \"fecha_inicio\": 2018,\n",
    "        \"fecha_final\": 2020\n",
    "    },\n",
    "    {\n",
    "        \"empresa\":\"itm\",\n",
    "        \"cargo\": \"desarrollador\",\n",
    "        \"fecha_inicio\":2014,\n",
    "        \"fecha_final\":2018\n",
    "    }\n",
    "]\n",
    "dict_var"
   ]
  },
  {
   "cell_type": "markdown",
   "metadata": {
    "id": "3eByNOYSwkjY"
   },
   "source": [
    "### Operaciones sobre las variables"
   ]
  },
  {
   "cell_type": "code",
   "execution_count": null,
   "metadata": {
    "colab": {
     "base_uri": "https://localhost:8080/"
    },
    "id": "saKesS6Uwwm6",
    "outputId": "2fa226a2-d468-4f86-ca4c-ab7db6ecd784"
   },
   "outputs": [
    {
     "name": "stdout",
     "output_type": "stream",
     "text": [
      "3\n",
      "12\n",
      "13\n",
      "144\n"
     ]
    }
   ],
   "source": [
    "#operaciones con variables numéricas\n",
    "print( 1 + 2 )\n",
    "print( num_var )\n",
    "print( num_var + 1 )\n",
    "print( num_var**2 )"
   ]
  },
  {
   "cell_type": "code",
   "execution_count": null,
   "metadata": {
    "colab": {
     "base_uri": "https://localhost:8080/"
    },
    "id": "rBS_CJM2w0s2",
    "outputId": "28137eaf-a255-4c82-ece5-bbc51fef7fde"
   },
   "outputs": [
    {
     "name": "stdout",
     "output_type": "stream",
     "text": [
      "[0, 0, 0, 0, 0, 0, 0, 0, 0, 0]\n",
      "[1, 2, 3, 4, 5, 6, 7, 8, 9, 0]\n",
      "[1, 2, 3, 4, 5, 6, 7, 8, 9, 0, 1, 2, 3, 4, 5, 6, 7, 8, 9, 0]\n",
      "[0, 1, 2, 3, 4, 5, 6, 7, 8, 9]\n"
     ]
    }
   ],
   "source": [
    "#operaciones con listas\n",
    "print( [0] * 10 )\n",
    "print( list_var )\n",
    "print( list_var * 2 )\n",
    "print( [0] + list_var[:-1])"
   ]
  },
  {
   "cell_type": "code",
   "execution_count": null,
   "metadata": {
    "colab": {
     "base_uri": "https://localhost:8080/"
    },
    "id": "2G7NG_XqwzPl",
    "outputId": "724e21f7-5848-4ad8-8ef4-018a52398049"
   },
   "outputs": [
    {
     "name": "stdout",
     "output_type": "stream",
     "text": [
      "¡Viva México!\n",
      "¡Viva México! ¡Viva México! ¡Viva México! ¡Viva México! ¡Viva México! ¡Viva México! ¡Viva México! ¡Viva México! ¡Viva México! ¡Viva México! \n"
     ]
    }
   ],
   "source": [
    "#operaciones con strings\n",
    "print( \"¡Viva \" + \"México!\" )\n",
    "print( (string_var + \" \") * 10)"
   ]
  },
  {
   "cell_type": "code",
   "execution_count": null,
   "metadata": {
    "colab": {
     "base_uri": "https://localhost:8080/"
    },
    "id": "YTM5MCWFNe6y",
    "outputId": "f23aa353-8bf9-4922-85a5-5e139e08340c"
   },
   "outputs": [
    {
     "name": "stdout",
     "output_type": "stream",
     "text": [
      "2\n",
      "1\n",
      "1\n",
      "1\n"
     ]
    }
   ],
   "source": [
    "#operaciones con booleanos\n",
    "print( True + True )\n",
    "print( True + False )\n",
    "print( True * True )\n",
    "print( False**False )"
   ]
  },
  {
   "cell_type": "code",
   "execution_count": null,
   "metadata": {
    "colab": {
     "base_uri": "https://localhost:8080/"
    },
    "id": "bb9AbFtTBBAO",
    "outputId": "16f41eed-9c5a-4160-ea03-0690704be36c"
   },
   "outputs": [
    {
     "name": "stdout",
     "output_type": "stream",
     "text": [
      "False\n",
      "False\n",
      "True\n"
     ]
    }
   ],
   "source": [
    "#operaciones lógicas\n",
    "print( not True )\n",
    "print( True and False )\n",
    "print( True or False )"
   ]
  }
 ],
 "metadata": {
  "colab": {
   "authorship_tag": "ABX9TyNH61q8Bx0ffq7gQe1iFN4h",
   "include_colab_link": true,
   "mount_file_id": "1pjUffhrvv-KLy37VjdlpuayH37fmjzPA",
   "provenance": []
  },
  "kernelspec": {
   "display_name": "Python 3 (ipykernel)",
   "language": "python",
   "name": "python3"
  },
  "language_info": {
   "codemirror_mode": {
    "name": "ipython",
    "version": 3
   },
   "file_extension": ".py",
   "mimetype": "text/x-python",
   "name": "python",
   "nbconvert_exporter": "python",
   "pygments_lexer": "ipython3",
   "version": "3.10.12"
  }
 },
 "nbformat": 4,
 "nbformat_minor": 4
}
