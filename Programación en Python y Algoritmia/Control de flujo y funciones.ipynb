{
 "cells": [
  {
   "cell_type": "markdown",
   "id": "fc790bb3-be25-41c8-ab76-31b749b55078",
   "metadata": {},
   "source": [
    "## Control de flujo\n",
    "\n",
    "El control de flujo en programación se refiere a los mecanismos y estructuras que permiten dictar el orden en el que se ejecutan las instrucciones o sentencias en un programa. Permite tomar decisiones, repetir tareas y controlar el flujo general de la ejecución de tu programa."
   ]
  },
  {
   "cell_type": "markdown",
   "id": "2ef95c08-f755-4aca-9684-e9e10d632b8b",
   "metadata": {},
   "source": [
    "### ¿Qué es una función?\n",
    "\n",
    "Una función en Python es como una receta o un conjunto de instrucciones que puedes dar al ordenador para que realice una tarea específica. Al igual que en la cocina, donde tienes una receta que te dice cómo hacer un plato en particular, una función en Python es un bloque de código con nombre que hace algo específico cuando lo \"llamas\".\n",
    "\n",
    "Imagina que tienes una caja (la función), y le das algunos ingredientes (entrada), y te da un plato (salida) a cambio. No necesitas saber cómo funciona la caja por dentro; sólo necesitas saber qué ingredientes darle y qué obtendrás a cambio."
   ]
  },
  {
   "cell_type": "markdown",
   "id": "a5adc74b-13c4-46fc-ae6b-64d41e9d40db",
   "metadata": {},
   "source": [
    "#### funciones intrínsicas ( built-in )\n",
    "\n",
    "Las funciones intrínsicas son funciones predefinidas que forman parte del núcleo del lenguaje Python y están siempre disponibles para su uso sin necesidad de importaciones o instalaciones adicionales. Estas funciones sirven para varios propósitos y proporcionan una funcionalidad esencial para realizar tareas comunes en programación. Las funciones integradas de Python cubren una amplia gama de operaciones, incluyendo la manipulación de datos, entrada/salida, cálculos matemáticos y más.\n",
    "\n",
    "Aquí hay algunas categorías de funciones incorporadas comunes en Python:\n",
    "\n",
    "* Funciones de entrada y salida:\n",
    "  * print(): Envía texto o datos a la consola.\n",
    "  * input(): Lee la entrada del usuario desde el teclado.\n",
    "\n",
    "* Funciones de conversión de tipos:\n",
    "  * int(): Convierte un valor en un entero.\n",
    "  * float(): Convierte un valor en un número de coma flotante.\n",
    "  * str(): Convierte un valor en una cadena.\n",
    "  * list(): Convierte un iterable en una lista.\n",
    "  * tuple(): Convierte un iterable en una tupla.\n",
    "  * dict(): Convierte un iterable de pares clave-valor en un diccionario.\n",
    "\n",
    "* Funciones matemáticas:\n",
    "  * abs(): Devuelve el valor absoluto de un número.\n",
    "  * max(): Devuelve el valor máximo de una secuencia.\n",
    "  * min(): Devuelve el valor mínimo de una secuencia.\n",
    "  * pow(): Eleva un número a una potencia especificada.\n",
    "  * round(): Redondea un número a un número especificado de decimales.\n",
    "  * sum(): Devuelve la suma de todos los elementos de un iterable.\n",
    "\n",
    "* Funciones de cadenas de caracteres:\n",
    "  * len(): Devuelve la longitud (número de caracteres) de una cadena.\n",
    "  * str.upper(): Convierte una cadena a mayúsculas.\n",
    "  * str.lower(): Convierte una cadena a minúsculas.\n",
    "  * str.capitalize(): Pone en mayúscula el primer carácter de una cadena.\n",
    "  * str.split(): Divide una cadena en una lista de subcadenas en función de un delimitador.\n",
    "  * str.join(): Une una lista de cadenas en una sola cadena utilizando un delimitador.\n",
    "\n",
    "* Funciones de listas:\n",
    "  * len(): Devuelve el número de elementos de una\n",
    "  * list.append(): Añade un elemento al final de una lista.\n",
    "  * list.pop(): Elimina y devuelve el último elemento de una lista.\n",
    "  * list.sort(): Ordena los elementos de una lista.\n",
    "  * list.reverse(): Invierte el orden de los elementos de una lista.\n",
    "\n",
    "* Funciones de entrada/salida de ficheros:\n",
    "  * open(): Abre un fichero para leer, escribir o añadir.\n",
    "  * file.read(): Lee el contenido de un fichero.\n",
    "  * file.write(): Escribe datos en un fichero.\n",
    "  * file.close(): Cierra un fichero abierto.\n",
    "\n",
    "* Funciones lógicas y de comparación:\n",
    "  * bool(): Convierte un valor en booleano (Verdadero o Falso).\n",
    "  * type(): Devuelve el tipo de datos de un valor.\n",
    "  * isinstance(): Comprueba si un objeto es una instancia de una clase o tipo de datos especificado.\n",
    "  * all(): Devuelve True si todos los elementos de un iterable son True.\n",
    "  * any(): Devuelve True si al menos un elemento de un iterable es True.\n",
    "* Otras funciones comunes:\n",
    "  * range(): Genera una secuencia de números.\n",
    "  * enumerate(): Devuelve un iterador que empareja cada elemento de un iterable con su índice.\n",
    "  * zip(): Combina múltiples iterables en tuplas.\n",
    "\n",
    "https://docs.python.org/3/library/functions.html"
   ]
  },
  {
   "cell_type": "code",
   "execution_count": 3,
   "id": "aa97b8c1-6ac2-482c-b405-489f49bd1eb4",
   "metadata": {},
   "outputs": [],
   "source": [
    "list_var = [1,2,3,4,5,\"Hola\"]\n",
    "dict_var = {\"nombre\": \"Gerardo\", \"apellidos\":[\"gutiérrez\", \"gutierrez\"]}\n",
    "dict_var[\"experiencia\"] = {\n",
    "    \"udea\":{\n",
    "        \"cargo\":\"desarrollador\",\n",
    "        \"fecha_inicio\":2020,\n",
    "        \"fecha_final\":None\n",
    "    },\n",
    "    \"itm\": {\n",
    "        \"cargo\":\"administrador hpc\",\n",
    "        \"fecha_inicio\":2018,\n",
    "        \"fecha_final\":2020\n",
    "    },\n",
    "    \"itm\":{\n",
    "        \"cargo\": \"desarrollador\",\n",
    "        \"fecha_inicio\":2014,\n",
    "        \"fecha_final\":2018\n",
    "    }\n",
    "}"
   ]
  },
  {
   "cell_type": "code",
   "execution_count": 5,
   "id": "e36f3ee4-49f1-477d-adad-b73094d39950",
   "metadata": {},
   "outputs": [
    {
     "name": "stdout",
     "output_type": "stream",
     "text": [
      "8\n",
      "6\n",
      "<class 'dict'>\n",
      "True\n",
      "False\n",
      "True\n"
     ]
    }
   ],
   "source": [
    "print( pow(2,3) ) # potenciación\n",
    "print( len(list_var) ) # longitud de una lista\n",
    "print( type( dict_var ) ) # typo de variable \n",
    "print( isinstance(dict_var,dict) ) # valor booleano para saber si la variable es de un tipo de dato específico\n",
    "print( any( [0]*10 ) ) # si hay por lo menos algún valor True (1)\n",
    "print( any( [0]*10+[1] ))"
   ]
  },
  {
   "cell_type": "code",
   "execution_count": 6,
   "id": "de7fda64-3cc3-4701-98c7-179d265b553c",
   "metadata": {},
   "outputs": [
    {
     "name": "stdout",
     "output_type": "stream",
     "text": [
      "GUTIÉRREZ GUTIÉRREZ, GERARDO\n",
      "['gutiérrez gutiérrez', 'gerardo']\n",
      "Gerardo gutiérrez gutiérrez\n"
     ]
    }
   ],
   "source": [
    "nombre = \"gutiérrez gutiérrez, gerardo\"\n",
    "print( nombre.upper() ) # Vuelve todos los caracteres en mayúsculas\n",
    "print( nombre.split(\", \") ) # Separa la cadena caracteres en elementos de una lista de acuerdo al argumento\n",
    "lista_nombre = nombre.split(\", \")\n",
    "lista_nombre.reverse() # invierte la lista\n",
    "print( \" \".join(lista_nombre).capitalize() ) #join une una lista en una cadena de caracteres capitalize pone la primera letra en mayúscula"
   ]
  },
  {
   "cell_type": "code",
   "execution_count": 7,
   "id": "fe0f5eab-8a81-4e5c-abd6-732a5c195cc3",
   "metadata": {},
   "outputs": [
    {
     "name": "stdout",
     "output_type": "stream",
     "text": [
      "dict_keys(['nombre', 'apellidos', 'experiencia'])\n",
      "dict_values(['Gerardo', ['gutiérrez', 'gutierrez'], {'udea': {'cargo': 'desarrollador', 'fecha_inicio': 2020, 'fecha_final': None}, 'itm': {'cargo': 'desarrollador', 'fecha_inicio': 2014, 'fecha_final': 2018}}])\n",
      "dict_items([('nombre', 'Gerardo'), ('apellidos', ['gutiérrez', 'gutierrez']), ('experiencia', {'udea': {'cargo': 'desarrollador', 'fecha_inicio': 2020, 'fecha_final': None}, 'itm': {'cargo': 'desarrollador', 'fecha_inicio': 2014, 'fecha_final': 2018}})])\n"
     ]
    }
   ],
   "source": [
    "print( dict_var.keys() ) # Entrega las llaves de un diccionario\n",
    "print( dict_var.values() ) # Entrega los vallores de cada llave del diccionario\n",
    "print( dict_var.items() ) # entrega una secuencia de tuplas (llave, valor)"
   ]
  },
  {
   "cell_type": "markdown",
   "id": "73e98b06-ca89-4256-9d40-452386391ad4",
   "metadata": {},
   "source": [
    "**Las funciones** son una parte fundamental del desarrollo de software porque promueven las siguientes características:\n",
    "\n",
    "* **Modularidad:** Las funciones permiten dividir un programa complejo en partes más pequeñas y manejables. Cada función puede centrarse en una tarea u operación específica, haciendo que el código esté más organizado y sea más fácil de entender.\n",
    "\n",
    "* **Reutilización:** Una vez escrita una función, puede utilizarla tantas veces como sea necesario a lo largo de su programa o incluso en otros programas.\n",
    "\n",
    "* **Abstracción:** Las funciones ocultan los detalles de implementación de una tarea u operación. Cuando se llama a una función, no es necesario saber cómo funciona internamente; basta con saber qué hace y qué entradas necesita.\n",
    "\n",
    "* **Facilidad de lectura:** Las funciones bien nombradas proporcionan nombres significativos para operaciones específicas, haciendo el código más autoexplicativo y legible.\n",
    "\n",
    "* **Pruebas y depuración:** Las funciones facilitan la comprobación y depuración del código. Puede aislar funciones individuales y probarlas de forma independiente, asegurándose de que funcionan correctamente antes de integrarlas en el programa más amplio. Si se produce un error, las funciones ayudan a localizar y solucionar el problema de forma más eficaz.\n",
    "\n",
    "* **Colaboración:** Cuando se trabaja en un proyecto con otros programadores, las funciones permiten dividir el trabajo. Cada miembro del equipo puede centrarse en implementar funciones específicas, y el código base puede integrarse sin problemas.\n",
    "\n",
    "* **Mantenimiento:** A medida que el software evoluciona, los cambios y actualizaciones son inevitables. Las funciones facilitan la identificación y actualización de partes específicas del código base sin afectar a otras partes.\n",
    "\n",
    "* **Organización del código:** Las funciones ayudan a estructurar el código de forma lógica. Cuando las funciones se clasifican y organizan adecuadamente, es más fácil localizar y modificar partes específicas del código.\n",
    "\n",
    "* **Eficiencia:** El código repetido (duplicación de código) es propenso a errores e ineficiente. Las funciones permiten escribir código una vez y utilizarlo varias veces, reduciendo la redundancia y garantizando la coherencia.\n",
    "\n",
    "* **Documentación:** Las funciones fomentan el uso de docstrings y comentarios, que documentan el propósito, los parámetros y el comportamiento esperado del código. Esta documentación ayuda tanto a los programadores como a los usuarios a entender cómo utilizar correctamente las funciones."
   ]
  },
  {
   "cell_type": "code",
   "execution_count": 8,
   "id": "18d04693-a5a2-4a54-9b8e-cf6da6e6b2d5",
   "metadata": {},
   "outputs": [],
   "source": [
    "def saludo(): #definición de la función\n",
    "  print(\"¡Buenos días!\")"
   ]
  },
  {
   "cell_type": "code",
   "execution_count": 9,
   "id": "ded7e188-5f24-4c30-bd80-7962824a185a",
   "metadata": {},
   "outputs": [
    {
     "name": "stdout",
     "output_type": "stream",
     "text": [
      "¡Buenos días!\n"
     ]
    }
   ],
   "source": [
    "#uso de la función\n",
    "saludo()"
   ]
  },
  {
   "cell_type": "code",
   "execution_count": 10,
   "id": "594a7165-dbbf-48f4-ac02-2764f47a0635",
   "metadata": {},
   "outputs": [],
   "source": [
    "#Función con argumentos\n",
    "def saludo(nombre):\n",
    "  print(\"Buenos días, \"+nombre+\".\")"
   ]
  },
  {
   "cell_type": "code",
   "execution_count": 11,
   "id": "ab3a963d-c658-4028-8399-424961c09733",
   "metadata": {},
   "outputs": [
    {
     "name": "stdout",
     "output_type": "stream",
     "text": [
      "Buenos días, Gerardo.\n"
     ]
    }
   ],
   "source": [
    "saludo(\"Gerardo\")"
   ]
  },
  {
   "cell_type": "code",
   "execution_count": 12,
   "id": "8f349c09-2e8f-477e-a78d-bfd025e1d936",
   "metadata": {},
   "outputs": [],
   "source": [
    "#función con argumento por defecto\n",
    "def saludo(nombre=\"Fulano\"):\n",
    "  print(\"Buenos días, \"+nombre+\".\")"
   ]
  },
  {
   "cell_type": "code",
   "execution_count": 13,
   "id": "354cbaba-8b96-43c5-9faf-3fe313d5d94f",
   "metadata": {},
   "outputs": [
    {
     "name": "stdout",
     "output_type": "stream",
     "text": [
      "Buenos días, Fulano.\n",
      "Buenos días, Gerardo.\n"
     ]
    }
   ],
   "source": [
    "saludo()\n",
    "saludo(\"Gerardo\")"
   ]
  },
  {
   "cell_type": "code",
   "execution_count": 14,
   "id": "c352e122-7f27-4dac-a072-2d12b3355551",
   "metadata": {},
   "outputs": [],
   "source": [
    "#función con retorno\n",
    "def comparar_nombres(nombre1,nombre2):# si los nombres son iguales retorna un True\n",
    "  return nombre1.lower() == nombre2.lower()"
   ]
  },
  {
   "cell_type": "code",
   "execution_count": 15,
   "id": "192cd58a-2d18-41fd-80ed-9a87568eaf7e",
   "metadata": {},
   "outputs": [
    {
     "data": {
      "text/plain": [
       "False"
      ]
     },
     "execution_count": 15,
     "metadata": {},
     "output_type": "execute_result"
    }
   ],
   "source": [
    "comparar_nombres(\"Gerardo\",\"Alberto\")"
   ]
  },
  {
   "cell_type": "code",
   "execution_count": 17,
   "id": "54aa421f-39de-4421-baf8-28b56dbe581e",
   "metadata": {},
   "outputs": [
    {
     "name": "stdout",
     "output_type": "stream",
     "text": [
      "Gutierrez, Gerardo\n",
      "Gerardo Gutierrez\n"
     ]
    }
   ],
   "source": [
    "#alcance (scope) de las variables\n",
    "nombre =  \"Gerardo Gutierrez\"\n",
    "\n",
    "def cambiar_nombre(nombre=\"Fulano\"):\n",
    "  nombre = nombre.split()\n",
    "  nombre.reverse()\n",
    "  nombre = \", \".join(nombre)\n",
    "  return nombre\n",
    "\n",
    "print(cambiar_nombre(nombre))\n",
    "print(nombre)\n",
    "# ¿Qué pasa con la variable nombre antes de la definición de la función?\n",
    "# ¿Qué pasa con la variable nombre durante de la definición de la función?\n",
    "# ¿Qué pasa con la variable nombre luego del llamado a la función?"
   ]
  },
  {
   "cell_type": "markdown",
   "id": "c8e71a8e-9c3b-499a-932d-91b111a762a5",
   "metadata": {},
   "source": [
    "### Ciclos y condicionales\n",
    "\n",
    "En programación, los **bucles o ciclos** son estructuras de control que permiten ejecutar repetidamente un bloque de código mientras se cumpla una determinada condición. Permiten automatizar tareas repetitivas e iterar sobre colecciones de datos. Entre los tipos más comunes de bucles se incluyen los bucles for, que iteran sobre una secuencia, y los bucles while, que repiten código hasta que una condición se convierte en falsa. Los bucles son esenciales para tareas como el procesamiento de listas, la búsqueda de datos, la realización de cálculos y la implementación de algoritmos iterativos.\n",
    "\n",
    "Los **condicionales** se refieren a estructuras de control que permiten tomar decisiones basadas en condiciones o criterios específicos. Permiten ejecutar diferentes bloques de código dependiendo de si una condición dada es verdadera o falsa. Las construcciones condicionales más comunes son las sentencias if, elif (else if) y else, así como las expresiones ternarias. Las condicionales desempeñan un papel crucial en el control del flujo de un programa y se utilizan para tareas como la ramificación, la gestión de errores y la respuesta a las entradas del usuario."
   ]
  },
  {
   "cell_type": "code",
   "execution_count": 18,
   "id": "996a06f3-a9e5-49a3-ab13-3f918cb65a4b",
   "metadata": {},
   "outputs": [
    {
     "name": "stdout",
     "output_type": "stream",
     "text": [
      "0\n",
      "1\n",
      "4\n",
      "9\n",
      "16\n",
      "25\n",
      "36\n",
      "49\n",
      "64\n"
     ]
    }
   ],
   "source": [
    "for item in [0,1,2,3,4,5,6,7,8]:\n",
    "  print( item ** 2 )"
   ]
  },
  {
   "cell_type": "markdown",
   "id": "b9c91e02-4eb3-47de-b681-74ed906bcb65",
   "metadata": {},
   "source": [
    "Un **bloque de código** es un grupo de sentencias que se agrupan en función de su nivel de indentación. Python utiliza la sangría para definir el alcance y la estructura de los bloques de código, en lugar de utilizar llaves u otros delimitadores como otros lenguajes de programación."
   ]
  },
  {
   "cell_type": "code",
   "execution_count": 19,
   "id": "17b662bc-a437-454b-937f-1b0ea03c7bb8",
   "metadata": {},
   "outputs": [
    {
     "name": "stdout",
     "output_type": "stream",
     "text": [
      "-1\n",
      "-2\n",
      "-3\n",
      "-4\n",
      "-2\n",
      "-4\n",
      "-6\n",
      "-8\n",
      "-3\n",
      "-6\n",
      "-9\n",
      "-12\n",
      "-4\n",
      "-8\n",
      "-12\n",
      "-16\n"
     ]
    }
   ],
   "source": [
    "#Podemos introducir cualquier tipo de instrucción dentro del ciclo, por ejemplo otro ciclo\n",
    "for item1 in [1,2,3,4]:\n",
    "  for item2 in [-1,-2,-3,-4]:\n",
    "    print( item1 * item2 )"
   ]
  },
  {
   "cell_type": "markdown",
   "id": "7d4b3b1c-574c-4003-a56b-b1717e59c63a",
   "metadata": {},
   "source": [
    "Los **iteradores** son objetos de Python que permiten recorrer o iterar sobre una colección de elementos de uno en uno. Se utilizan comúnmente con secuencias como listas, tuplas, cadenas y otros objetos iterables. El propósito principal de los iteradores es proporcionar una forma de acceder a los elementos de una colección secuencialmente sin necesidad de conocer la estructura de datos subyacente."
   ]
  },
  {
   "cell_type": "code",
   "execution_count": 20,
   "id": "a9947261-714a-4f48-bf8e-6314e03c147e",
   "metadata": {},
   "outputs": [
    {
     "data": {
      "text/plain": [
       "True"
      ]
     },
     "execution_count": 20,
     "metadata": {},
     "output_type": "execute_result"
    }
   ],
   "source": [
    "#Para saber si un tipo de datos o variable se puede iterar\n",
    "hasattr(range(10),'__iter__')"
   ]
  },
  {
   "cell_type": "code",
   "execution_count": 21,
   "id": "4d78a7b4-17e8-4ff0-88b1-8d6a304df073",
   "metadata": {},
   "outputs": [
    {
     "name": "stdout",
     "output_type": "stream",
     "text": [
      "0\n",
      "1\n",
      "4\n",
      "9\n",
      "16\n",
      "25\n",
      "36\n",
      "49\n",
      "64\n"
     ]
    }
   ],
   "source": [
    "for item in range(9):\n",
    "  print( item ** 2 )"
   ]
  },
  {
   "cell_type": "code",
   "execution_count": 22,
   "id": "5521a082-d34c-4f92-a723-32fa03f287f1",
   "metadata": {},
   "outputs": [
    {
     "name": "stdout",
     "output_type": "stream",
     "text": [
      "¿La función keys de un diccionario es un iterable?  True\n",
      "Imprimamos los tipos de variables que contiene el diccionario inicial\n",
      "nombre\n",
      "<class 'str'> 7\n",
      "apellidos\n",
      "<class 'list'> 2\n",
      "experiencia\n",
      "<class 'dict'> 2\n"
     ]
    }
   ],
   "source": [
    "print( \"¿La función keys de un diccionario es un iterable? \",hasattr(dict_var.keys(),'__iter__') )\n",
    "\n",
    "print(\"Imprimamos los tipos de variables que contiene el diccionario inicial\")\n",
    "for llave in dict_var.keys():\n",
    "  print( llave )\n",
    "  print( type( dict_var[llave] ), len( dict_var[llave] ) )"
   ]
  },
  {
   "cell_type": "code",
   "execution_count": 23,
   "id": "19991b3b-dc20-4676-8c47-9aec4227f270",
   "metadata": {},
   "outputs": [
    {
     "name": "stdout",
     "output_type": "stream",
     "text": [
      "Astrid Lopez tiene 38 años\n",
      "Jorge Castaño tiene 51 años\n",
      "Adrián Araujo tiene 29 años\n"
     ]
    }
   ],
   "source": [
    "edades = {\n",
    "    \"Astrid Lopez\": 38,\n",
    "    \"Jorge Castaño\": 51,\n",
    "    \"Adrián Araujo\": 29,\n",
    "    \"Lore\": 15,\n",
    "    \"Mauricio Quintana\":45,\n",
    "    \"Carolina Alarcón\": 12,\n",
    "    \"Felipe Hurtado\": 21,\n",
    "    \"Marisol Ospina\": 18,\n",
    "    \"Paco\": 17,\n",
    "    \"Andrea Montoya\": 32,\n",
    "    \"Gabriel Toledo\":17,\n",
    "    \"Manu\": 13,\n",
    "    \"Al Cólico\":99\n",
    "}\n",
    "\n",
    "indice = 0\n",
    "nombre = list(edades.keys())[indice] #hay que hacer un casting porque lo que retorna la función keys no es una lista\n",
    "while len(nombre) > 10:\n",
    "  print(nombre+\" tiene \"+str(edades[nombre])+\" años\") #hay que hacer un casting para sumar strings\n",
    "  indice = indice + 1\n",
    "  nombre = list(edades.keys())[indice]"
   ]
  },
  {
   "cell_type": "code",
   "execution_count": 24,
   "id": "bc331bbd-fb61-4bfe-b00c-cecb068cc457",
   "metadata": {},
   "outputs": [
    {
     "name": "stdout",
     "output_type": "stream",
     "text": [
      "La primera variable es menor que la segunda\n"
     ]
    }
   ],
   "source": [
    "#condicionales\n",
    "var1 = 12\n",
    "var2 = 24\n",
    "\n",
    "if var1 < var2:\n",
    "  print(\"La primera variable es menor que la segunda\")\n",
    "else:\n",
    "  print(\"La primera variable es mayor que la segunda\")"
   ]
  },
  {
   "cell_type": "code",
   "execution_count": 25,
   "id": "92e52528-d901-4247-99e0-78201ea07935",
   "metadata": {},
   "outputs": [
    {
     "name": "stdout",
     "output_type": "stream",
     "text": [
      "La primera variable es menor que la segunda\n",
      "La primera variable es mayor que la segunda\n",
      "Ambas variables son iguales\n"
     ]
    }
   ],
   "source": [
    "#También exite la opción de \"si no\". Pongamos la celda anterior en una función\n",
    "def comparacion(var1,var2):\n",
    "  if var1 < var2:\n",
    "    print(\"La primera variable es menor que la segunda\")\n",
    "  elif var1 > var2:\n",
    "    print(\"La primera variable es mayor que la segunda\")\n",
    "  else:\n",
    "    print(\"Ambas variables son iguales\")\n",
    "\n",
    "comparacion(1,2)\n",
    "comparacion(10,2)\n",
    "comparacion(1e2,1e2)"
   ]
  },
  {
   "cell_type": "code",
   "execution_count": 26,
   "id": "28738865-9c82-426a-b83c-5f0d6e4c3d64",
   "metadata": {},
   "outputs": [
    {
     "name": "stdout",
     "output_type": "stream",
     "text": [
      "Lore es menor de edad. Tiene 15 años.\n",
      "Carolina Alarcón es menor de edad. Tiene 12 años.\n",
      "Paco es menor de edad. Tiene 17 años.\n",
      "Gabriel Toledo es menor de edad. Tiene 17 años.\n",
      "Manu es menor de edad. Tiene 13 años.\n"
     ]
    }
   ],
   "source": [
    "#Los condicionales son muy útiles al interior de los bucles\n",
    "for nombre,edad in edades.items():\n",
    "  if edad < 18:\n",
    "    print(nombre+\" es menor de edad. Tiene \"+str(edad)+\" años.\")"
   ]
  },
  {
   "cell_type": "code",
   "execution_count": 27,
   "id": "4598dc78-735b-4d80-8710-6a6b05c9a632",
   "metadata": {},
   "outputs": [
    {
     "name": "stdout",
     "output_type": "stream",
     "text": [
      "El promedio de edad de los mayores de edad es:  14.8\n",
      "El promedio de edad de los menores de edad es:  41.625\n"
     ]
    }
   ],
   "source": [
    "#Usemos el diccionario con las edades para encontrar el promedio de los mayores de edad y de los menores de edad\n",
    "mayores = []\n",
    "menores = []\n",
    "for nombre,edad in edades.items():\n",
    "  if edad<18:\n",
    "    mayores.append(edad) # append pone un nuevo elemento al final de la lista\n",
    "  else:\n",
    "    menores.append(edad)\n",
    "print( \"El promedio de edad de los mayores de edad es: \",sum(mayores)/len(mayores) )\n",
    "print( \"El promedio de edad de los menores de edad es: \",sum(menores)/len(menores) )"
   ]
  },
  {
   "cell_type": "code",
   "execution_count": 28,
   "id": "4155d5c6-35d0-4309-8244-ddae72f823b8",
   "metadata": {},
   "outputs": [
    {
     "name": "stdout",
     "output_type": "stream",
     "text": [
      "Lore es un dato sospechoso. \n",
      "Ejecución terminada\n"
     ]
    }
   ],
   "source": [
    "#Queremos que el bucle pare si detecta algún nombre malo. Vamos a asumir que los nombres cortos son sospechosos\n",
    "for nombre,edad in edades.items():\n",
    "  if len(nombre) < 10:\n",
    "    print(nombre+\" es un dato sospechoso. \\nEjecución terminada\")\n",
    "    break"
   ]
  },
  {
   "cell_type": "code",
   "execution_count": 29,
   "id": "e64eaae7-277a-401b-ad4f-7f735ff90677",
   "metadata": {},
   "outputs": [
    {
     "name": "stdout",
     "output_type": "stream",
     "text": [
      "El promedio de edad de los mayores de edad es:  14.5\n",
      "El promedio de edad de los menores de edad es:  33.42857142857143\n"
     ]
    }
   ],
   "source": [
    "#Si queremos que el proceso continue a pesar de que el dato es sospechoso...\n",
    "#Encontremos de nuevo el promedio evitando nombres sospechosos\n",
    "mayores = []\n",
    "menores = []\n",
    "for nombre,edad in edades.items():\n",
    "  if len(nombre)<10:\n",
    "    continue\n",
    "  if edad<18:\n",
    "    mayores.append(edad)\n",
    "  else:\n",
    "    menores.append(edad)\n",
    "print( \"El promedio de edad de los mayores de edad es: \",sum(mayores)/len(mayores) )\n",
    "print( \"El promedio de edad de los menores de edad es: \",sum(menores)/len(menores) )"
   ]
  },
  {
   "cell_type": "markdown",
   "id": "69f078c1-92b5-4a14-a788-180c3111a78c",
   "metadata": {},
   "source": [
    "### Excepciones\n",
    "Una excepción en programación se refiere a un evento o situación que ocurre durante la ejecución de un programa, interrumpiendo el flujo normal del programa porque representa un error o una condición inusual. Las excepciones son una forma de que los programas manejen situaciones inesperadas o erróneas con elegancia, en lugar de bloquearse o producir resultados impredecibles.\n",
    "\n",
    "En Python y en muchos otros lenguajes de programación, las excepciones se gestionan mediante un mecanismo llamado \"manejo de excepciones\".\n",
    "\n",
    "https://docs.python.org/3/library/exceptions.html#bltin-exceptions"
   ]
  },
  {
   "cell_type": "code",
   "execution_count": 30,
   "id": "8d03f4e6-f685-4c61-8c5f-12536468a4e9",
   "metadata": {},
   "outputs": [
    {
     "name": "stdin",
     "output_type": "stream",
     "text": [
      "Ingrese un número:  12\n",
      "Ingrese otro número:  !\"#()=/\n"
     ]
    },
    {
     "name": "stdout",
     "output_type": "stream",
     "text": [
      "Valor equivocado. Asegúrese que lo valores son numéricos\n",
      "Ejecución terminada\n"
     ]
    }
   ],
   "source": [
    "try:\n",
    "    num1 = int(input(\"Ingrese un número: \"))\n",
    "    num2 = int(input(\"Ingrese otro número: \"))\n",
    "\n",
    "    result = num1 / num2\n",
    "    print(\"El resultado de la división es:\",result)\n",
    "except ValueError:\n",
    "    print(\"Valor equivocado. Asegúrese que lo valores son numéricos\")\n",
    "except ZeroDivisionError:\n",
    "    print(\"La división entre 0 no está definida\")\n",
    "else:\n",
    "    print(\"No se encontraron errores\")\n",
    "finally:\n",
    "    print(\"Ejecución terminada\")"
   ]
  }
 ],
 "metadata": {
  "kernelspec": {
   "display_name": "Python 3 (ipykernel)",
   "language": "python",
   "name": "python3"
  },
  "language_info": {
   "codemirror_mode": {
    "name": "ipython",
    "version": 3
   },
   "file_extension": ".py",
   "mimetype": "text/x-python",
   "name": "python",
   "nbconvert_exporter": "python",
   "pygments_lexer": "ipython3",
   "version": "3.8.10"
  }
 },
 "nbformat": 4,
 "nbformat_minor": 5
}
