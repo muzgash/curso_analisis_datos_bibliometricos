{
 "cells": [
  {
   "cell_type": "markdown",
   "id": "c85f2347-8ea7-4d58-8cc6-0ece679f00d6",
   "metadata": {},
   "source": [
    "## Librerías\n",
    "\n",
    "Una librería o biblioteca en programación es una colección de código o funciones preescritas que los programadores pueden utilizar para realizar tareas comunes o resolver problemas específicos sin tener que escribir el código desde cero. Las librerías están diseñadas para ser reutilizables y ahorrar tiempo y esfuerzo a los desarrolladores, ya que proporcionan un conjunto de funciones, clases y módulos preconstruidos que pueden incorporar a sus propios programas.\n",
    "\n",
    "Piensa en una librería como una caja de herramientas o un conjunto de herramientas especializadas que puedes utilizar para construir algo. En lugar de diseñar y fabricar cada herramienta que necesitas, puedes visitar la librería y tomar prestadas las herramientas que necesitas para completar tu proyecto. Las librerías son como un tesoro escondido de funciones prefabricadas y fragmentos de código que pueden ayudarte a crear software de forma más eficiente.\n",
    "\n",
    "\n",
    "Algunas características de las librerías son:\n",
    "* **Reutilización:** Las librerías contienen código que puede ser utilizado por\n",
    "varios programas o proyectos. Al reutilizar el código de una librería, los programadores ahorran tiempo y evitan reinventar la rueda.\n",
    "* **Abstracción:** Las librerías proporcionan una capa de abstracción que permite a los programadores utilizar funciones complejas sin necesidad de comprender los intrincados detalles de su funcionamiento interno.\n",
    "* **Modularidad:** Las librerías suelen organizarse en módulos o paquetes, lo que facilita la elección y la inclusión de sólo la funcionalidad específica necesaria para un proyecto concreto.\n",
    "* **Comunidad y código abierto:** Muchas librerías son de código abierto y están desarrolladas y mantenidas por una comunidad de programadores. Este enfoque colaborativo conduce a la creación de librerías potentes y ampliamente utilizadas.\n",
    "* **Funcionalidad diversa:** Las librerías pueden cubrir una amplia gama de dominios y tareas, como la manipulación de datos, el diseño de interfaces de usuario, el desarrollo web, la computación científica, el aprendizaje automático, etc.\n",
    "* **Librerías estándar:** Los lenguajes de programación a menudo vienen con una librería estándar que proporciona funcionalidad esencial. Por ejemplo, Python tiene una librería estándar que incluye módulos para la E/S de archivos, expresiones regulares, operaciones matemáticas, etc.\n",
    "* **librerías de terceros:** Además de las librerías estándar, los programadores pueden utilizar librerías de terceros desarrolladas por otros para ampliar las capacidades de un lenguaje de programación. Por ejemplo, las librerías NumPy y pandas de Python se utilizan ampliamente para tareas numéricas y de análisis de datos.\n",
    "* **Gestión de dependencias:** Cuando se utilizan librerías, los programadores necesitan gestionar las dependencias, que son otras librerías de las que depende una determinada librería. Las herramientas de gestión de dependencias ayudan a garantizar que todas las librerías necesarias estén instaladas y sean compatibles."
   ]
  },
  {
   "cell_type": "markdown",
   "id": "f8a834b6-f851-4fb0-8db6-fbcb7f8ce147",
   "metadata": {},
   "source": [
    "### Numpy\n",
    "NumPy, que significa \"Numerical Python\", es una popular biblioteca de código abierto de Python para cálculo numérico y científico. Proporciona soporte para trabajar con matrices y arrays multidimensionales de gran tamaño, junto con una colección de funciones matemáticas para operar con estos arrays. NumPy es una biblioteca fundamental en el ecosistema de la ciencia de datos y la computación científica de Python, y se utiliza ampliamente en diversos campos, como el análisis de datos, el aprendizaje automático y la investigación científica.\n",
    "\n",
    "Algunas características de NumPy:\n",
    "* **Arrays:** La principal estructura de datos de NumPy es el ndarray (abreviatura de \"array N-dimensional\"). Estas matrices son similares a las listas de Python, pero pueden tener múltiples dimensiones (por ejemplo, matrices 1D, matrices 2D, o incluso matrices de mayor dimensión).\n",
    "* **Almacenamiento eficiente de datos:** Las matrices NumPy son eficientes en memoria y permiten operaciones rápidas de elemento a elemento. Esto las hace adecuadas para manejar grandes conjuntos de datos.\n",
    "* **Operaciones matemáticas:** NumPy proporciona una amplia gama de funciones matemáticas que se pueden aplicar por elementos a matrices. Esto incluye operaciones básicas como la suma y la multiplicación, así como funciones más avanzadas como funciones trigonométricas, logarítmicas y estadísticas.\n",
    "* **Manipulación de matrices:** NumPy ofrece funciones para remodelar, cortar e indexar matrices, facilitando la extracción y modificación de partes específicas de los datos.\n",
    "* **Difusión:** NumPy le permite realizar operaciones en matrices de diferentes formas, una característica conocida como difusión. NumPy alinea y repite automáticamente la matriz más pequeña para que coincida con la forma de la más grande, lo que permite realizar operaciones de elemento a elemento.\n",
    "* **Integración con otras bibliotecas:** NumPy se utiliza a menudo junto con otras bibliotecas del ecosistema de ciencia de datos de Python, como pandas (para la manipulación de datos), Matplotlib (para la visualización de datos) y scikit-learn (para el aprendizaje automático).\n",
    "* **Generación de números aleatorios:** NumPy incluye una robusta biblioteca de generación de números aleatorios para generar datos aleatorios para simulaciones, experimentos y análisis estadísticos.\n",
    "* **Álgebra lineal:** NumPy proporciona funciones de álgebra lineal para tareas como la multiplicación de matrices, el cálculo de valores propios y la resolución de sistemas de ecuaciones lineales.\n",
    "* **Procesamiento de señales:** NumPy tiene herramientas para el procesamiento de señales, transformadas de Fourier y filtrado.\n"
   ]
  },
  {
   "cell_type": "code",
   "execution_count": 1,
   "id": "91e07064-9ff8-4a07-853c-69a3ff276b85",
   "metadata": {},
   "outputs": [],
   "source": [
    "import numpy"
   ]
  },
  {
   "cell_type": "code",
   "execution_count": 2,
   "id": "8324d01b-8c57-43c2-bd70-354578262928",
   "metadata": {},
   "outputs": [],
   "source": [
    "edades = {\n",
    "    \"Astrid Lopez\": 38,\n",
    "    \"Jorge Castaño\": 51,\n",
    "    \"Adrián Araujo\": 29,\n",
    "    \"Lore\": 15,\n",
    "    \"Mauricio Quintana\":45,\n",
    "    \"Carolina Alarcón\": 12,\n",
    "    \"Felipe Hurtado\": 21,\n",
    "    \"Marisol Ospina\": 18,\n",
    "    \"Paco\": 17,\n",
    "    \"Andrea Montoya\": 32,\n",
    "    \"Gabriel Toledo\":17,\n",
    "    \"Manu\": 13,\n",
    "    \"Al Cólico\":99\n",
    "}"
   ]
  },
  {
   "cell_type": "code",
   "execution_count": 3,
   "id": "e5808b44-6384-458a-8840-c4e3ed8a75f0",
   "metadata": {},
   "outputs": [
    {
     "data": {
      "text/plain": [
       "31.307692307692307"
      ]
     },
     "execution_count": 3,
     "metadata": {},
     "output_type": "execute_result"
    }
   ],
   "source": [
    "#Encontremos el promedio de edades de todas las personas del diccionario usndo numpy\n",
    "numpy.average(list(edades.values()))"
   ]
  },
  {
   "cell_type": "code",
   "execution_count": 4,
   "id": "53f4da0d-a8a6-4d73-bd62-72e7e74949a8",
   "metadata": {},
   "outputs": [
    {
     "data": {
      "text/plain": [
       "32.0"
      ]
     },
     "execution_count": 4,
     "metadata": {},
     "output_type": "execute_result"
    }
   ],
   "source": [
    "#Podemos hacer un muestreo aleatorio de las personas y calcular su promedio\n",
    "muestra_edades = numpy.random.choice( list(edades.values()) )\n",
    "numpy.average(muestra_edades)"
   ]
  },
  {
   "cell_type": "code",
   "execution_count": 5,
   "id": "be7ab5a9-6062-4ebd-8240-aaf6d1628a97",
   "metadata": {},
   "outputs": [
    {
     "name": "stdout",
     "output_type": "stream",
     "text": [
      "<class 'numpy.ndarray'>\n",
      "[ 1.  2.  3.  4.  5.  6.  7.  8.  9. 10.]\n",
      "[ 2.  4.  6.  8. 10. 12. 14. 16. 18. 20.]\n"
     ]
    }
   ],
   "source": [
    "#Numpy propone una extensión a las operaciones con listas (que en este caso son arrays)\n",
    "array1 = numpy.array([1,2,3,4,5,6,7,8,9,10])\n",
    "print( type(array1) )\n",
    "array2 = numpy.linspace(1,10,10)\n",
    "print( array2 )\n",
    "\n",
    "print(array1+array2)"
   ]
  },
  {
   "cell_type": "code",
   "execution_count": 6,
   "id": "dd409f92-39fb-4f56-9161-a2eadafb786e",
   "metadata": {},
   "outputs": [
    {
     "name": "stdout",
     "output_type": "stream",
     "text": [
      "[[1, 1], [1, 0]]\n",
      "[[0 1]\n",
      " [0 0]]\n",
      "La multiplicación de las matrices es:\n",
      "[[0 1]\n",
      " [0 0]]\n"
     ]
    }
   ],
   "source": [
    "#También podemos hacer operaciones con matrices\n",
    "mat1 = [[1,1],[1,0]]\n",
    "mat2 = numpy.random.randint(0,2,size=(2,2))\n",
    "\n",
    "print(mat1)\n",
    "print(mat2)\n",
    "print(\"La multiplicación de las matrices es:\")\n",
    "print(mat1*mat2)"
   ]
  },
  {
   "cell_type": "code",
   "execution_count": 7,
   "id": "b49cd404-6e8d-41fd-9ba4-15b600a90c02",
   "metadata": {},
   "outputs": [
    {
     "name": "stdout",
     "output_type": "stream",
     "text": [
      "Parta la matriz:\n",
      "[[0 1 1]\n",
      " [1 2 0]\n",
      " [2 1 0]]\n",
      "el determinante es\n",
      "-1.0\n",
      "Sus vectores propios\n",
      "(array([ 1.61803399, -0.61803399]), array([[ 0.85065081, -0.52573111],\n",
      "       [ 0.52573111,  0.85065081]]))\n"
     ]
    }
   ],
   "source": [
    "#También algunas cosas más chéveres de álgebra lineal\n",
    "mat2 = numpy.random.randint(0,3,size=(3,3))\n",
    "print(\"Parta la matriz:\")\n",
    "print(mat2)\n",
    "print(\"el determinante es\")\n",
    "print( numpy.linalg.det(mat1) )\n",
    "print(\"Sus vectores propios\")\n",
    "print( numpy.linalg.eig(mat1) )"
   ]
  },
  {
   "cell_type": "markdown",
   "id": "5a6c4de5-6063-45ca-84d5-2ffd55abde0e",
   "metadata": {},
   "source": [
    "### matplotlib\n",
    "Matplotlib es una librería de Python de código abierto que se utiliza para crear visualizaciones estáticas, animadas e interactivas en varios formatos, como tablas, gráficos, diagramas y más. Proporciona un conjunto completo de herramientas para la visualización de datos y se utiliza ampliamente en la ciencia de datos, la investigación científica, la ingeniería y otros campos en los que la representación gráfica de los datos es esencial.\n",
    "\n",
    "Características de Matplotlib:\n",
    "\n",
    "* **Gráficos y Figuras:** En Matplotlib, un \"plot\" es esencialmente una sola tabla o gráfico, y una figura es la ventana general o página que contiene una o más \"plots\". Se pueden crear varios gráficos dentro de una misma figura.\n",
    "\n",
    "* **Tipos de gráficos:** Matplotlib soporta una amplia gama de tipos de gráficos, incluyendo gráficos de líneas, gráficos de dispersión, gráficos de barras, histogramas, gráficos circulares, gráficos 3D, y más.\n",
    "\n",
    "* **Personalización:** Puede personalizar todos los aspectos de sus gráficos, incluyendo títulos, etiquetas, colores, fuentes, marcadores y más. Esto le permite adaptar sus visualizaciones para transmitir eficazmente sus datos.\n",
    "\n",
    "* **Subgráficos:** Puede crear subgráficos dentro de una misma figura, organizando varios gráficos en una cuadrícula. Esto resulta útil para comparar y visualizar diferentes aspectos de los datos uno al lado del otro."
   ]
  },
  {
   "cell_type": "code",
   "execution_count": 8,
   "id": "ceb7a31e-cd8a-4e1a-b254-95e7e46771bb",
   "metadata": {},
   "outputs": [],
   "source": [
    "import matplotlib"
   ]
  },
  {
   "cell_type": "code",
   "execution_count": 12,
   "id": "2b9f3e4e-f16a-4e66-b973-ed4cabd717eb",
   "metadata": {},
   "outputs": [
    {
     "data": {
      "text/plain": [
       "[<matplotlib.lines.Line2D at 0x7faaeb911fd0>]"
      ]
     },
     "execution_count": 12,
     "metadata": {},
     "output_type": "execute_result"
    },
    {
     "data": {
      "image/png": "[encoded data removed]",
      "text/plain": [
       "<Figure size 432x288 with 1 Axes>"
      ]
     },
     "metadata": {
      "needs_background": "light"
     },
     "output_type": "display_data"
    }
   ],
   "source": [
    "#Podemos apreciar mejor las funcionalidades de numpy a través de gráficas sencillas\n",
    "x = numpy.linspace(0,2*numpy.pi,100)\n",
    "matplotlib.pyplot.plot(numpy.sin(x))"
   ]
  },
  {
   "cell_type": "code",
   "execution_count": 13,
   "id": "60d50387-00a9-4ae5-803c-326c16b7aa63",
   "metadata": {},
   "outputs": [
    {
     "data": {
      "text/plain": [
       "(array([6., 2., 2., 1., 1., 0., 0., 0., 0., 1.]),\n",
       " array([12. , 20.7, 29.4, 38.1, 46.8, 55.5, 64.2, 72.9, 81.6, 90.3, 99. ]),\n",
       " <BarContainer object of 10 artists>)"
      ]
     },
     "execution_count": 13,
     "metadata": {},
     "output_type": "execute_result"
    },
    {
     "data": {
      "image/png": "[encoded data removed]",
      "text/plain": [
       "<Figure size 432x288 with 1 Axes>"
      ]
     },
     "metadata": {
      "needs_background": "light"
     },
     "output_type": "display_data"
    }
   ],
   "source": [
    "#Dibujemos un histograma de las edades\n",
    "matplotlib.pyplot.hist(edades.values())"
   ]
  },
  {
   "cell_type": "code",
   "execution_count": 15,
   "id": "e757b88c-f362-4219-a827-b43f4e2f1419",
   "metadata": {},
   "outputs": [
    {
     "data": {
      "text/plain": [
       "([<matplotlib.patches.Wedge at 0x7faaeb7b4d30>,\n",
       "  <matplotlib.patches.Wedge at 0x7faaeb7c0250>],\n",
       " [Text(0.3900653535244525, 1.0285178753817767, 'Mayores de edad'),\n",
       "  Text(-0.3900652572276579, -1.0285179119023262, 'Menores de edad')])"
      ]
     },
     "execution_count": 15,
     "metadata": {},
     "output_type": "execute_result"
    },
    {
     "data": {
      "image/png": "[encoded data removed]",
      "text/plain": [
       "<Figure size 432x288 with 1 Axes>"
      ]
     },
     "metadata": {},
     "output_type": "display_data"
    }
   ],
   "source": [
    "#Una torta con la distribución de mayores y menores de edad\n",
    "mayores = []\n",
    "menores = []\n",
    "for nombre,edad in edades.items():\n",
    "  if edad<18:\n",
    "    mayores.append(edad) # append pone un nuevo elemento al final de la lista\n",
    "  else:\n",
    "    menores.append(edad)\n",
    "\n",
    "cantidad_mayores = len(mayores)\n",
    "cantidad_menores = len(menores)\n",
    "matplotlib.pyplot.pie([cantidad_mayores,cantidad_menores],labels=[\"Mayores de edad\",\"Menores de edad\"])"
   ]
  },
  {
   "cell_type": "code",
   "execution_count": null,
   "id": "645c2716-6255-4a95-801e-53ed036bfeca",
   "metadata": {},
   "outputs": [],
   "source": []
  }
 ],
 "metadata": {
  "kernelspec": {
   "display_name": "Python 3 (ipykernel)",
   "language": "python",
   "name": "python3"
  },
  "language_info": {
   "codemirror_mode": {
    "name": "ipython",
    "version": 3
   },
   "file_extension": ".py",
   "mimetype": "text/x-python",
   "name": "python",
   "nbconvert_exporter": "python",
   "pygments_lexer": "ipython3",
   "version": "3.8.10"
  }
 },
 "nbformat": 4,
 "nbformat_minor": 5
}
