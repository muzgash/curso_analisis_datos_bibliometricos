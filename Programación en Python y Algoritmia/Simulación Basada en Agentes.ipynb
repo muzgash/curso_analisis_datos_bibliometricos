{
 "cells": [
  {
   "cell_type": "markdown",
   "id": "774323ab-165d-4d45-9775-c0662ef741e9",
   "metadata": {},
   "source": [
    "## Ejemplo: Simulacion basada en agentes\n",
    "La simulación basada en agentes (ABS, por sus siglas en inglés), también conocida como modelación basada en agentes (ABM, por sus siglas en inglés), es una técnica de simulación computacional utilizada en diversos campos, como la ciencia de datos, las ciencias sociales o la ingeniería, para simular sistemas complejos mediante la modelación de agentes individuales y sus interacciones en un entorno determinado. Este enfoque es especialmente útil para estudiar comportamientos emergentes y fenómenos complejos.\n",
    "\n",
    "Algunos conceptos clave de la simulación basada en agentes:\n",
    "\n",
    "* Agentes: Los agentes son las entidades fundamentales de una simulación basada en agentes. Pueden representar individuos, objetos o entidades con capacidad de agencia o de toma de decisiones dentro del sistema simulado. Cada agente tiene su propio conjunto de características, comportamientos y reglas que rigen sus acciones.\n",
    "\n",
    "* Entorno: El entorno es el espacio virtual o contexto en el que operan los agentes. Puede representar un espacio físico, una red social, un ecosistema o cualquier otro sistema de interés. El entorno puede incluir recursos, obstáculos u otros factores que influyen en el comportamiento de los agentes.\n",
    "\n",
    "* Interacciones: Los agentes interactúan entre sí y con su entorno basándose en reglas predefinidas. Estas interacciones pueden ser simples o complejas e implicar factores como la comunicación, la competencia, la cooperación y la toma de decisiones.\n",
    "\n",
    "* Tiempo: Una simulación basada en agentes suele progresar a través de pasos temporales discretos o iteraciones. Durante cada paso temporal, los agentes actualizan sus estados y toman decisiones basadas en sus reglas e interacciones.\n",
    "\n",
    "* Emergencia: Uno de los aspectos clave de las simulaciones basadas en agentes es la aparición de comportamientos complejos a nivel de sistema a partir de las interacciones de agentes individuales. Los patrones, tendencias y resultados a nivel de sistema pueden no ser fácilmente predecibles a partir del comportamiento de los agentes individuales por sí solos.\n",
    "\n",
    "La metodología puede utilizarse para estudiar una amplia gama de fenómenos, como:\n",
    "\n",
    "* Dinámica social: Modelación del comportamiento de los individuos en una sociedad, incluida la propagación de opiniones, enfermedades o comportamientos.\n",
    "* Ecología: Simulación de las interacciones de las especies en un ecosistema para comprender la dinámica de las poblaciones y la biodiversidad.\n",
    "* Economía: Modelación de agentes económicos (por ejemplo, consumidores, empresas) para estudiar la dinámica de los mercados y las tendencias económicas.\n",
    "* Tráfico y transporte: Simulación del movimiento de vehículos y peatones en entornos urbanos para optimizar los sistemas de transporte.\n",
    "* Epidemiología: Estudio de la propagación de enfermedades en una población y del impacto de las estrategias de intervención.\n",
    "\n",
    "### Modelo de contagio SIS en una cuadrícula\n",
    "\n",
    "El modelo SIS, que significa Susceptible-Infeccioso-Susceptible, es un modelo epidemiológico sencillo utilizado en la modelización basada en agentes para simular la propagación de enfermedades infecciosas dentro de una población. En este modelo, los individuos de la población pueden cambiar entre dos estados: susceptible (S) e infeccioso (I).\n",
    "\n",
    "**Agentes**\n",
    "\n",
    "En una implementación basada en agentes del modelo SIS, cada individuo de la población se representa como un agente.Estos agentes pueden ser personas, animales o cualquier entidad que pueda contraer y transmitir una enfermedad infecciosa.\n",
    "\n",
    "**Estados**\n",
    "\n",
    "Los agentes pueden existir en uno de dos estados:\n",
    "\n",
    "* Susceptible (S): Los agentes en este estado son susceptibles a la enfermedad, lo que significa que aún no se han infectado pero corren el riesgo de contraerla. Los agentes susceptibles pueden infectarse si entran en contacto con agentes infecciosos.\n",
    "\n",
    "* Infeccioso (I): Los agentes en este estado están infectados con la enfermedad y son capaces de transmitirla a agentes susceptibles a través de interacciones.\n",
    "\n",
    "**Dinámica del modelo**\n",
    "\n",
    "El modelo SIS funciona basándose en transiciones entre estos estados a lo largo del tiempo. Los procesos clave del modelo son los siguientes:\n",
    "\n",
    "* Infección: Los agentes susceptibles se infectan con una cierta probabilidad cuando interactúan con agentes infecciosos. Esta probabilidad suele representarse mediante una tasa de transmisión o de infección.\n",
    "\n",
    "* Recuperación: Los agentes infectados tienen la posibilidad de recuperarse de la enfermedad y volver al estado de susceptibilidad. La tasa a la que se produce la recuperación suele denominarse tasa de recuperación.\n",
    "\n",
    "* Interacciones: Los agentes interactúan entre sí dentro de la simulación, y la probabilidad de transmisión de la enfermedad depende del número de agentes infecciosos encontrados y de la tasa de transmisión.\n",
    "\n",
    "* Pasos temporales: La simulación progresa en pasos temporales discretos, durante los cuales los agentes pueden cambiar sus estados en función de las probabilidades asociadas a la infección y la recuperación.\n",
    "\n",
    "**Comportamiento emergente**\n",
    "\n",
    "El modelo SIS puede mostrar un comportamiento emergente interesante, como patrones cíclicos o un equilibrio estable, dependiendo de los valores de parámetros como la tasa de transmisión y la tasa de recuperación. Por ejemplo:\n",
    "\n",
    "Si la tasa de transmisión es alta y la tasa de recuperación es baja, la enfermedad puede persistir en la población, conduciendo a un estado endémico estable en el que una fracción de la población permanece infectada.\n",
    "\n",
    "Si la tasa de transmisión es baja o la tasa de recuperación es alta, la enfermedad puede extinguirse y la población pasa a ser principalmente susceptible.\n",
    "\n",
    "**Análisis y conclusiones**\n",
    "\n",
    "Las simulaciones basadas en agentes del modelo SIS permiten a los investigadores explorar diversos escenarios relacionados con la dinámica de la enfermedad. Esto puede incluir el estudio del impacto de intervenciones como la vacunación, el distanciamiento social o los cambios en la densidad de población sobre la propagación de la enfermedad.\n",
    "\n",
    "Al ejecutar la simulación a lo largo del tiempo y observar cómo cambia la proporción de agentes susceptibles e infecciosos, los investigadores pueden obtener información sobre los posibles resultados de diferentes estrategias de control de la enfermedad y el comportamiento a largo plazo de la enfermedad dentro de una población.\n",
    "\n",
    "\n",
    "### Referencias\n",
    "* Bonabeau, E. (2002). Agent-based modeling: Methods and techniques for simulating human systems. Proceedings of the National Academy of Sciences, 99(suppl_3), 7280–7287. https://doi.org/10.1073/pnas.082080899\n",
    "\n",
    "* Epstein, J. M. (1999). Agent-based computational models and generative social science. Complexity, 4(5), 41–60. https://doi.org/10.1002/(SICI)1099-0526(199905/06)4:5<41::AID-CPLX9>3.0.CO;2-F\n",
    "\n",
    "* Macal, C. M., & North, M. J. (2010). Tutorial on agent-based modelling and simulation. Journal of Simulation, 4(3), 151–162. https://doi.org/10.1057/jos.2010.3\n",
    "\n",
    "* Macal, C., & North, M. (2014). Introductory tutorial: Agent-based modeling and simulation. Proceedings of the Winter Simulation Conference 2014, 6–20. https://doi.org/10.1109/WSC.2014.7019874\n",
    "\n",
    "* Wilensky, U., & Rand, W. (2015). An introduction to agent-based modeling: Modeling natural, social, and engineered complex systems with NetLogo. The MIT Press.\n",
    "\n",
    "\n",
    "\n"
   ]
  },
  {
   "cell_type": "code",
   "execution_count": 1,
   "id": "b987c860-3677-410c-8ef4-56bc2d8d12c2",
   "metadata": {},
   "outputs": [],
   "source": [
    "#Librerías necesarias\n",
    "import numpy as np\n",
    "import matplotlib.pyplot as plt"
   ]
  },
  {
   "cell_type": "code",
   "execution_count": 2,
   "id": "5d497c20-6743-4483-a17d-804ba4f6f56e",
   "metadata": {},
   "outputs": [],
   "source": [
    "#funciones de la dinámica\n",
    "\n",
    "def desplazamiento(posicion,limite_x,limite_y,paso=1):\n",
    "  \"\"\"\n",
    "  Desplaza un individuo.\n",
    "\n",
    "  Tiene en cuenta que el mundo tiene paredes cuadradas y rebota en ellas\n",
    "\n",
    "  Parameters\n",
    "  ----------\n",
    "  posicion : lista de 2 items con la posicion x e y del individuo\n",
    "  limite_x : Entero que determina la mayor distancia desde el eje y\n",
    "  limite_y : Entero que determina la mayor distancia desde el eje x\n",
    "  paso : Entero que dice el tamaño del paso que toma el individuo\n",
    "\n",
    "  Returns\n",
    "  -------\n",
    "  posicion : lista de dos elementos con la posición actualizada\n",
    "  \"\"\"\n",
    "  posibilidades = list(range(-1*paso,paso+1))\n",
    "  d = np.random.choice(posibilidades)\n",
    "  if posicion[0] + d < limite_x or posicion[0] + d > 0:\n",
    "    d_x = d\n",
    "  else:\n",
    "    d_x = -1*d\n",
    "  posicion[0] += d_x\n",
    "\n",
    "  d = np.random.choice(posibilidades)\n",
    "  if posicion[1] + d < limite_y or posicion[1] + d > 0:\n",
    "    d_y = d\n",
    "  else:\n",
    "    d_y = -1*d\n",
    "  posicion[1] += d_y\n",
    "\n",
    "  return posicion\n",
    "\n",
    "def hay_vecino_infectado(indice,estados,posiciones,distancia):\n",
    "  \"\"\"\n",
    "  Revisa si el individuo a evaluar tiene un vecino infectado a menos de una distancia específica\n",
    "\n",
    "  Parameters\n",
    "  ----------\n",
    "  indice : Entero que indica la posición del individuo a evaluar en las listas de estados y posiciones\n",
    "  estados : Lista con los estados de todos los individuos\n",
    "  posiciones : Lista con las posiciones de todos los individuos\n",
    "  distancia : Entero que indica el umbral de distancia para definir si el vecino podría infectar al individuo a evaluar\n",
    "\n",
    "  Return\n",
    "  ------\n",
    "  bool : Si el individuo está en potencial de ser contagiado\n",
    "  \"\"\"\n",
    "  for i,vecino in enumerate(estados):\n",
    "    if indice == i:\n",
    "      continue\n",
    "    else:\n",
    "      if vecino == 1: #si está infectado miramos la distancia\n",
    "        if np.linalg.norm(posiciones[i]-posiciones[indice]) < distancia: #si está cerca está en riesgo de contagio\n",
    "          return True"
   ]
  },
  {
   "cell_type": "code",
   "execution_count": 3,
   "id": "841e8f02-e23f-473a-a10e-722af68f21dc",
   "metadata": {},
   "outputs": [
    {
     "data": {
      "text/plain": [
       "\u001b[0;31mSignature:\u001b[0m \u001b[0mdesplazamiento\u001b[0m\u001b[0;34m(\u001b[0m\u001b[0mposicion\u001b[0m\u001b[0;34m,\u001b[0m \u001b[0mlimite_x\u001b[0m\u001b[0;34m,\u001b[0m \u001b[0mlimite_y\u001b[0m\u001b[0;34m,\u001b[0m \u001b[0mpaso\u001b[0m\u001b[0;34m=\u001b[0m\u001b[0;36m1\u001b[0m\u001b[0;34m)\u001b[0m\u001b[0;34m\u001b[0m\u001b[0;34m\u001b[0m\u001b[0m\n",
       "\u001b[0;31mDocstring:\u001b[0m\n",
       "Desplaza un individuo.\n",
       "\n",
       "Tiene en cuenta que el mundo tiene paredes cuadradas y rebota en ellas\n",
       "\n",
       "Parameters\n",
       "----------\n",
       "posicion : lista de 2 items con la posicion x e y del individuo\n",
       "limite_x : Entero que determina la mayor distancia desde el eje y\n",
       "limite_y : Entero que determina la mayor distancia desde el eje x\n",
       "paso : Entero que dice el tamaño del paso que toma el individuo\n",
       "\n",
       "Returns\n",
       "-------\n",
       "posicion : lista de dos elementos con la posición actualizada\n",
       "\u001b[0;31mFile:\u001b[0m      /tmp/ipykernel_4551/3143570501.py\n",
       "\u001b[0;31mType:\u001b[0m      function\n"
      ]
     },
     "metadata": {},
     "output_type": "display_data"
    }
   ],
   "source": [
    "#Hicimos la documentación de las funciones\n",
    "desplazamiento?"
   ]
  },
  {
   "cell_type": "code",
   "execution_count": 12,
   "id": "d63ff2d4-da95-4b46-820c-a28a04f08679",
   "metadata": {},
   "outputs": [],
   "source": [
    "# configuración del sistema\n",
    "\n",
    "poblacion = 620 #densidad de CDMX\n",
    "lado_area = 10 #metros\n",
    "infectados_iniciales = 0.05\n",
    "# 0 suceptibles 1 infectados\n",
    "estados = np.random.choice(\n",
    "    [0,1],\n",
    "    size=poblacion,\n",
    "    replace = True,\n",
    "    p = [1-infectados_iniciales,infectados_iniciales]\n",
    ")\n",
    "posiciones = np.random.choice(range(50),size=(poblacion,2))\n",
    "\n",
    "distancia_infeccion = 1 #metros\n",
    "probabilidad_infeccion = 0.07\n",
    "probabilidad_recuperacion = 0.03\n",
    "tiempo_total = 100\n",
    "paso = 2 #metros"
   ]
  },
  {
   "cell_type": "code",
   "execution_count": 5,
   "id": "cb5fb50e-8a19-451e-820a-056b25e9e713",
   "metadata": {},
   "outputs": [],
   "source": [
    "#variables de registro del sistema\n",
    "proporcion_infectados = []"
   ]
  },
  {
   "cell_type": "code",
   "execution_count": 6,
   "id": "3c63edff-372a-411d-b847-286e996fb4fd",
   "metadata": {},
   "outputs": [
    {
     "name": "stdout",
     "output_type": "stream",
     "text": [
      "20.00% modelado\n",
      "40.00% modelado\n",
      "60.00% modelado\n",
      "80.00% modelado\n"
     ]
    }
   ],
   "source": [
    "#ciclo en el tiempo\n",
    "for t in range(tiempo_total):\n",
    "  if t%20==0 and t!=0:\n",
    "    print(\"{:.2f}% modelado\".format(100*t/tiempo_total))\n",
    "\n",
    "  #actualizamos los estados si se infectan algunos nuevos\n",
    "  for i,persona in enumerate(estados):\n",
    "    if persona==0: #si la persona está sana puede ser infectada\n",
    "      if hay_vecino_infectado(i,estados,posiciones,distancia_infeccion):\n",
    "        #lanzamos un número aleatorio y lo comparamos con la probabilida de ser infectado\n",
    "        if np.random.random() < probabilidad_infeccion:\n",
    "          estados[i]=1\n",
    "\n",
    "  #guardamos los registros\n",
    "  proporcion_infectados.append(sum(estados)/len(estados))\n",
    "\n",
    "  #movemos los individuos\n",
    "  for i in range(poblacion):\n",
    "    posiciones[i]=desplazamiento(posiciones[i],limite_x = lado_area, limite_y=lado_area,paso=paso)\n",
    "\n",
    "  #miramos si algunos se recuperan\n",
    "  for i,persona in enumerate(estados):\n",
    "    if persona == 1:\n",
    "      if np.random.random() < probabilidad_recuperacion:\n",
    "            estados[i]=0"
   ]
  },
  {
   "cell_type": "code",
   "execution_count": 11,
   "id": "77ff4681-6eaf-4f62-a65f-a24e2bd92873",
   "metadata": {},
   "outputs": [
    {
     "data": {
      "image/png": "[encoded data removed]",
      "text/plain": [
       "<Figure size 432x288 with 1 Axes>"
      ]
     },
     "metadata": {
      "needs_background": "light"
     },
     "output_type": "display_data"
    }
   ],
   "source": [
    "#Graficación de la dinámica\n",
    "plt.plot(list(range(tiempo_total)),proporcion_infectados)\n",
    "plt.xlabel(\"Tiempo\")\n",
    "plt.yscale(\"log\")  \n",
    "plt.ylabel(\"Proporción de infectados (log)\")\n",
    "plt.title(\"Evolución de la proporción de infectados\")\n",
    "plt.show()"
   ]
  },
  {
   "cell_type": "code",
   "execution_count": null,
   "id": "9249512b-6acf-4cd4-b60c-43b18e3cab38",
   "metadata": {},
   "outputs": [],
   "source": []
  }
 ],
 "metadata": {
  "kernelspec": {
   "display_name": "Python 3 (ipykernel)",
   "language": "python",
   "name": "python3"
  },
  "language_info": {
   "codemirror_mode": {
    "name": "ipython",
    "version": 3
   },
   "file_extension": ".py",
   "mimetype": "text/x-python",
   "name": "python",
   "nbconvert_exporter": "python",
   "pygments_lexer": "ipython3",
   "version": "3.8.10"
  }
 },
 "nbformat": 4,
 "nbformat_minor": 5
}
