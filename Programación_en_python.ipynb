{
  "cells": [
    {
      "cell_type": "markdown",
      "metadata": {
        "id": "view-in-github",
        "colab_type": "text"
      },
      "source": [
        "<a href=\"https://colab.research.google.com/github/muzgash/curso_analisis_datos_bibliometricos/blob/main/Programaci%C3%B3n_en_python.ipynb\" target=\"_parent\"><img src=\"https://colab.research.google.com/assets/colab-badge.svg\" alt=\"Open In Colab\"/></a>"
      ]
    },
    {
      "cell_type": "markdown",
      "metadata": {
        "id": "ZjYjcyjZu-fH"
      },
      "source": [
        "# Programación en python y algoritmia\n",
        "\n"
      ]
    },
    {
      "cell_type": "markdown",
      "metadata": {
        "id": "Hd2zQpcCvJTW"
      },
      "source": [
        "## Asignación y tipos de variables\n",
        "\n",
        "### ¿Qué son las variables?\n",
        "\n",
        "En programación, una variable es como un contenedor con nombre o una ubicación de almacenamiento que contiene datos. Estos contenedores tienen nombres, llamados identificadores, y permiten a los programadores almacenar, gestionar y manipular datos fácilmente. Las variables sirven como un bloque de construcción fundamental para escribir código porque permiten a los programas trabajar y recordar información.\n",
        "\n",
        "### Definición de variables:\n",
        "\n",
        "Definir una variable es como crear una etiqueta para un contenedor. Se especifica un nombre (el identificador) para la variable, y este nombre ayuda a acceder y trabajar con los datos que contiene. Los nombres de las variables en programación siguen ciertas reglas, como no contener espacios y empezar por una letra o guión bajo (_)."
      ]
    },
    {
      "cell_type": "markdown",
      "metadata": {
        "id": "rG5Quf1gYq14"
      },
      "source": [
        "### Numéricas\n",
        "Una variable numérica es un tipo de variable de programación y estadística que se utiliza para almacenar datos numéricos. Las variables numéricas están diseñadas para contener valores numéricos, que pueden ser enteros (números enteros) o números de coma flotante (números con decimales). Estas variables son esenciales para realizar operaciones matemáticas, cálculos y análisis de datos en programación."
      ]
    },
    {
      "cell_type": "code",
      "execution_count": null,
      "metadata": {
        "colab": {
          "base_uri": "https://localhost:8080/"
        },
        "id": "JH1tljJsvNx8",
        "outputId": "6c378da3-6e6b-481a-a80d-14b64f79b196"
      },
      "outputs": [
        {
          "output_type": "execute_result",
          "data": {
            "text/plain": [
              "1"
            ]
          },
          "metadata": {},
          "execution_count": 1
        }
      ],
      "source": [
        "#numéricas\n",
        "num_var = 1\n",
        "num_var"
      ]
    },
    {
      "cell_type": "code",
      "execution_count": null,
      "metadata": {
        "colab": {
          "base_uri": "https://localhost:8080/"
        },
        "id": "BRuzbtWqiUC8",
        "outputId": "0648546c-2181-4d3a-ede0-9be3a711dd14"
      },
      "outputs": [
        {
          "output_type": "execute_result",
          "data": {
            "text/plain": [
              "12.5"
            ]
          },
          "metadata": {},
          "execution_count": 2
        }
      ],
      "source": [
        "num_var = 12.5\n",
        "num_var"
      ]
    },
    {
      "cell_type": "markdown",
      "metadata": {
        "id": "lY_6ciQLXzlp"
      },
      "source": [
        "### Booleanos\n",
        "\n",
        "Un \"bool\" es la abreviatura de \"boolean\", y es un tipo de dato fundamental en Python y en muchos otros lenguajes de programación. Los booleanos se utilizan para representar el concepto de verdad o falsedad, y sólo tienen dos valores posibles: True (Verdadero) y False (Falso)."
      ]
    },
    {
      "cell_type": "code",
      "execution_count": null,
      "metadata": {
        "colab": {
          "base_uri": "https://localhost:8080/"
        },
        "id": "yygyBPUixRcs",
        "outputId": "1a41b6a4-7989-4d40-f7ad-3328b319fd30"
      },
      "outputs": [
        {
          "output_type": "execute_result",
          "data": {
            "text/plain": [
              "True"
            ]
          },
          "metadata": {},
          "execution_count": 3
        }
      ],
      "source": [
        "bool_var = True\n",
        "bool_var"
      ]
    },
    {
      "cell_type": "code",
      "execution_count": null,
      "metadata": {
        "colab": {
          "base_uri": "https://localhost:8080/"
        },
        "id": "9jnz4WWgibHN",
        "outputId": "a5902b61-dcd5-4a63-800d-051c08ccc71f"
      },
      "outputs": [
        {
          "output_type": "execute_result",
          "data": {
            "text/plain": [
              "False"
            ]
          },
          "metadata": {},
          "execution_count": 4
        }
      ],
      "source": [
        "bool_var = False\n",
        "bool_var"
      ]
    },
    {
      "cell_type": "markdown",
      "metadata": {
        "id": "Orf_fMjiY90t"
      },
      "source": [
        "### Casting\n",
        "Casting, en el contexto de la programación, se refiere al proceso de convertir un valor de un tipo de datos a otro. En muchos lenguajes de programación, incluido Python, las variables tienen tipos de datos específicos que dictan cómo se almacenan los datos y cómo se pueden realizar operaciones con ellos. Casting permite cambiar el tipo de datos de un valor cuando es necesario para realizar operaciones específicas o para asegurar la compatibilidad entre diferentes tipos de datos."
      ]
    },
    {
      "cell_type": "code",
      "execution_count": null,
      "metadata": {
        "colab": {
          "base_uri": "https://localhost:8080/"
        },
        "id": "24DY-em2iiT0",
        "outputId": "71d770bf-e946-49de-8826-6349cb6e6ffe"
      },
      "outputs": [
        {
          "output_type": "execute_result",
          "data": {
            "text/plain": [
              "False"
            ]
          },
          "metadata": {},
          "execution_count": 5
        }
      ],
      "source": [
        "# Casting y relación entre variables booleanas y enteros\n",
        "num_var = 0\n",
        "casted_bool_var = bool(num_var)\n",
        "casted_bool_var"
      ]
    },
    {
      "cell_type": "code",
      "execution_count": null,
      "metadata": {
        "colab": {
          "base_uri": "https://localhost:8080/"
        },
        "id": "jmizgjv5i1I1",
        "outputId": "a96dd8a5-993c-4c87-f267-cfcdb440f20e"
      },
      "outputs": [
        {
          "output_type": "execute_result",
          "data": {
            "text/plain": [
              "True"
            ]
          },
          "metadata": {},
          "execution_count": 6
        }
      ],
      "source": [
        "#¿Qué pasa cuándo el entero es diferente a 1?\n",
        "num_var = 1\n",
        "casted_bool_var = bool(num_var)\n",
        "casted_bool_var"
      ]
    },
    {
      "cell_type": "code",
      "execution_count": null,
      "metadata": {
        "colab": {
          "base_uri": "https://localhost:8080/"
        },
        "id": "8hAiVe1QjCBR",
        "outputId": "d2ba4fc9-f2fc-486a-d9b2-44f8ce99d607"
      },
      "outputs": [
        {
          "output_type": "execute_result",
          "data": {
            "text/plain": [
              "1"
            ]
          },
          "metadata": {},
          "execution_count": 7
        }
      ],
      "source": [
        "#¿Qué pasa si hacemos el casting al revés?\n",
        "bool_var = True\n",
        "casted_num_var = int(bool_var)\n",
        "casted_num_var"
      ]
    },
    {
      "cell_type": "code",
      "execution_count": null,
      "metadata": {
        "colab": {
          "base_uri": "https://localhost:8080/"
        },
        "id": "aKeDTNqljMSe",
        "outputId": "1cc7a415-3d82-4c74-ca97-762b348005ae"
      },
      "outputs": [
        {
          "output_type": "execute_result",
          "data": {
            "text/plain": [
              "0"
            ]
          },
          "metadata": {},
          "execution_count": 8
        }
      ],
      "source": [
        "#¿Qué pasa si hacemos el casting al revés?\n",
        "bool_var = False\n",
        "casted_num_var = int(bool_var)\n",
        "casted_num_var"
      ]
    },
    {
      "cell_type": "code",
      "execution_count": null,
      "metadata": {
        "colab": {
          "base_uri": "https://localhost:8080/"
        },
        "id": "hQ7LPfhVZGAi",
        "outputId": "df7a511f-58b1-42b6-ad81-7f24a4c05bbc"
      },
      "outputs": [
        {
          "output_type": "execute_result",
          "data": {
            "text/plain": [
              "12"
            ]
          },
          "metadata": {},
          "execution_count": 9
        }
      ],
      "source": [
        "# ¿Qué pasa cuándo hacemos casting de un float a un entero?\n",
        "num_var = 12.5\n",
        "num_var = int(num_var)\n",
        "num_var"
      ]
    },
    {
      "cell_type": "markdown",
      "metadata": {
        "id": "oz9RaOZxSSxx"
      },
      "source": [
        "### Listas\n",
        "\n",
        "Una lista en Python es una estructura de datos versátil y ampliamente utilizada que permite almacenar y gestionar colecciones de elementos. Es una de las estructuras de datos fundamentales en Python, y es similar a un array en otros lenguajes de programación. Las listas son particularmente potentes porque pueden contener elementos de diferentes tipos de datos, y puedes cambiar su contenido (añadir, eliminar o modificar elementos) después de crearlas."
      ]
    },
    {
      "cell_type": "code",
      "execution_count": null,
      "metadata": {
        "colab": {
          "base_uri": "https://localhost:8080/"
        },
        "id": "1x7T2P_Zwd5J",
        "outputId": "7952ec46-75d1-473b-ec6c-93367fe5b012"
      },
      "outputs": [
        {
          "output_type": "execute_result",
          "data": {
            "text/plain": [
              "[1, 2, 3, 4, 5, 6, 7, 8, 9, 10]"
            ]
          },
          "metadata": {},
          "execution_count": 10
        }
      ],
      "source": [
        "#listas\n",
        "list_var = [1,2,3,4,5,6,7,8,9,10]\n",
        "list_var"
      ]
    },
    {
      "cell_type": "code",
      "execution_count": null,
      "metadata": {
        "colab": {
          "base_uri": "https://localhost:8080/"
        },
        "id": "_GAqUGVxjVb5",
        "outputId": "3df487bc-5cbb-43b1-976c-7def59d3aa4e"
      },
      "outputs": [
        {
          "output_type": "stream",
          "name": "stdout",
          "text": [
            "1\n",
            "10\n"
          ]
        }
      ],
      "source": [
        "#indexación\n",
        "print(list_var[0])\n",
        "print(list_var[-1])"
      ]
    },
    {
      "cell_type": "code",
      "execution_count": null,
      "metadata": {
        "colab": {
          "base_uri": "https://localhost:8080/"
        },
        "id": "MhzpZ-qsjbqQ",
        "outputId": "412a0c03-0a1a-4708-cbdb-e5c850cb6d1f"
      },
      "outputs": [
        {
          "output_type": "stream",
          "name": "stdout",
          "text": [
            "[2, 3, 4, 5, 6, 7, 8, 9]\n"
          ]
        }
      ],
      "source": [
        "#indexación con :\n",
        "print(list_var[1:-1])"
      ]
    },
    {
      "cell_type": "code",
      "execution_count": null,
      "metadata": {
        "colab": {
          "base_uri": "https://localhost:8080/"
        },
        "id": "Xjm1QpJ5N0Yj",
        "outputId": "6f94bdae-153b-4879-9de8-35deeae6482a"
      },
      "outputs": [
        {
          "output_type": "stream",
          "name": "stdout",
          "text": [
            "[2, 4, 6, 8]\n"
          ]
        }
      ],
      "source": [
        "print(list_var[1:-1:2])"
      ]
    },
    {
      "cell_type": "code",
      "execution_count": null,
      "metadata": {
        "colab": {
          "base_uri": "https://localhost:8080/"
        },
        "id": "MR3va50cPfSZ",
        "outputId": "8171ea6d-f6d0-4b47-e904-a2322ba8ae70"
      },
      "outputs": [
        {
          "output_type": "execute_result",
          "data": {
            "text/plain": [
              "[1, 2, 3, 4, 5, 6, 7, 8, 9, 0]"
            ]
          },
          "metadata": {},
          "execution_count": 14
        }
      ],
      "source": [
        "list_var[-1] = 0\n",
        "list_var"
      ]
    },
    {
      "cell_type": "code",
      "execution_count": null,
      "metadata": {
        "colab": {
          "base_uri": "https://localhost:8080/"
        },
        "id": "NesCfX4jkB2P",
        "outputId": "5959e496-dbbf-4b5e-8932-c61016283f01"
      },
      "outputs": [
        {
          "output_type": "execute_result",
          "data": {
            "text/plain": [
              "[[1, 2, 3], [10, 20, 30], [100, 200, 300]]"
            ]
          },
          "metadata": {},
          "execution_count": 15
        }
      ],
      "source": [
        "#listas anidadas\n",
        "nested_list = [[1,2,3],[10,20,30],[100,200,300]]\n",
        "nested_list"
      ]
    },
    {
      "cell_type": "code",
      "execution_count": null,
      "metadata": {
        "colab": {
          "base_uri": "https://localhost:8080/"
        },
        "id": "-rZ9pjBBkMyJ",
        "outputId": "2ac5bf67-9ecb-41da-f2f3-aeddc92706e1"
      },
      "outputs": [
        {
          "output_type": "execute_result",
          "data": {
            "text/plain": [
              "[1, 2, 3]"
            ]
          },
          "metadata": {},
          "execution_count": 16
        }
      ],
      "source": [
        "nested_list[0]"
      ]
    },
    {
      "cell_type": "code",
      "execution_count": null,
      "metadata": {
        "colab": {
          "base_uri": "https://localhost:8080/"
        },
        "id": "4pPxIKBukPms",
        "outputId": "ac9cbd07-4dbb-41db-d5c0-748b1afaa5fc"
      },
      "outputs": [
        {
          "output_type": "execute_result",
          "data": {
            "text/plain": [
              "2"
            ]
          },
          "metadata": {},
          "execution_count": 17
        }
      ],
      "source": [
        "nested_list[0][1]"
      ]
    },
    {
      "cell_type": "markdown",
      "metadata": {
        "id": "H4JL_zeASd7n"
      },
      "source": [
        "### Strings\n",
        "Un string in Python es un secuencia de caracteres, como letras, números, símbolos, o espacios. Los strings se usan para represnetar datos basados en texto y son uno de los tipos de datos más fundamentales."
      ]
    },
    {
      "cell_type": "code",
      "execution_count": null,
      "metadata": {
        "colab": {
          "base_uri": "https://localhost:8080/",
          "height": 36
        },
        "id": "WxLnM5hIwc0b",
        "outputId": "d893494d-a8e7-483e-a899-c01413452bbf"
      },
      "outputs": [
        {
          "output_type": "execute_result",
          "data": {
            "text/plain": [
              "'¡Viva México!'"
            ],
            "application/vnd.google.colaboratory.intrinsic+json": {
              "type": "string"
            }
          },
          "metadata": {},
          "execution_count": 18
        }
      ],
      "source": [
        "string_var = \"¡Viva México!\"\n",
        "string_var"
      ]
    },
    {
      "cell_type": "code",
      "execution_count": null,
      "metadata": {
        "colab": {
          "base_uri": "https://localhost:8080/"
        },
        "id": "bOLS53S55_Um",
        "outputId": "eb5c5fd4-645f-43b4-847f-477308417cf1"
      },
      "outputs": [
        {
          "output_type": "stream",
          "name": "stdout",
          "text": [
            "!\n",
            "¡\n",
            "¡Viva México\n",
            "!ocixéM aviV\n"
          ]
        }
      ],
      "source": [
        "print(string_var[-1])\n",
        "print(string_var[0])\n",
        "print(string_var[0:-1])\n",
        "print(string_var[-1:0:-1])"
      ]
    },
    {
      "cell_type": "code",
      "execution_count": null,
      "metadata": {
        "colab": {
          "base_uri": "https://localhost:8080/"
        },
        "id": "HDek51mHSos7",
        "outputId": "c6c1f8d5-2603-4a8b-a8e1-491ca6ee0765"
      },
      "outputs": [
        {
          "output_type": "execute_result",
          "data": {
            "text/plain": [
              "[1, 2, 3, 4, 'Viva', 'México', '!']"
            ]
          },
          "metadata": {},
          "execution_count": 20
        }
      ],
      "source": [
        "# ¿Puedo crear listas de strings y números a la vez?\n",
        "mixed_list = [1,2,3,4,\"Viva\", \"México\",\"!\"]\n",
        "mixed_list"
      ]
    },
    {
      "cell_type": "markdown",
      "metadata": {
        "id": "W_wSZwsTRgv0"
      },
      "source": [
        "### Tuplas\n",
        "Una tupla en Python es una estructura de datos que es similar a una lista en que puede almacenar una colección de elementos. Al igual que las listas, las tuplas son colecciones ordenadas, lo que significa que se mantiene el orden de los elementos de una tupla.\n",
        "\n",
        "La principal diferencia entre las tuplas y las listas es que las tuplas son inmutables. Esto significa que una vez creada una tupla, no se puede cambiar su contenido (añadir, eliminar o modificar elementos). En cambio, las listas son mutables, lo que permite modificar sus elementos.\n",
        "\n"
      ]
    },
    {
      "cell_type": "code",
      "execution_count": null,
      "metadata": {
        "colab": {
          "base_uri": "https://localhost:8080/"
        },
        "id": "QiKM_u7uwfiX",
        "outputId": "e4b873a1-54b7-43e5-8e7b-b3e8bbe2b535"
      },
      "outputs": [
        {
          "output_type": "execute_result",
          "data": {
            "text/plain": [
              "(1, 2, 3, 4, 5, 6, 7, 8, 9, 10)"
            ]
          },
          "metadata": {},
          "execution_count": 21
        }
      ],
      "source": [
        "tuple_var = (1,2,3,4,5,6,7,8,9,10)\n",
        "tuple_var"
      ]
    },
    {
      "cell_type": "code",
      "execution_count": null,
      "metadata": {
        "colab": {
          "base_uri": "https://localhost:8080/",
          "height": 192
        },
        "id": "DNVG7e_UPukV",
        "outputId": "e43e45a4-9388-47a7-c925-25c5ee0e394e"
      },
      "outputs": [
        {
          "output_type": "error",
          "ename": "TypeError",
          "evalue": "ignored",
          "traceback": [
            "\u001b[0;31m---------------------------------------------------------------------------\u001b[0m",
            "\u001b[0;31mTypeError\u001b[0m                                 Traceback (most recent call last)",
            "\u001b[0;32m<ipython-input-22-56b75fbe19a6>\u001b[0m in \u001b[0;36m<cell line: 1>\u001b[0;34m()\u001b[0m\n\u001b[0;32m----> 1\u001b[0;31m \u001b[0mtuple_var\u001b[0m\u001b[0;34m[\u001b[0m\u001b[0;34m-\u001b[0m\u001b[0;36m1\u001b[0m\u001b[0;34m]\u001b[0m \u001b[0;34m=\u001b[0m \u001b[0;36m0\u001b[0m\u001b[0;34m\u001b[0m\u001b[0;34m\u001b[0m\u001b[0m\n\u001b[0m\u001b[1;32m      2\u001b[0m \u001b[0mtuple_var\u001b[0m\u001b[0;34m\u001b[0m\u001b[0;34m\u001b[0m\u001b[0m\n",
            "\u001b[0;31mTypeError\u001b[0m: 'tuple' object does not support item assignment"
          ]
        }
      ],
      "source": [
        "tuple_var[-1] = 0\n",
        "tuple_var"
      ]
    },
    {
      "cell_type": "code",
      "execution_count": null,
      "metadata": {
        "colab": {
          "base_uri": "https://localhost:8080/"
        },
        "id": "pAXv_JpueMK5",
        "outputId": "529a83ca-a8f8-4fb2-e605-ab69eb1db9fd"
      },
      "outputs": [
        {
          "output_type": "execute_result",
          "data": {
            "text/plain": [
              "[1, 2, 3, 4, 5, 6, 7, 8, 9, 10]"
            ]
          },
          "metadata": {},
          "execution_count": 23
        }
      ],
      "source": [
        "tuple_var = list(tuple_var)\n",
        "tuple_var"
      ]
    },
    {
      "cell_type": "code",
      "execution_count": null,
      "metadata": {
        "colab": {
          "base_uri": "https://localhost:8080/"
        },
        "id": "sSjt_wy8eRap",
        "outputId": "90123dd2-c4ef-4809-9347-f05c63ae12f7"
      },
      "outputs": [
        {
          "output_type": "execute_result",
          "data": {
            "text/plain": [
              "(1, 2, 3, 4, 5, 6, 7, 8, 9, 10)"
            ]
          },
          "metadata": {},
          "execution_count": 24
        }
      ],
      "source": [
        "tuple_var = tuple(tuple_var)\n",
        "tuple_var"
      ]
    },
    {
      "cell_type": "markdown",
      "metadata": {
        "id": "mNuz_LTgQwyj"
      },
      "source": [
        "### Diccionario\n",
        "\n",
        "Un diccionario en Python es una estructura de datos que almacena una colección de datos como pares clave-valor. A veces también se denomina \"dict\". Los diccionarios son increíblemente útiles porque te permiten asociar un valor (la parte \"valor\" del par clave-valor) con un identificador único (la parte \"clave\" del par clave-valor). Piensa en un diccionario como en un diccionario del mundo real, donde las palabras (claves) están asociadas a sus significados (valores).\n",
        "\n",
        "Los diccionarios son versátiles y pueden almacenar una amplia gama de tipos de datos como valores, incluidos números, cadenas, listas e incluso otros diccionarios. Las claves de un diccionario deben ser únicas, es decir, no puede haber dos claves idénticas en el mismo diccionario."
      ]
    },
    {
      "cell_type": "code",
      "execution_count": null,
      "metadata": {
        "colab": {
          "base_uri": "https://localhost:8080/"
        },
        "id": "1LoQaQR5wgET",
        "outputId": "c5378c78-b57f-4c60-b466-a9ca9cf2963c"
      },
      "outputs": [
        {
          "output_type": "stream",
          "name": "stdout",
          "text": [
            "{'nombre': 'Gerardo', 'apellido': 'gutiérrez'}\n",
            "Gerardo\n"
          ]
        }
      ],
      "source": [
        "dict_var = {\"nombre\": \"Gerardo\", \"apellido\":\"gutiérrez\"}\n",
        "print(dict_var)\n",
        "print(dict_var[\"nombre\"])"
      ]
    },
    {
      "cell_type": "code",
      "execution_count": null,
      "metadata": {
        "colab": {
          "base_uri": "https://localhost:8080/"
        },
        "id": "EouMHkgHPt4a",
        "outputId": "fb379815-16ca-4183-9fba-03b93852d574"
      },
      "outputs": [
        {
          "output_type": "stream",
          "name": "stdout",
          "text": [
            "gutierrez\n"
          ]
        }
      ],
      "source": [
        "dict_var = {\"nombre\": \"Gerardo\", \"apellidos\":[\"gutiérrez\", \"gutierrez\"]}\n",
        "print(dict_var[\"apellidos\"][-1])"
      ]
    },
    {
      "cell_type": "code",
      "execution_count": null,
      "metadata": {
        "id": "8D-ntlksNM9L",
        "colab": {
          "base_uri": "https://localhost:8080/"
        },
        "outputId": "630bbf58-d712-4149-e738-16c25482f498"
      },
      "outputs": [
        {
          "output_type": "execute_result",
          "data": {
            "text/plain": [
              "{'nombre': 'Gerardo', 'apellidos': ['gutiérrez', 'gutiérrez']}"
            ]
          },
          "metadata": {},
          "execution_count": 27
        }
      ],
      "source": [
        "dict_var[\"apellidos\"][-1] = \"gutiérrez\"\n",
        "dict_var"
      ]
    },
    {
      "cell_type": "code",
      "execution_count": null,
      "metadata": {
        "id": "3cX03eWNNND-",
        "colab": {
          "base_uri": "https://localhost:8080/"
        },
        "outputId": "39ac23a2-d434-4d54-96df-e0e69fa4ad24"
      },
      "outputs": [
        {
          "output_type": "execute_result",
          "data": {
            "text/plain": [
              "{'nombre': 'Gerardo',\n",
              " 'apellidos': ['gutiérrez', 'gutiérrez'],\n",
              " 'experiencia': {'udea': {'cargo': 'desarrollador',\n",
              "   'fecha_inicio': 2020,\n",
              "   'fecha_final': None},\n",
              "  'itm': {'cargo': 'desarrollador',\n",
              "   'fecha_inicio': 2014,\n",
              "   'fecha_final': 2018}}}"
            ]
          },
          "metadata": {},
          "execution_count": 28
        }
      ],
      "source": [
        "dict_var[\"experiencia\"] = {\n",
        "    \"udea\":{\n",
        "        \"cargo\":\"desarrollador\",\n",
        "        \"fecha_inicio\":2020,\n",
        "        \"fecha_final\":None\n",
        "    },\n",
        "    \"itm\": {\n",
        "        \"cargo\":\"administrador hpc\",\n",
        "        \"fecha_inicio\":2018,\n",
        "        \"fecha_final\":2020\n",
        "    },\n",
        "    \"itm\":{\n",
        "        \"cargo\": \"desarrollador\",\n",
        "        \"fecha_inicio\":2014,\n",
        "        \"fecha_final\":2018\n",
        "    }\n",
        "}\n",
        "dict_var"
      ]
    },
    {
      "cell_type": "code",
      "source": [
        "# ¿Cómo podemos repetir la llave?\n",
        "# Usando una lista en vez de un diccionario\n",
        "dict_var[\"experiencia\"] = [\n",
        "    {\n",
        "        \"empresa\":\"udea\",\n",
        "        \"cargo\":\"desarrollador\",\n",
        "        \"fecha_inicio\":2020,\n",
        "        \"fecha_final\":None\n",
        "    },\n",
        "    {\n",
        "        \"empresa\": \"itm\",\n",
        "        \"cargo\": \"administrador hpc\",\n",
        "        \"fecha_inicio\": 2018,\n",
        "        \"fecha_final\": 2020\n",
        "    },\n",
        "    {\n",
        "        \"empresa\":\"itm\",\n",
        "        \"cargo\": \"desarrollador\",\n",
        "        \"fecha_inicio\":2014,\n",
        "        \"fecha_final\":2018\n",
        "    }\n",
        "]\n",
        "dict_var"
      ],
      "metadata": {
        "colab": {
          "base_uri": "https://localhost:8080/"
        },
        "id": "XvAo36wU9av2",
        "outputId": "f35c90a4-2464-4841-879b-b3e9bd8bb647"
      },
      "execution_count": null,
      "outputs": [
        {
          "output_type": "execute_result",
          "data": {
            "text/plain": [
              "{'nombre': 'Gerardo',\n",
              " 'apellidos': ['gutiérrez', 'gutiérrez'],\n",
              " 'experiencia': [{'empresa': 'udea',\n",
              "   'cargo': 'desarrollador',\n",
              "   'fecha_inicio': 2020,\n",
              "   'fecha_final': None},\n",
              "  {'empresa': 'itm',\n",
              "   'cargo': 'administrador hpc',\n",
              "   'fecha_inicio': 2018,\n",
              "   'fecha_final': 2020},\n",
              "  {'empresa': 'itm',\n",
              "   'cargo': 'desarrollador',\n",
              "   'fecha_inicio': 2014,\n",
              "   'fecha_final': 2018}]}"
            ]
          },
          "metadata": {},
          "execution_count": 29
        }
      ]
    },
    {
      "cell_type": "markdown",
      "metadata": {
        "id": "3eByNOYSwkjY"
      },
      "source": [
        "### Operaciones sobre las variables"
      ]
    },
    {
      "cell_type": "code",
      "execution_count": null,
      "metadata": {
        "colab": {
          "base_uri": "https://localhost:8080/"
        },
        "id": "saKesS6Uwwm6",
        "outputId": "2fa226a2-d468-4f86-ca4c-ab7db6ecd784"
      },
      "outputs": [
        {
          "output_type": "stream",
          "name": "stdout",
          "text": [
            "3\n",
            "12\n",
            "13\n",
            "144\n"
          ]
        }
      ],
      "source": [
        "#operaciones con variables numéricas\n",
        "print( 1 + 2 )\n",
        "print( num_var )\n",
        "print( num_var + 1 )\n",
        "print( num_var**2 )"
      ]
    },
    {
      "cell_type": "code",
      "execution_count": null,
      "metadata": {
        "id": "rBS_CJM2w0s2",
        "colab": {
          "base_uri": "https://localhost:8080/"
        },
        "outputId": "28137eaf-a255-4c82-ece5-bbc51fef7fde"
      },
      "outputs": [
        {
          "output_type": "stream",
          "name": "stdout",
          "text": [
            "[0, 0, 0, 0, 0, 0, 0, 0, 0, 0]\n",
            "[1, 2, 3, 4, 5, 6, 7, 8, 9, 0]\n",
            "[1, 2, 3, 4, 5, 6, 7, 8, 9, 0, 1, 2, 3, 4, 5, 6, 7, 8, 9, 0]\n",
            "[0, 1, 2, 3, 4, 5, 6, 7, 8, 9]\n"
          ]
        }
      ],
      "source": [
        "#operaciones con listas\n",
        "print( [0] * 10 )\n",
        "print( list_var )\n",
        "print( list_var * 2 )\n",
        "print( [0] + list_var[:-1])"
      ]
    },
    {
      "cell_type": "code",
      "execution_count": null,
      "metadata": {
        "id": "2G7NG_XqwzPl",
        "colab": {
          "base_uri": "https://localhost:8080/"
        },
        "outputId": "724e21f7-5848-4ad8-8ef4-018a52398049"
      },
      "outputs": [
        {
          "output_type": "stream",
          "name": "stdout",
          "text": [
            "¡Viva México!\n",
            "¡Viva México! ¡Viva México! ¡Viva México! ¡Viva México! ¡Viva México! ¡Viva México! ¡Viva México! ¡Viva México! ¡Viva México! ¡Viva México! \n"
          ]
        }
      ],
      "source": [
        "#operaciones con strings\n",
        "print( \"¡Viva \" + \"México!\" )\n",
        "print( (string_var + \" \") * 10)"
      ]
    },
    {
      "cell_type": "code",
      "execution_count": null,
      "metadata": {
        "id": "YTM5MCWFNe6y",
        "colab": {
          "base_uri": "https://localhost:8080/"
        },
        "outputId": "f23aa353-8bf9-4922-85a5-5e139e08340c"
      },
      "outputs": [
        {
          "output_type": "stream",
          "name": "stdout",
          "text": [
            "2\n",
            "1\n",
            "1\n",
            "1\n"
          ]
        }
      ],
      "source": [
        "#operaciones con booleanos\n",
        "print( True + True )\n",
        "print( True + False )\n",
        "print( True * True )\n",
        "print( False**False )"
      ]
    },
    {
      "cell_type": "code",
      "source": [
        "#operaciones lógicas\n",
        "print( not True )\n",
        "print( True and False )\n",
        "print( True or False )"
      ],
      "metadata": {
        "colab": {
          "base_uri": "https://localhost:8080/"
        },
        "id": "bb9AbFtTBBAO",
        "outputId": "16f41eed-9c5a-4160-ea03-0690704be36c"
      },
      "execution_count": null,
      "outputs": [
        {
          "output_type": "stream",
          "name": "stdout",
          "text": [
            "False\n",
            "False\n",
            "True\n"
          ]
        }
      ]
    },
    {
      "cell_type": "markdown",
      "metadata": {
        "id": "knJIfPU_xC3p"
      },
      "source": [
        "## Control de flujo\n",
        "\n",
        "El control de flujo en programación se refiere a los mecanismos y estructuras que permiten dictar el orden en el que se ejecutan las instrucciones o sentencias en un programa. Permite tomar decisiones, repetir tareas y controlar el flujo general de la ejecución de tu programa."
      ]
    },
    {
      "cell_type": "markdown",
      "metadata": {
        "id": "sFt_hQPL5Y0u"
      },
      "source": [
        "### ¿Qué es una función?\n",
        "\n",
        "Una función en Python es como una receta o un conjunto de instrucciones que puedes dar al ordenador para que realice una tarea específica. Al igual que en la cocina, donde tienes una receta que te dice cómo hacer un plato en particular, una función en Python es un bloque de código con nombre que hace algo específico cuando lo \"llamas\".\n",
        "\n",
        "Imagina que tienes una caja (la función), y le das algunos ingredientes (entrada), y te da un plato (salida) a cambio. No necesitas saber cómo funciona la caja por dentro; sólo necesitas saber qué ingredientes darle y qué obtendrás a cambio."
      ]
    },
    {
      "cell_type": "markdown",
      "source": [
        "#### funciones intrínsicas ( built-in )\n",
        "\n",
        "Las funciones intrínsicas son funciones predefinidas que forman parte del núcleo del lenguaje Python y están siempre disponibles para su uso sin necesidad de importaciones o instalaciones adicionales. Estas funciones sirven para varios propósitos y proporcionan una funcionalidad esencial para realizar tareas comunes en programación. Las funciones integradas de Python cubren una amplia gama de operaciones, incluyendo la manipulación de datos, entrada/salida, cálculos matemáticos y más.\n",
        "\n",
        "Aquí hay algunas categorías de funciones incorporadas comunes en Python:\n",
        "\n",
        "* Funciones de entrada y salida:\n",
        "  * print(): Envía texto o datos a la consola.\n",
        "  * input(): Lee la entrada del usuario desde el teclado.\n",
        "\n",
        "* Funciones de conversión de tipos:\n",
        "  * int(): Convierte un valor en un entero.\n",
        "  * float(): Convierte un valor en un número de coma flotante.\n",
        "  * str(): Convierte un valor en una cadena.\n",
        "  * list(): Convierte un iterable en una lista.\n",
        "  * tuple(): Convierte un iterable en una tupla.\n",
        "  * dict(): Convierte un iterable de pares clave-valor en un diccionario.\n",
        "\n",
        "* Funciones matemáticas:\n",
        "  * abs(): Devuelve el valor absoluto de un número.\n",
        "  * max(): Devuelve el valor máximo de una secuencia.\n",
        "  * min(): Devuelve el valor mínimo de una secuencia.\n",
        "  * pow(): Eleva un número a una potencia especificada.\n",
        "  * round(): Redondea un número a un número especificado de decimales.\n",
        "  * sum(): Devuelve la suma de todos los elementos de un iterable.\n",
        "\n",
        "* Funciones de cadenas de caracteres:\n",
        "  * len(): Devuelve la longitud (número de caracteres) de una cadena.\n",
        "  * str.upper(): Convierte una cadena a mayúsculas.\n",
        "  * str.lower(): Convierte una cadena a minúsculas.\n",
        "  * str.capitalize(): Pone en mayúscula el primer carácter de una cadena.\n",
        "  * str.split(): Divide una cadena en una lista de subcadenas en función de un delimitador.\n",
        "  * str.join(): Une una lista de cadenas en una sola cadena utilizando un delimitador.\n",
        "\n",
        "* Funciones de listas:\n",
        "  * len(): Devuelve el número de elementos de una\n",
        "  * list.append(): Añade un elemento al final de una lista.\n",
        "  * list.pop(): Elimina y devuelve el último elemento de una lista.\n",
        "  * list.sort(): Ordena los elementos de una lista.\n",
        "  * list.reverse(): Invierte el orden de los elementos de una lista.\n",
        "\n",
        "* Funciones de entrada/salida de ficheros:\n",
        "  * open(): Abre un fichero para leer, escribir o añadir.\n",
        "  * file.read(): Lee el contenido de un fichero.\n",
        "  * file.write(): Escribe datos en un fichero.\n",
        "  * file.close(): Cierra un fichero abierto.\n",
        "\n",
        "* Funciones lógicas y de comparación:\n",
        "  * bool(): Convierte un valor en booleano (Verdadero o Falso).\n",
        "  * type(): Devuelve el tipo de datos de un valor.\n",
        "  * isinstance(): Comprueba si un objeto es una instancia de una clase o tipo de datos especificado.\n",
        "  * all(): Devuelve True si todos los elementos de un iterable son True.\n",
        "  * any(): Devuelve True si al menos un elemento de un iterable es True.\n",
        "* Otras funciones comunes:\n",
        "  * range(): Genera una secuencia de números.\n",
        "  * enumerate(): Devuelve un iterador que empareja cada elemento de un iterable con su índice.\n",
        "  * zip(): Combina múltiples iterables en tuplas.\n",
        "\n",
        "https://docs.python.org/3/library/functions.html"
      ],
      "metadata": {
        "id": "L8OxQzyLYojQ"
      }
    },
    {
      "cell_type": "code",
      "source": [
        "print( pow(2,3) )\n",
        "print( len(list_var) )\n",
        "print( type( dict_var ))\n",
        "print( isinstance(dict_var,dict) )\n",
        "print( any( [0]*10 ))\n",
        "print( any( [0]*10+[1] ))"
      ],
      "metadata": {
        "colab": {
          "base_uri": "https://localhost:8080/"
        },
        "id": "T61wqJPt_eGh",
        "outputId": "72065bb4-6625-4c33-d736-8bcccbf05faa"
      },
      "execution_count": null,
      "outputs": [
        {
          "output_type": "stream",
          "name": "stdout",
          "text": [
            "8\n",
            "10\n",
            "<class 'dict'>\n",
            "True\n",
            "False\n",
            "True\n"
          ]
        }
      ]
    },
    {
      "cell_type": "code",
      "source": [
        "nombre = \"gutiérrez gutiérrez, gerardo\"\n",
        "print( nombre.upper() )\n",
        "print( nombre.split(\", \") )\n",
        "lista_nombre = nombre.split(\", \")\n",
        "lista_nombre.reverse()\n",
        "print( \" \".join(lista_nombre).capitalize() )"
      ],
      "metadata": {
        "id": "lszTe2uF_0kx",
        "colab": {
          "base_uri": "https://localhost:8080/"
        },
        "outputId": "20e47c26-1fa4-44ca-a106-bfd687773c61"
      },
      "execution_count": null,
      "outputs": [
        {
          "output_type": "stream",
          "name": "stdout",
          "text": [
            "GUTIÉRREZ GUTIÉRREZ, GERARDO\n",
            "['gutiérrez gutiérrez', 'gerardo']\n",
            "Gerardo gutiérrez gutiérrez\n"
          ]
        }
      ]
    },
    {
      "cell_type": "code",
      "source": [
        "print( dict_var.keys() )\n",
        "print( dict_var.values() )\n",
        "print( dict_var.items() )"
      ],
      "metadata": {
        "colab": {
          "base_uri": "https://localhost:8080/"
        },
        "id": "9tfyaZxOzS3L",
        "outputId": "50ba5d93-757e-4e85-fd94-baed45d9f278"
      },
      "execution_count": null,
      "outputs": [
        {
          "output_type": "stream",
          "name": "stdout",
          "text": [
            "dict_keys(['nombre', 'apellidos', 'experiencia'])\n",
            "dict_values(['Gerardo', ['gutiérrez', 'gutiérrez'], [{'empresa': 'udea', 'cargo': 'desarrollador', 'fecha_inicio': 2020, 'fecha_final': None}, {'empresa': 'itm', 'cargo': 'administrador hpc', 'fecha_inicio': 2018, 'fecha_final': 2020}, {'empresa': 'itm', 'cargo': 'desarrollador', 'fecha_inicio': 2014, 'fecha_final': 2018}]])\n",
            "dict_items([('nombre', 'Gerardo'), ('apellidos', ['gutiérrez', 'gutiérrez']), ('experiencia', [{'empresa': 'udea', 'cargo': 'desarrollador', 'fecha_inicio': 2020, 'fecha_final': None}, {'empresa': 'itm', 'cargo': 'administrador hpc', 'fecha_inicio': 2018, 'fecha_final': 2020}, {'empresa': 'itm', 'cargo': 'desarrollador', 'fecha_inicio': 2014, 'fecha_final': 2018}])])\n"
          ]
        }
      ]
    },
    {
      "cell_type": "markdown",
      "source": [
        "**Las funciones** son una parte fundamental del desarrollo de software porque promueven las siguientes características:\n",
        "\n",
        "* **Modularidad:** Las funciones permiten dividir un programa complejo en partes más pequeñas y manejables. Cada función puede centrarse en una tarea u operación específica, haciendo que el código esté más organizado y sea más fácil de entender.\n",
        "\n",
        "* **Reutilización:** Una vez escrita una función, puede utilizarla tantas veces como sea necesario a lo largo de su programa o incluso en otros programas.\n",
        "\n",
        "* **Abstracción:** Las funciones ocultan los detalles de implementación de una tarea u operación. Cuando se llama a una función, no es necesario saber cómo funciona internamente; basta con saber qué hace y qué entradas necesita.\n",
        "\n",
        "* **Facilidad de lectura:** Las funciones bien nombradas proporcionan nombres significativos para operaciones específicas, haciendo el código más autoexplicativo y legible.\n",
        "\n",
        "* **Pruebas y depuración:** Las funciones facilitan la comprobación y depuración del código. Puede aislar funciones individuales y probarlas de forma independiente, asegurándose de que funcionan correctamente antes de integrarlas en el programa más amplio. Si se produce un error, las funciones ayudan a localizar y solucionar el problema de forma más eficaz.\n",
        "\n",
        "* **Colaboración:** Cuando se trabaja en un proyecto con otros programadores, las funciones permiten dividir el trabajo. Cada miembro del equipo puede centrarse en implementar funciones específicas, y el código base puede integrarse sin problemas.\n",
        "\n",
        "* **Mantenimiento:** A medida que el software evoluciona, los cambios y actualizaciones son inevitables. Las funciones facilitan la identificación y actualización de partes específicas del código base sin afectar a otras partes.\n",
        "\n",
        "* **Organización del código:** Las funciones ayudan a estructurar el código de forma lógica. Cuando las funciones se clasifican y organizan adecuadamente, es más fácil localizar y modificar partes específicas del código.\n",
        "\n",
        "* **Eficiencia:** El código repetido (duplicación de código) es propenso a errores e ineficiente. Las funciones permiten escribir código una vez y utilizarlo varias veces, reduciendo la redundancia y garantizando la coherencia.\n",
        "\n",
        "* **Documentación:** Las funciones fomentan el uso de docstrings y comentarios, que documentan el propósito, los parámetros y el comportamiento esperado del código. Esta documentación ayuda tanto a los programadores como a los usuarios a entender cómo utilizar correctamente las funciones."
      ],
      "metadata": {
        "id": "u4qDtzZUA2S5"
      }
    },
    {
      "cell_type": "code",
      "execution_count": null,
      "metadata": {
        "id": "_NSSqJJUxtqB"
      },
      "outputs": [],
      "source": [
        "def saludo(): #definición de la función\n",
        "  print(\"¡Buenos días!\")"
      ]
    },
    {
      "cell_type": "code",
      "source": [
        "#uso de la función\n",
        "saludo()"
      ],
      "metadata": {
        "colab": {
          "base_uri": "https://localhost:8080/"
        },
        "id": "vo45EZ61zQPl",
        "outputId": "23950d9c-d8c4-4f1b-f71f-43036c791cff"
      },
      "execution_count": null,
      "outputs": [
        {
          "output_type": "stream",
          "name": "stdout",
          "text": [
            "¡Buenos días!\n"
          ]
        }
      ]
    },
    {
      "cell_type": "code",
      "source": [
        "#Función con argumentos\n",
        "def saludo(nombre):\n",
        "  print(\"Buenos días, \"+nombre+\".\")"
      ],
      "metadata": {
        "id": "YGmtuASOzQYF"
      },
      "execution_count": null,
      "outputs": []
    },
    {
      "cell_type": "code",
      "source": [
        "saludo(\"Gerardo\")"
      ],
      "metadata": {
        "colab": {
          "base_uri": "https://localhost:8080/"
        },
        "id": "c4LxN-6R14DQ",
        "outputId": "c42651ca-2929-4edc-dd83-110215faa68b"
      },
      "execution_count": null,
      "outputs": [
        {
          "output_type": "stream",
          "name": "stdout",
          "text": [
            "Buenos días, Gerardo.\n"
          ]
        }
      ]
    },
    {
      "cell_type": "code",
      "source": [
        "#función con argumento por defecto\n",
        "def saludo(nombre=\"Fulano\"):\n",
        "  print(\"Buenos días, \"+nombre+\".\")"
      ],
      "metadata": {
        "id": "NVrlOwvY14Rk"
      },
      "execution_count": null,
      "outputs": []
    },
    {
      "cell_type": "code",
      "source": [
        "saludo()\n",
        "saludo(\"Gerardo\")"
      ],
      "metadata": {
        "colab": {
          "base_uri": "https://localhost:8080/"
        },
        "id": "UdK0jprG2MEo",
        "outputId": "822ec205-427b-4792-844f-7966d525e303"
      },
      "execution_count": null,
      "outputs": [
        {
          "output_type": "stream",
          "name": "stdout",
          "text": [
            "Buenos días, Fulano.\n",
            "Buenos días, Gerardo.\n"
          ]
        }
      ]
    },
    {
      "cell_type": "code",
      "source": [
        "#función con retorno\n",
        "def comparar_nombres(nombre1,nombre2):# si los nombres son iguales retorna un True\n",
        "  return nombre1.lower() == nombre2.lower()"
      ],
      "metadata": {
        "id": "9BpSaHzb2MHa"
      },
      "execution_count": null,
      "outputs": []
    },
    {
      "cell_type": "code",
      "source": [
        "comparar_nombres(\"Gerardo\",\"Alberto\")"
      ],
      "metadata": {
        "colab": {
          "base_uri": "https://localhost:8080/"
        },
        "id": "jqMhZTbz23sC",
        "outputId": "fef71b52-7172-4a75-c158-cfde983072b3"
      },
      "execution_count": null,
      "outputs": [
        {
          "output_type": "execute_result",
          "data": {
            "text/plain": [
              "False"
            ]
          },
          "metadata": {},
          "execution_count": 45
        }
      ]
    },
    {
      "cell_type": "code",
      "source": [
        "#alcance (scope) de las variables\n",
        "nombre =  \"Gerardo Gutierrez\"\n",
        "\n",
        "def cambiar_nombre(nombre=\"Fulano\"):\n",
        "  nombre = nombre.split()\n",
        "  nombre.reverse()\n",
        "  nombre = \", \".join(nombre)\n",
        "  return nombre\n",
        "\n",
        "print(cambiar_nombre(nombre))\n",
        "print(nombre)"
      ],
      "metadata": {
        "colab": {
          "base_uri": "https://localhost:8080/"
        },
        "id": "Z0i_Igqf2OgS",
        "outputId": "194ba7f7-4713-4ebe-a832-8a67a1ab68cb"
      },
      "execution_count": null,
      "outputs": [
        {
          "output_type": "stream",
          "name": "stdout",
          "text": [
            "Gutierrez, Gerardo\n",
            "Gerardo Gutierrez\n"
          ]
        }
      ]
    },
    {
      "cell_type": "markdown",
      "metadata": {
        "id": "Oaa-CNYDxE6f"
      },
      "source": [
        "### Ciclos y condicionales\n",
        "\n",
        "En programación, los **bucles o ciclos** son estructuras de control que permiten ejecutar repetidamente un bloque de código mientras se cumpla una determinada condición. Permiten automatizar tareas repetitivas e iterar sobre colecciones de datos. Entre los tipos más comunes de bucles se incluyen los bucles for, que iteran sobre una secuencia, y los bucles while, que repiten código hasta que una condición se convierte en falsa. Los bucles son esenciales para tareas como el procesamiento de listas, la búsqueda de datos, la realización de cálculos y la implementación de algoritmos iterativos.\n",
        "\n",
        "Los **condicionales** se refieren a estructuras de control que permiten tomar decisiones basadas en condiciones o criterios específicos. Permiten ejecutar diferentes bloques de código dependiendo de si una condición dada es verdadera o falsa. Las construcciones condicionales más comunes son las sentencias if, elif (else if) y else, así como las expresiones ternarias. Las condicionales desempeñan un papel crucial en el control del flujo de un programa y se utilizan para tareas como la ramificación, la gestión de errores y la respuesta a las entradas del usuario."
      ]
    },
    {
      "cell_type": "code",
      "execution_count": null,
      "metadata": {
        "id": "hLFKaJRhw52T",
        "colab": {
          "base_uri": "https://localhost:8080/"
        },
        "outputId": "73d04706-c166-4762-c63f-b8c35d880ced"
      },
      "outputs": [
        {
          "output_type": "stream",
          "name": "stdout",
          "text": [
            "0\n",
            "1\n",
            "4\n",
            "9\n",
            "16\n",
            "25\n",
            "36\n",
            "49\n",
            "64\n"
          ]
        }
      ],
      "source": [
        "for item in [0,1,2,3,4,5,6,7,8]:\n",
        "  print( item ** 2 )"
      ]
    },
    {
      "cell_type": "markdown",
      "source": [
        "Un **bloque de código** es un grupo de sentencias que se agrupan en función de su nivel de indentación. Python utiliza la sangría para definir el alcance y la estructura de los bloques de código, en lugar de utilizar llaves u otros delimitadores como otros lenguajes de programación."
      ],
      "metadata": {
        "id": "eoMWafxU83Qg"
      }
    },
    {
      "cell_type": "code",
      "source": [
        "#Podemos introducir cualquier tipo de instrucción dentro del ciclo, por ejemplo otro ciclo\n",
        "for item1 in [1,2,3,4]:\n",
        "  for item2 in [-1,-2,-3,-4]:\n",
        "    print( item1 * item2 )"
      ],
      "metadata": {
        "id": "9oaHo1DH_fur",
        "colab": {
          "base_uri": "https://localhost:8080/"
        },
        "outputId": "e4fbfee3-bb85-4a5f-815e-da7383e6abd3"
      },
      "execution_count": null,
      "outputs": [
        {
          "output_type": "stream",
          "name": "stdout",
          "text": [
            "-1\n",
            "-2\n",
            "-3\n",
            "-4\n",
            "-2\n",
            "-4\n",
            "-6\n",
            "-8\n",
            "-3\n",
            "-6\n",
            "-9\n",
            "-12\n",
            "-4\n",
            "-8\n",
            "-12\n",
            "-16\n"
          ]
        }
      ]
    },
    {
      "cell_type": "markdown",
      "source": [
        "Los **iteradores** son objetos de Python que permiten recorrer o iterar sobre una colección de elementos de uno en uno. Se utilizan comúnmente con secuencias como listas, tuplas, cadenas y otros objetos iterables. El propósito principal de los iteradores es proporcionar una forma de acceder a los elementos de una colección secuencialmente sin necesidad de conocer la estructura de datos subyacente."
      ],
      "metadata": {
        "id": "_oxKSPbpQz9R"
      }
    },
    {
      "cell_type": "code",
      "source": [
        "#Para saber si un tipo de datos o variable se puede iterar\n",
        "hasattr(range(10),'__iter__')"
      ],
      "metadata": {
        "id": "ggjyvs_4_fxH",
        "colab": {
          "base_uri": "https://localhost:8080/"
        },
        "outputId": "e053e154-4925-4436-bcd7-f483a6d43b51"
      },
      "execution_count": null,
      "outputs": [
        {
          "output_type": "execute_result",
          "data": {
            "text/plain": [
              "True"
            ]
          },
          "metadata": {},
          "execution_count": 50
        }
      ]
    },
    {
      "cell_type": "code",
      "source": [
        "for item in range(9):\n",
        "  print( item ** 2 )"
      ],
      "metadata": {
        "colab": {
          "base_uri": "https://localhost:8080/"
        },
        "id": "ixKUQSrvSBsb",
        "outputId": "e21f6c39-9290-4c9b-e193-b4743e9a471d"
      },
      "execution_count": null,
      "outputs": [
        {
          "output_type": "stream",
          "name": "stdout",
          "text": [
            "0\n",
            "1\n",
            "4\n",
            "9\n",
            "16\n",
            "25\n",
            "36\n",
            "49\n",
            "64\n"
          ]
        }
      ]
    },
    {
      "cell_type": "code",
      "source": [
        "print( \"¿La función keys de un diccionario es un iterable? \",hasattr(dict_var.keys(),'__iter__') )\n",
        "\n",
        "print(\"Imprimamos los tipos de variables que contiene el diccionario inicial\")\n",
        "for llave in dict_var.keys():\n",
        "  print( llave )\n",
        "  print( type( dict_var[llave] ), len( dict_var[llave] ) )"
      ],
      "metadata": {
        "colab": {
          "base_uri": "https://localhost:8080/"
        },
        "id": "TnlQ23IxSOts",
        "outputId": "278d6c2e-5bfc-4bca-d228-e7c0c7e20b2f"
      },
      "execution_count": null,
      "outputs": [
        {
          "output_type": "stream",
          "name": "stdout",
          "text": [
            "¿La función keys de un diccionario es un iterable?  True\n",
            "Imprimamos los tipos de variables que contiene el diccionario inicial\n",
            "nombre\n",
            "<class 'str'> 7\n",
            "apellidos\n",
            "<class 'list'> 2\n",
            "experiencia\n",
            "<class 'list'> 3\n"
          ]
        }
      ]
    },
    {
      "cell_type": "code",
      "source": [
        "edades = {\n",
        "    \"Astrid Lopez\": 38,\n",
        "    \"Jorge Castaño\": 51,\n",
        "    \"Adrián Araujo\": 29,\n",
        "    \"Lore\": 15,\n",
        "    \"Mauricio Quintana\":45,\n",
        "    \"Carolina Alarcón\": 12,\n",
        "    \"Felipe Hurtado\": 21,\n",
        "    \"Marisol Ospina\": 18,\n",
        "    \"Paco\": 17,\n",
        "    \"Andrea Montoya\": 32,\n",
        "    \"Gabriel Toledo\":17,\n",
        "    \"Manu\": 13,\n",
        "    \"Al Cólico\":99\n",
        "}\n",
        "indice = 0\n",
        "nombre = list(edades.keys())[indice] #hay que hacer un casting porque lo que retorna la función keys no es una lista\n",
        "while len(nombre) > 10:\n",
        "  print(nombre+\" tiene \"+str(edades[nombre])+\" años\") #hay que hacer un casting para sumar strings\n",
        "  indice = indice + 1\n",
        "  nombre = list(edades.keys())[indice]"
      ],
      "metadata": {
        "colab": {
          "base_uri": "https://localhost:8080/"
        },
        "id": "hzsy_wB2TIgN",
        "outputId": "3f786af0-4298-4281-f073-cfb460b5bc49"
      },
      "execution_count": null,
      "outputs": [
        {
          "output_type": "stream",
          "name": "stdout",
          "text": [
            "Astrid Lopez tiene 38 años\n",
            "Jorge Castaño tiene 51 años\n",
            "Adrián Araujo tiene 29 años\n"
          ]
        }
      ]
    },
    {
      "cell_type": "code",
      "source": [
        "#condicionales\n",
        "var1 = 12\n",
        "var2 = 24\n",
        "\n",
        "if var1 < var2:\n",
        "  print(\"La primera variable es menor que la segunda\")\n",
        "else:\n",
        "  print(\"La primera variable es mayor que la segunda\")"
      ],
      "metadata": {
        "colab": {
          "base_uri": "https://localhost:8080/"
        },
        "id": "s4gGWfhiVSSH",
        "outputId": "b114c03c-5480-40a2-97c6-2bab6902c398"
      },
      "execution_count": null,
      "outputs": [
        {
          "output_type": "stream",
          "name": "stdout",
          "text": [
            "La primera variable es menor que la segunda\n"
          ]
        }
      ]
    },
    {
      "cell_type": "code",
      "source": [
        "#También exite la opción de \"si no\". Pongamos la celda anterior en una función\n",
        "def comparacion(var1,var2):\n",
        "  if var1 < var2:\n",
        "    print(\"La primera variable es menor que la segunda\")\n",
        "  elif var1 > var2:\n",
        "    print(\"La primera variable es mayor que la segunda\")\n",
        "  else:\n",
        "    print(\"Ambas variables son iguales\")\n",
        "\n",
        "comparacion(1,2)\n",
        "comparacion(10,2)\n",
        "comparacion(1e2,1e2)"
      ],
      "metadata": {
        "colab": {
          "base_uri": "https://localhost:8080/"
        },
        "id": "rpvIyXt39xrV",
        "outputId": "d0b7556a-f607-4b9d-b493-79806728d99d"
      },
      "execution_count": null,
      "outputs": [
        {
          "output_type": "stream",
          "name": "stdout",
          "text": [
            "La primera variable es menor que la segunda\n",
            "La primera variable es mayor que la segunda\n",
            "Ambas variables son iguales\n"
          ]
        }
      ]
    },
    {
      "cell_type": "code",
      "source": [
        "#Los condicionales son muy útiles al interior de los bucles\n",
        "for nombre,edad in edades.items():\n",
        "  if edad < 18:\n",
        "    print(nombre+\" es menor de edad. Tiene \"+str(edad)+\" años.\")"
      ],
      "metadata": {
        "colab": {
          "base_uri": "https://localhost:8080/"
        },
        "id": "I-ggwhTw9xz0",
        "outputId": "f1d79cd7-54af-4a3a-e726-a04c0ff65ad1"
      },
      "execution_count": null,
      "outputs": [
        {
          "output_type": "stream",
          "name": "stdout",
          "text": [
            "Lore es menor de edad. Tiene 15 años.\n",
            "Carolina Alarcón es menor de edad. Tiene 12 años.\n",
            "Paco es menor de edad. Tiene 17 años.\n",
            "Gabriel Toledo es menor de edad. Tiene 17 años.\n",
            "Manu es menor de edad. Tiene 13 años.\n"
          ]
        }
      ]
    },
    {
      "cell_type": "code",
      "source": [
        "#Usemos el diccionario con las edades para encontrar el promedio de los mayores de edad y de los menores de edad\n",
        "mayores = []\n",
        "menores = []\n",
        "for nombre,edad in edades.items():\n",
        "  if edad<18:\n",
        "    mayores.append(edad)\n",
        "  else:\n",
        "    menores.append(edad)\n",
        "print( \"El promedio de edad de los mayores de edad es: \",sum(mayores)/len(mayores) )\n",
        "print( \"El promedio de edad de los menores de edad es: \",sum(menores)/len(menores) )"
      ],
      "metadata": {
        "id": "20qW8C0h_fzg",
        "colab": {
          "base_uri": "https://localhost:8080/"
        },
        "outputId": "7620bfc4-b6e1-40a5-9e3f-cb0d7a95817a"
      },
      "execution_count": null,
      "outputs": [
        {
          "output_type": "stream",
          "name": "stdout",
          "text": [
            "El promedio de edad de los mayores de edad es:  14.8\n",
            "El promedio de edad de los menores de edad es:  41.625\n"
          ]
        }
      ]
    },
    {
      "cell_type": "markdown",
      "source": [
        "En los bucles, puedes utilizar sentencias de control como break y continue para alterar el flujo del bucle. break te permite salir del bucle antes de tiempo, mientras que continue te permite saltarte el resto de la iteración actual y pasar a la siguiente."
      ],
      "metadata": {
        "id": "0C9CJH1J3iv2"
      }
    },
    {
      "cell_type": "code",
      "source": [
        "#Queremos que el bucle pare si detecta algún nombre malo. Vamos a asumir que los nombres cortos son sospechosos\n",
        "for nombre,edad in edades.items():\n",
        "  if len(nombre) < 10:\n",
        "    print(nombre+\" es un dato sospechoso. \\nEjecución terminada\")\n",
        "    break"
      ],
      "metadata": {
        "id": "ZFAr3C-u_f1N",
        "colab": {
          "base_uri": "https://localhost:8080/"
        },
        "outputId": "0286fab1-aac4-4082-bb25-fd9003e10dcb"
      },
      "execution_count": null,
      "outputs": [
        {
          "output_type": "stream",
          "name": "stdout",
          "text": [
            "Lore es un dato sospechoso. \n",
            "Ejecución terminada\n"
          ]
        }
      ]
    },
    {
      "cell_type": "code",
      "source": [
        "#Si queremos que el proceso continue a pesar de que el dato es sospechoso...\n",
        "#Encontremos de nuevo el promedio evitando nombres sospechosos\n",
        "mayores = []\n",
        "menores = []\n",
        "for nombre,edad in edades.items():\n",
        "  if len(nombre)<10:\n",
        "    continue\n",
        "  if edad<18:\n",
        "    mayores.append(edad)\n",
        "  else:\n",
        "    menores.append(edad)\n",
        "print( \"El promedio de edad de los mayores de edad es: \",sum(mayores)/len(mayores) )\n",
        "print( \"El promedio de edad de los menores de edad es: \",sum(menores)/len(menores) )"
      ],
      "metadata": {
        "id": "qUHzH1o8_f3A",
        "colab": {
          "base_uri": "https://localhost:8080/"
        },
        "outputId": "7ac5e4df-98ea-4249-8e29-3c493c972471"
      },
      "execution_count": null,
      "outputs": [
        {
          "output_type": "stream",
          "name": "stdout",
          "text": [
            "El promedio de edad de los mayores de edad es:  14.5\n",
            "El promedio de edad de los menores de edad es:  33.42857142857143\n"
          ]
        }
      ]
    },
    {
      "cell_type": "markdown",
      "metadata": {
        "id": "6sV2hM_BxZBk"
      },
      "source": [
        "### Excepciones\n",
        "Una excepción en programación se refiere a un evento o situación que ocurre durante la ejecución de un programa, interrumpiendo el flujo normal del programa porque representa un error o una condición inusual. Las excepciones son una forma de que los programas manejen situaciones inesperadas o erróneas con elegancia, en lugar de bloquearse o producir resultados impredecibles.\n",
        "\n",
        "En Python y en muchos otros lenguajes de programación, las excepciones se gestionan mediante un mecanismo llamado \"manejo de excepciones\".\n",
        "\n",
        "https://docs.python.org/3/library/exceptions.html#bltin-exceptions"
      ]
    },
    {
      "cell_type": "code",
      "execution_count": null,
      "metadata": {
        "id": "bCBTw9Z4xMSc",
        "colab": {
          "base_uri": "https://localhost:8080/"
        },
        "outputId": "28af0a68-2118-4162-dcb2-eb443bfe82e9"
      },
      "outputs": [
        {
          "output_type": "stream",
          "name": "stdout",
          "text": [
            "Ingrese un número: 15\n",
            "Ingrese otro número: 0\n",
            "La división entre 0 no está definida\n",
            "Ejecución terminada\n"
          ]
        }
      ],
      "source": [
        "try:\n",
        "    num1 = int(input(\"Ingrese un número: \"))\n",
        "    num2 = int(input(\"Ingrese otro número: \"))\n",
        "\n",
        "    result = num1 / num2\n",
        "    print(\"El resultado de la división es:\",result)\n",
        "except ValueError:\n",
        "    print(\"Valor equivocado. Asegúrese que lo valores son numéricos\")\n",
        "except ZeroDivisionError:\n",
        "    print(\"La división entre 0 no está definida\")\n",
        "else:\n",
        "    print(\"No se encontraron errores\")\n",
        "finally:\n",
        "    print(\"Ejecución terminada\")"
      ]
    },
    {
      "cell_type": "markdown",
      "metadata": {
        "id": "QiJWeTFzxnoT"
      },
      "source": [
        "## Librerías\n",
        "\n",
        "Una librería o biblioteca en programación es una colección de código o funciones preescritas que los programadores pueden utilizar para realizar tareas comunes o resolver problemas específicos sin tener que escribir el código desde cero. Las librerías están diseñadas para ser reutilizables y ahorrar tiempo y esfuerzo a los desarrolladores, ya que proporcionan un conjunto de funciones, clases y módulos preconstruidos que pueden incorporar a sus propios programas.\n",
        "\n",
        "Piensa en una librería como una caja de herramientas o un conjunto de herramientas especializadas que puedes utilizar para construir algo. En lugar de diseñar y fabricar cada herramienta que necesitas, puedes visitar la librería y tomar prestadas las herramientas que necesitas para completar tu proyecto. Las librerías son como un tesoro escondido de funciones prefabricadas y fragmentos de código que pueden ayudarte a crear software de forma más eficiente.\n",
        "\n",
        "\n",
        "Algunas características de las librerías son:\n",
        "* **Reutilización:** Las librerías contienen código que puede ser utilizado por\n",
        "varios programas o proyectos. Al reutilizar el código de una librería, los programadores ahorran tiempo y evitan reinventar la rueda.\n",
        "* **Abstracción:** Las librerías proporcionan una capa de abstracción que permite a los programadores utilizar funciones complejas sin necesidad de comprender los intrincados detalles de su funcionamiento interno.\n",
        "* **Modularidad:** Las librerías suelen organizarse en módulos o paquetes, lo que facilita la elección y la inclusión de sólo la funcionalidad específica necesaria para un proyecto concreto.\n",
        "* **Comunidad y código abierto:** Muchas librerías son de código abierto y están desarrolladas y mantenidas por una comunidad de programadores. Este enfoque colaborativo conduce a la creación de librerías potentes y ampliamente utilizadas.\n",
        "* **Funcionalidad diversa:** Las librerías pueden cubrir una amplia gama de dominios y tareas, como la manipulación de datos, el diseño de interfaces de usuario, el desarrollo web, la computación científica, el aprendizaje automático, etc.\n",
        "* **Librerías estándar:** Los lenguajes de programación a menudo vienen con una librería estándar que proporciona funcionalidad esencial. Por ejemplo, Python tiene una librería estándar que incluye módulos para la E/S de archivos, expresiones regulares, operaciones matemáticas, etc.\n",
        "* **librerías de terceros:** Además de las librerías estándar, los programadores pueden utilizar librerías de terceros desarrolladas por otros para ampliar las capacidades de un lenguaje de programación. Por ejemplo, las librerías NumPy y pandas de Python se utilizan ampliamente para tareas numéricas y de análisis de datos.\n",
        "* **Gestión de dependencias:** Cuando se utilizan librerías, los programadores necesitan gestionar las dependencias, que son otras librerías de las que depende una determinada librería. Las herramientas de gestión de dependencias ayudan a garantizar que todas las librerías necesarias estén instaladas y sean compatibles."
      ]
    },
    {
      "cell_type": "markdown",
      "metadata": {
        "id": "CKl62WQwb-dN"
      },
      "source": [
        "### Numpy\n",
        "NumPy, que significa \"Numerical Python\", es una popular biblioteca de código abierto de Python para cálculo numérico y científico. Proporciona soporte para trabajar con matrices y arrays multidimensionales de gran tamaño, junto con una colección de funciones matemáticas para operar con estos arrays. NumPy es una biblioteca fundamental en el ecosistema de la ciencia de datos y la computación científica de Python, y se utiliza ampliamente en diversos campos, como el análisis de datos, el aprendizaje automático y la investigación científica.\n",
        "\n",
        "Algunas características de NumPy:\n",
        "* **Arrays:** La principal estructura de datos de NumPy es el ndarray (abreviatura de \"array N-dimensional\"). Estas matrices son similares a las listas de Python, pero pueden tener múltiples dimensiones (por ejemplo, matrices 1D, matrices 2D, o incluso matrices de mayor dimensión).\n",
        "* **Almacenamiento eficiente de datos:** Las matrices NumPy son eficientes en memoria y permiten operaciones rápidas de elemento a elemento. Esto las hace adecuadas para manejar grandes conjuntos de datos.\n",
        "* **Operaciones matemáticas:** NumPy proporciona una amplia gama de funciones matemáticas que se pueden aplicar por elementos a matrices. Esto incluye operaciones básicas como la suma y la multiplicación, así como funciones más avanzadas como funciones trigonométricas, logarítmicas y estadísticas.\n",
        "* **Manipulación de matrices:** NumPy ofrece funciones para remodelar, cortar e indexar matrices, facilitando la extracción y modificación de partes específicas de los datos.\n",
        "* **Difusión:** NumPy le permite realizar operaciones en matrices de diferentes formas, una característica conocida como difusión. NumPy alinea y repite automáticamente la matriz más pequeña para que coincida con la forma de la más grande, lo que permite realizar operaciones de elemento a elemento.\n",
        "* **Integración con otras bibliotecas:** NumPy se utiliza a menudo junto con otras bibliotecas del ecosistema de ciencia de datos de Python, como pandas (para la manipulación de datos), Matplotlib (para la visualización de datos) y scikit-learn (para el aprendizaje automático).\n",
        "* **Generación de números aleatorios:** NumPy incluye una robusta biblioteca de generación de números aleatorios para generar datos aleatorios para simulaciones, experimentos y análisis estadísticos.\n",
        "* **Álgebra lineal:** NumPy proporciona funciones de álgebra lineal para tareas como la multiplicación de matrices, el cálculo de valores propios y la resolución de sistemas de ecuaciones lineales.\n",
        "* **Procesamiento de señales:** NumPy tiene herramientas para el procesamiento de señales, transformadas de Fourier y filtrado.\n"
      ]
    },
    {
      "cell_type": "code",
      "execution_count": null,
      "metadata": {
        "id": "nlcKTUpDxi-J"
      },
      "outputs": [],
      "source": [
        "import numpy"
      ]
    },
    {
      "cell_type": "code",
      "source": [
        "#Encontremos el promedio de edades de todas las personas del diccionario usndo numpy\n",
        "numpy.average(list(edades.values()))"
      ],
      "metadata": {
        "colab": {
          "base_uri": "https://localhost:8080/"
        },
        "id": "2fQ0uwuWMFpZ",
        "outputId": "5fb5edc4-00fb-48f4-c8de-8c0ac4edfdb8"
      },
      "execution_count": null,
      "outputs": [
        {
          "output_type": "execute_result",
          "data": {
            "text/plain": [
              "31.307692307692307"
            ]
          },
          "metadata": {},
          "execution_count": 82
        }
      ]
    },
    {
      "cell_type": "code",
      "execution_count": null,
      "metadata": {
        "id": "ktmAEv-vctYI",
        "colab": {
          "base_uri": "https://localhost:8080/"
        },
        "outputId": "efb31d68-37aa-4111-a91d-9eb6436aa4f8"
      },
      "outputs": [
        {
          "output_type": "execute_result",
          "data": {
            "text/plain": [
              "38.0"
            ]
          },
          "metadata": {},
          "execution_count": 85
        }
      ],
      "source": [
        "#Podemos hacer un muestreo aleatorio de las personas y calcular su promedio\n",
        "muestra_edades = numpy.random.choice( list(edades.values()) )\n",
        "numpy.average(muestra_edades)"
      ]
    },
    {
      "cell_type": "code",
      "source": [
        "#Numpy propone una extensión a las operaciones con listas (que en este caso son arrays)\n",
        "array1 = numpy.array([1,2,3,4,5,6,7,8,9,10])\n",
        "print( type(array1) )\n",
        "array2 = numpy.linspace(1,10,10)\n",
        "print( array2 )\n",
        "\n",
        "print(array1+array2)"
      ],
      "metadata": {
        "colab": {
          "base_uri": "https://localhost:8080/"
        },
        "id": "xjYlx33KMnNE",
        "outputId": "6ae539a4-f11f-4c15-d535-18da952a890c"
      },
      "execution_count": null,
      "outputs": [
        {
          "output_type": "stream",
          "name": "stdout",
          "text": [
            "<class 'numpy.ndarray'>\n",
            "[ 1.  2.  3.  4.  5.  6.  7.  8.  9. 10.]\n",
            "[ 2.  4.  6.  8. 10. 12. 14. 16. 18. 20.]\n"
          ]
        }
      ]
    },
    {
      "cell_type": "code",
      "source": [
        "#También podemos hacer operaciones con matrices\n",
        "mat1 = [[1,1],[1,0]]\n",
        "mat2 = numpy.random.randint(0,2,size=(2,2))\n",
        "\n",
        "print(mat1)\n",
        "print(mat2)\n",
        "print(\"La multiplicación de las matrices es:\")\n",
        "print(mat1*mat2)"
      ],
      "metadata": {
        "colab": {
          "base_uri": "https://localhost:8080/"
        },
        "id": "XJxskSDZNa6I",
        "outputId": "c5db4790-9856-4bd8-ef90-36edf423ebed"
      },
      "execution_count": null,
      "outputs": [
        {
          "output_type": "stream",
          "name": "stdout",
          "text": [
            "[[1, 1], [1, 0]]\n",
            "[[1 0]\n",
            " [0 1]]\n",
            "La multiplicación de las matrices es:\n",
            "[[1 0]\n",
            " [0 0]]\n"
          ]
        }
      ]
    },
    {
      "cell_type": "code",
      "source": [
        "#También algo de álgebra lineal\n",
        "mat2 = numpy.random.randint(0,3,size=(3,3))\n",
        "print(\"Parta la matriz:\")\n",
        "print(mat2)\n",
        "print(\"el determinante es\")\n",
        "print( numpy.linalg.det(mat1) )\n",
        "print(\"Sus vectores propios\")\n",
        "print( numpy.linalg.eig(mat1) )"
      ],
      "metadata": {
        "colab": {
          "base_uri": "https://localhost:8080/"
        },
        "id": "qUp2C1H9ONCe",
        "outputId": "a14a8d79-e00a-4146-b92d-a7c343e95f85"
      },
      "execution_count": null,
      "outputs": [
        {
          "output_type": "stream",
          "name": "stdout",
          "text": [
            "Parta la matriz:\n",
            "[[2 1 0]\n",
            " [1 2 0]\n",
            " [2 0 0]]\n",
            "el determinante es\n",
            "-1.0\n",
            "Sus vectores propios\n",
            "(array([ 1.61803399, -0.61803399]), array([[ 0.85065081, -0.52573111],\n",
            "       [ 0.52573111,  0.85065081]]))\n"
          ]
        }
      ]
    },
    {
      "cell_type": "markdown",
      "metadata": {
        "id": "GxsW8Z5pc6IE"
      },
      "source": [
        "### matplotlib\n",
        "Matplotlib es una librería de Python de código abierto que se utiliza para crear visualizaciones estáticas, animadas e interactivas en varios formatos, como tablas, gráficos, diagramas y más. Proporciona un conjunto completo de herramientas para la visualización de datos y se utiliza ampliamente en la ciencia de datos, la investigación científica, la ingeniería y otros campos en los que la representación gráfica de los datos es esencial.\n",
        "\n",
        "Características de Matplotlib:\n",
        "\n",
        "* **Gráficos y Figuras:** En Matplotlib, un \"plot\" es esencialmente una sola tabla o gráfico, y una figura es la ventana general o página que contiene una o más \"plots\". Se pueden crear varios gráficos dentro de una misma figura.\n",
        "\n",
        "* **Tipos de gráficos:** Matplotlib soporta una amplia gama de tipos de gráficos, incluyendo gráficos de líneas, gráficos de dispersión, gráficos de barras, histogramas, gráficos circulares, gráficos 3D, y más.\n",
        "\n",
        "* **Personalización:** Puede personalizar todos los aspectos de sus gráficos, incluyendo títulos, etiquetas, colores, fuentes, marcadores y más. Esto le permite adaptar sus visualizaciones para transmitir eficazmente sus datos.\n",
        "\n",
        "* **Subgráficos:** Puede crear subgráficos dentro de una misma figura, organizando varios gráficos en una cuadrícula. Esto resulta útil para comparar y visualizar diferentes aspectos de los datos uno al lado del otro."
      ]
    },
    {
      "cell_type": "code",
      "execution_count": null,
      "metadata": {
        "id": "dVLiiHppx-bm"
      },
      "outputs": [],
      "source": [
        "import matplotlib"
      ]
    },
    {
      "cell_type": "code",
      "source": [
        "#Podemos apreciar mejor las funcionalidades de numpy a través de gráficas sencillas\n",
        "x = numpy.linspace(0,2*numpy.pi,100)\n",
        "matplotlib.pyplot.plot(numpy.sin(x))"
      ],
      "metadata": {
        "colab": {
          "base_uri": "https://localhost:8080/",
          "height": 447
        },
        "id": "5mgfJeuhPAe-",
        "outputId": "0bd07a4b-d3d0-4cd9-bec2-ded9f817a288"
      },
      "execution_count": null,
      "outputs": [
        {
          "output_type": "execute_result",
          "data": {
            "text/plain": [
              "[<matplotlib.lines.Line2D at 0x7d3cd95076a0>]"
            ]
          },
          "metadata": {},
          "execution_count": 100
        },
        {
          "output_type": "display_data",
          "data": {
            "text/plain": [
              "<Figure size 640x480 with 1 Axes>"
            ],
            "image/png": "[encoded data removed]"
          },
          "metadata": {}
        }
      ]
    },
    {
      "cell_type": "code",
      "source": [
        "matplotlib.pyplot.hist(edades.values())"
      ],
      "metadata": {
        "colab": {
          "base_uri": "https://localhost:8080/",
          "height": 482
        },
        "id": "YgvmZd0mPYIH",
        "outputId": "102b9f8a-c043-45c1-c87f-d54635d1a215"
      },
      "execution_count": null,
      "outputs": [
        {
          "output_type": "execute_result",
          "data": {
            "text/plain": [
              "(array([6., 2., 2., 1., 1., 0., 0., 0., 0., 1.]),\n",
              " array([12. , 20.7, 29.4, 38.1, 46.8, 55.5, 64.2, 72.9, 81.6, 90.3, 99. ]),\n",
              " <BarContainer object of 10 artists>)"
            ]
          },
          "metadata": {},
          "execution_count": 101
        },
        {
          "output_type": "display_data",
          "data": {
            "text/plain": [
              "<Figure size 640x480 with 1 Axes>"
            ],
            "image/png": "[encoded data removed]"
          },
          "metadata": {}
        }
      ]
    },
    {
      "cell_type": "code",
      "source": [
        "cantidad_mayores = len(mayores)\n",
        "cantidad_menores = len(menores)\n",
        "matplotlib.pyplot.pie([cantidad_mayores,cantidad_menores],labels=[\"Mayores de edad\",\"Menores de edad\"])"
      ],
      "metadata": {
        "colab": {
          "base_uri": "https://localhost:8080/",
          "height": 475
        },
        "id": "DnApoDsPQR4u",
        "outputId": "427241f9-bac7-4d3c-aba9-659d5057f540"
      },
      "execution_count": null,
      "outputs": [
        {
          "output_type": "execute_result",
          "data": {
            "text/plain": [
              "([<matplotlib.patches.Wedge at 0x7d3cd6891e70>,\n",
              "  <matplotlib.patches.Wedge at 0x7d3cd6891ed0>],\n",
              " [Text(0.8426488837530798, 0.70706637503822, 'Mayores de edad'),\n",
              "  Text(-0.8426488506529132, -0.7070664144854603, 'Menores de edad')])"
            ]
          },
          "metadata": {},
          "execution_count": 105
        },
        {
          "output_type": "display_data",
          "data": {
            "text/plain": [
              "<Figure size 640x480 with 1 Axes>"
            ],
            "image/png": "[encoded data removed]"
          },
          "metadata": {}
        }
      ]
    },
    {
      "cell_type": "markdown",
      "source": [
        "## Ejemplo: Simulacion basada en agentes\n",
        "La simulación basada en agentes (ABS, por sus siglas en inglés), también conocida como modelación basada en agentes (ABM, por sus siglas en inglés), es una técnica de simulación computacional utilizada en diversos campos, como la ciencia de datos, las ciencias sociales o la ingeniería, para simular sistemas complejos mediante la modelación de agentes individuales y sus interacciones en un entorno determinado. Este enfoque es especialmente útil para estudiar comportamientos emergentes y fenómenos complejos.\n",
        "\n",
        "Algunos conceptos clave de la simulación basada en agentes:\n",
        "\n",
        "* Agentes: Los agentes son las entidades fundamentales de una simulación basada en agentes. Pueden representar individuos, objetos o entidades con capacidad de agencia o de toma de decisiones dentro del sistema simulado. Cada agente tiene su propio conjunto de características, comportamientos y reglas que rigen sus acciones.\n",
        "\n",
        "* Entorno: El entorno es el espacio virtual o contexto en el que operan los agentes. Puede representar un espacio físico, una red social, un ecosistema o cualquier otro sistema de interés. El entorno puede incluir recursos, obstáculos u otros factores que influyen en el comportamiento de los agentes.\n",
        "\n",
        "* Interacciones: Los agentes interactúan entre sí y con su entorno basándose en reglas predefinidas. Estas interacciones pueden ser simples o complejas e implicar factores como la comunicación, la competencia, la cooperación y la toma de decisiones.\n",
        "\n",
        "* Tiempo: Una simulación basada en agentes suele progresar a través de pasos temporales discretos o iteraciones. Durante cada paso temporal, los agentes actualizan sus estados y toman decisiones basadas en sus reglas e interacciones.\n",
        "\n",
        "* Emergencia: Uno de los aspectos clave de las simulaciones basadas en agentes es la aparición de comportamientos complejos a nivel de sistema a partir de las interacciones de agentes individuales. Los patrones, tendencias y resultados a nivel de sistema pueden no ser fácilmente predecibles a partir del comportamiento de los agentes individuales por sí solos.\n",
        "\n",
        "La metodología puede utilizarse para estudiar una amplia gama de fenómenos, como:\n",
        "\n",
        "* Dinámica social: Modelación del comportamiento de los individuos en una sociedad, incluida la propagación de opiniones, enfermedades o comportamientos.\n",
        "* Ecología: Simulación de las interacciones de las especies en un ecosistema para comprender la dinámica de las poblaciones y la biodiversidad.\n",
        "* Economía: Modelación de agentes económicos (por ejemplo, consumidores, empresas) para estudiar la dinámica de los mercados y las tendencias económicas.\n",
        "* Tráfico y transporte: Simulación del movimiento de vehículos y peatones en entornos urbanos para optimizar los sistemas de transporte.\n",
        "* Epidemiología: Estudio de la propagación de enfermedades en una población y del impacto de las estrategias de intervención.\n",
        "\n",
        "### Modelo de contagio SIS en una cuadrícula\n",
        "\n",
        "El modelo SIS, que significa Susceptible-Infeccioso-Susceptible, es un modelo epidemiológico sencillo utilizado en la modelización basada en agentes para simular la propagación de enfermedades infecciosas dentro de una población. En este modelo, los individuos de la población pueden cambiar entre dos estados: susceptible (S) e infeccioso (I).\n",
        "\n",
        "**Agentes**\n",
        "\n",
        "En una implementación basada en agentes del modelo SIS, cada individuo de la población se representa como un agente.Estos agentes pueden ser personas, animales o cualquier entidad que pueda contraer y transmitir una enfermedad infecciosa.\n",
        "\n",
        "**Estados**\n",
        "\n",
        "Los agentes pueden existir en uno de dos estados:\n",
        "\n",
        "* Susceptible (S): Los agentes en este estado son susceptibles a la enfermedad, lo que significa que aún no se han infectado pero corren el riesgo de contraerla. Los agentes susceptibles pueden infectarse si entran en contacto con agentes infecciosos.\n",
        "\n",
        "* Infeccioso (I): Los agentes en este estado están infectados con la enfermedad y son capaces de transmitirla a agentes susceptibles a través de interacciones.\n",
        "\n",
        "**Dinámica del modelo**\n",
        "\n",
        "El modelo SIS funciona basándose en transiciones entre estos estados a lo largo del tiempo. Los procesos clave del modelo son los siguientes:\n",
        "\n",
        "* Infección: Los agentes susceptibles se infectan con una cierta probabilidad cuando interactúan con agentes infecciosos. Esta probabilidad suele representarse mediante una tasa de transmisión o de infección.\n",
        "\n",
        "* Recuperación: Los agentes infectados tienen la posibilidad de recuperarse de la enfermedad y volver al estado de susceptibilidad. La tasa a la que se produce la recuperación suele denominarse tasa de recuperación.\n",
        "\n",
        "* Interacciones: Los agentes interactúan entre sí dentro de la simulación, y la probabilidad de transmisión de la enfermedad depende del número de agentes infecciosos encontrados y de la tasa de transmisión.\n",
        "\n",
        "* Pasos temporales: La simulación progresa en pasos temporales discretos, durante los cuales los agentes pueden cambiar sus estados en función de las probabilidades asociadas a la infección y la recuperación.\n",
        "\n",
        "**Comportamiento emergente**\n",
        "\n",
        "El modelo SIS puede mostrar un comportamiento emergente interesante, como patrones cíclicos o un equilibrio estable, dependiendo de los valores de parámetros como la tasa de transmisión y la tasa de recuperación. Por ejemplo:\n",
        "\n",
        "Si la tasa de transmisión es alta y la tasa de recuperación es baja, la enfermedad puede persistir en la población, conduciendo a un estado endémico estable en el que una fracción de la población permanece infectada.\n",
        "\n",
        "Si la tasa de transmisión es baja o la tasa de recuperación es alta, la enfermedad puede extinguirse y la población pasa a ser principalmente susceptible.\n",
        "\n",
        "**Análisis y conclusiones**\n",
        "\n",
        "Las simulaciones basadas en agentes del modelo SIS permiten a los investigadores explorar diversos escenarios relacionados con la dinámica de la enfermedad. Esto puede incluir el estudio del impacto de intervenciones como la vacunación, el distanciamiento social o los cambios en la densidad de población sobre la propagación de la enfermedad.\n",
        "\n",
        "Al ejecutar la simulación a lo largo del tiempo y observar cómo cambia la proporción de agentes susceptibles e infecciosos, los investigadores pueden obtener información sobre los posibles resultados de diferentes estrategias de control de la enfermedad y el comportamiento a largo plazo de la enfermedad dentro de una población.\n",
        "\n",
        "\n",
        "### Referencias\n",
        "* Bonabeau, E. (2002). Agent-based modeling: Methods and techniques for simulating human systems. Proceedings of the National Academy of Sciences, 99(suppl_3), 7280–7287. https://doi.org/10.1073/pnas.082080899\n",
        "\n",
        "* Epstein, J. M. (1999). Agent-based computational models and generative social science. Complexity, 4(5), 41–60. https://doi.org/10.1002/(SICI)1099-0526(199905/06)4:5<41::AID-CPLX9>3.0.CO;2-F\n",
        "\n",
        "* Macal, C. M., & North, M. J. (2010). Tutorial on agent-based modelling and simulation. Journal of Simulation, 4(3), 151–162. https://doi.org/10.1057/jos.2010.3\n",
        "\n",
        "* Macal, C., & North, M. (2014). Introductory tutorial: Agent-based modeling and simulation. Proceedings of the Winter Simulation Conference 2014, 6–20. https://doi.org/10.1109/WSC.2014.7019874\n",
        "\n",
        "* Wilensky, U., & Rand, W. (2015). An introduction to agent-based modeling: Modeling natural, social, and engineered complex systems with NetLogo. The MIT Press.\n",
        "\n",
        "\n",
        "\n"
      ],
      "metadata": {
        "id": "NcL8oX4eVSa9"
      }
    },
    {
      "cell_type": "code",
      "execution_count": null,
      "metadata": {
        "id": "k4q9zPSLyAuK"
      },
      "outputs": [],
      "source": [
        "#Librerías necesarias\n",
        "import numpy as np\n",
        "import matplotlib.pyplot as plt"
      ]
    },
    {
      "cell_type": "code",
      "source": [
        "#funciones de la dinámica\n",
        "\n",
        "def desplazamiento(posicion,limite_x,limite_y,paso=1):\n",
        "  \"\"\"\n",
        "  Desplaza un individuo.\n",
        "\n",
        "  Tiene en cuenta que el mundo tiene paredes cuadradas y rebota en ellas\n",
        "\n",
        "  Parameters\n",
        "  ----------\n",
        "  posicion : lista de 2 items con la posicion x e y del individuo\n",
        "  limite_x : Entero que determina la mayor distancia desde el eje y\n",
        "  limite_y : Entero que determina la mayor distancia desde el eje x\n",
        "  paso : Entero que dice el tamaño del paso que toma el individuo\n",
        "\n",
        "  Returns\n",
        "  -------\n",
        "  posicion : lista de dos elementos con la posición actualizada\n",
        "  \"\"\"\n",
        "  posibilidades = list(range(-1*paso,paso+1))\n",
        "  d = np.random.choice(posibilidades)\n",
        "  if posicion[0] + d < limite_x or posicion[0] + d > 0:\n",
        "    d_x = d\n",
        "  else:\n",
        "    d_x = -1*d\n",
        "  posicion[0] += d_x\n",
        "\n",
        "  d = np.random.choice(posibilidades)\n",
        "  if posicion[1] + d < limite_y or posicion[1] + d > 0:\n",
        "    d_y = d\n",
        "  else:\n",
        "    d_y = -1*d\n",
        "  posicion[1] += d_y\n",
        "\n",
        "  return posicion\n",
        "\n",
        "def hay_vecino_infectado(indice,estados,posiciones,distancia):\n",
        "  \"\"\"\n",
        "  Revisa si el individuo a evaluar tiene un vecino infectado a menos de una distancia específica\n",
        "\n",
        "  Parameters\n",
        "  ----------\n",
        "  indice : Entero que indica la posición del individuo a evaluar en las listas de estados y posiciones\n",
        "  estados : Lista con los estados de todos los individuos\n",
        "  posiciones : Lista con las posiciones de todos los individuos\n",
        "  distancia : Entero que indica el umbral de distancia para definir si el vecino podría infectar al individuo a evaluar\n",
        "\n",
        "  Return\n",
        "  ------\n",
        "  bool : Si el individuo está en potencial de ser contagiado\n",
        "  \"\"\"\n",
        "  for i,vecino in enumerate(estados):\n",
        "    if indice == i:\n",
        "      continue\n",
        "    else:\n",
        "      if vecino == 1: #si está infectado miramos la distancia\n",
        "        if np.linalg.norm(posiciones[i]-posiciones[indice]) < distancia: #si está cerca está en riesgo de contagio\n",
        "          return True"
      ],
      "metadata": {
        "id": "mK0ngPpMUN9S"
      },
      "execution_count": null,
      "outputs": []
    },
    {
      "cell_type": "code",
      "execution_count": null,
      "metadata": {
        "id": "bWzP4zzWyEeM"
      },
      "outputs": [],
      "source": [
        "# configuración del sistema\n",
        "\n",
        "poblacion = 620\n",
        "lado_area = 10 #metros\n",
        "infectados_iniciales = 0.05\n",
        "# 0 suceptibles 1 infectados\n",
        "estados = np.random.choice(\n",
        "    [0,1],\n",
        "    size=poblacion,\n",
        "    replace = True,\n",
        "    p = [1-infectados_iniciales,infectados_iniciales]\n",
        ")\n",
        "posiciones = np.random.choice(range(50),size=(poblacion,2))\n",
        "\n",
        "distancia_infeccion = 1 #metros\n",
        "probabilidad_infeccion = 0.07\n",
        "probabilidad_recuperacion = 0.03\n",
        "tiempo_total = 100\n",
        "paso = 2 #metros"
      ]
    },
    {
      "cell_type": "code",
      "source": [
        "#variables de registro del sistema\n",
        "proporcion_infectados = []"
      ],
      "metadata": {
        "id": "-xVLETh-WHlL"
      },
      "execution_count": null,
      "outputs": []
    },
    {
      "cell_type": "code",
      "source": [
        "#ciclo en el tiempo\n",
        "for t in range(tiempo_total):\n",
        "  if t%20==0 and t!=0:\n",
        "    print(\"{:.2f}% modelado\".format(100*t/tiempo_total))\n",
        "\n",
        "  #actualizamos los estados si se infectan algunos nuevos\n",
        "  for i,persona in enumerate(estados):\n",
        "    if persona==0: #si la persona está sana puede ser infectada\n",
        "      if hay_vecino_infectado(i,estados,posiciones,distancia_infeccion):\n",
        "        #lanzamos un número aleatorio y lo comparamos con la probabilida de ser infectado\n",
        "        if np.random.random() < probabilidad_infeccion:\n",
        "          estados[i]=1\n",
        "\n",
        "  #guardamos los registros\n",
        "  proporcion_infectados.append(sum(estados)/len(estados))\n",
        "\n",
        "  #movemos los individuos\n",
        "  for i in range(poblacion):\n",
        "    posiciones[i]=desplazamiento(posiciones[i],limite_x = lado_area, limite_y=lado_area,paso=paso)\n",
        "\n",
        "  #miramos si algunos se recuperan\n",
        "  for i,persona in enumerate(estados):\n",
        "    if persona == 1:\n",
        "      if np.random.random() < probabilidad_recuperacion:\n",
        "            estados[i]=0"
      ],
      "metadata": {
        "colab": {
          "base_uri": "https://localhost:8080/"
        },
        "id": "jZWxob1cSKbc",
        "outputId": "5f3cee96-c66f-45e4-8914-34f80990bb74"
      },
      "execution_count": null,
      "outputs": [
        {
          "output_type": "stream",
          "name": "stdout",
          "text": [
            "20.00% modelado\n",
            "40.00% modelado\n",
            "60.00% modelado\n",
            "80.00% modelado\n"
          ]
        }
      ]
    },
    {
      "cell_type": "code",
      "source": [
        "#Graficación de la dinámica\n",
        "plt.plot(list(range(tiempo_total)),proporcion_infectados)\n",
        "plt.xlabel(\"Tiempo\")\n",
        "plt.ylabel(\"Proporción de infectados\")\n",
        "plt.title(\"Evolución de la proporción de infectados\")\n",
        "plt.show()"
      ],
      "metadata": {
        "colab": {
          "base_uri": "https://localhost:8080/",
          "height": 472
        },
        "id": "A_ZDkuWGTq-O",
        "outputId": "dbd0c5c2-5d4d-42f8-8be4-fa6c5860e770"
      },
      "execution_count": null,
      "outputs": [
        {
          "output_type": "display_data",
          "data": {
            "text/plain": [
              "<Figure size 640x480 with 1 Axes>"
            ],
            "image/png": "[encoded data removed]"
          },
          "metadata": {}
        }
      ]
    }
  ],
  "metadata": {
    "colab": {
      "provenance": [],
      "mount_file_id": "1pjUffhrvv-KLy37VjdlpuayH37fmjzPA",
      "authorship_tag": "ABX9TyNH61q8Bx0ffq7gQe1iFN4h",
      "include_colab_link": true
    },
    "kernelspec": {
      "display_name": "Python 3",
      "name": "python3"
    },
    "language_info": {
      "name": "python"
    }
  },
  "nbformat": 4,
  "nbformat_minor": 0
}