{
  "cells": [
    {
      "cell_type": "markdown",
      "metadata": {
        "id": "ZjYjcyjZu-fH"
      },
      "source": [
        "# Programación en python y algoritmia\n",
        "\n"
      ]
    },
    {
      "cell_type": "markdown",
      "metadata": {
        "id": "Hd2zQpcCvJTW"
      },
      "source": [
        "## Asignación y tipos de variables\n",
        "\n",
        "### ¿Qué son las variables?\n",
        "\n",
        "En programación, una variable es como un contenedor con nombre o una ubicación de almacenamiento que contiene datos. Estos contenedores tienen nombres, llamados identificadores, y permiten a los programadores almacenar, gestionar y manipular datos fácilmente. Las variables sirven como un bloque de construcción fundamental para escribir código porque permiten a los programas trabajar y recordar información.\n",
        "\n",
        "### Definición de variables:\n",
        "\n",
        "Definir una variable es como crear una etiqueta para un contenedor. Se especifica un nombre (el identificador) para la variable, y este nombre ayuda a acceder y trabajar con los datos que contiene. Los nombres de las variables en programación siguen ciertas reglas, como no contener espacios y empezar por una letra o guión bajo (_)."
      ]
    },
    {
      "cell_type": "markdown",
      "metadata": {
        "id": "rG5Quf1gYq14"
      },
      "source": [
        "### Numéricas\n",
        "Una variable numérica es un tipo de variable de programación y estadística que se utiliza para almacenar datos numéricos. Las variables numéricas están diseñadas para contener valores numéricos, que pueden ser enteros (números enteros) o números de coma flotante (números con decimales). Estas variables son esenciales para realizar operaciones matemáticas, cálculos y análisis de datos en programación."
      ]
    },
    {
      "cell_type": "code",
      "execution_count": 6,
      "metadata": {
        "colab": {
          "base_uri": "https://localhost:8080/"
        },
        "id": "JH1tljJsvNx8",
        "outputId": "b221efa2-cc03-4400-ee46-c640d49d5543"
      },
      "outputs": [
        {
          "output_type": "execute_result",
          "data": {
            "text/plain": [
              "1"
            ]
          },
          "metadata": {},
          "execution_count": 6
        }
      ],
      "source": [
        "#numéricas\n",
        "num_var = 1\n",
        "num_var"
      ]
    },
    {
      "cell_type": "code",
      "execution_count": 7,
      "metadata": {
        "colab": {
          "base_uri": "https://localhost:8080/"
        },
        "id": "BRuzbtWqiUC8",
        "outputId": "39e67db0-61e8-4851-ca2f-654691655232"
      },
      "outputs": [
        {
          "output_type": "execute_result",
          "data": {
            "text/plain": [
              "12.5"
            ]
          },
          "metadata": {},
          "execution_count": 7
        }
      ],
      "source": [
        "num_var = 12.5\n",
        "num_var"
      ]
    },
    {
      "cell_type": "markdown",
      "metadata": {
        "id": "lY_6ciQLXzlp"
      },
      "source": [
        "### Booleanos\n",
        "\n",
        "Un \"bool\" es la abreviatura de \"boolean\", y es un tipo de dato fundamental en Python y en muchos otros lenguajes de programación. Los booleanos se utilizan para representar el concepto de verdad o falsedad, y sólo tienen dos valores posibles: True (Verdadero) y False (Falso)."
      ]
    },
    {
      "cell_type": "code",
      "execution_count": 8,
      "metadata": {
        "colab": {
          "base_uri": "https://localhost:8080/"
        },
        "id": "yygyBPUixRcs",
        "outputId": "28129b8a-b77b-4410-c582-8a02ca994531"
      },
      "outputs": [
        {
          "output_type": "execute_result",
          "data": {
            "text/plain": [
              "True"
            ]
          },
          "metadata": {},
          "execution_count": 8
        }
      ],
      "source": [
        "bool_var = True\n",
        "bool_var"
      ]
    },
    {
      "cell_type": "code",
      "execution_count": 9,
      "metadata": {
        "colab": {
          "base_uri": "https://localhost:8080/"
        },
        "id": "9jnz4WWgibHN",
        "outputId": "cf9c4776-d8f3-4777-a4c1-a6acc09c8999"
      },
      "outputs": [
        {
          "output_type": "execute_result",
          "data": {
            "text/plain": [
              "False"
            ]
          },
          "metadata": {},
          "execution_count": 9
        }
      ],
      "source": [
        "bool_var = False\n",
        "bool_var"
      ]
    },
    {
      "cell_type": "markdown",
      "metadata": {
        "id": "Orf_fMjiY90t"
      },
      "source": [
        "### Casting\n",
        "Casting, en el contexto de la programación, se refiere al proceso de convertir un valor de un tipo de datos a otro. En muchos lenguajes de programación, incluido Python, las variables tienen tipos de datos específicos que dictan cómo se almacenan los datos y cómo se pueden realizar operaciones con ellos. Casting permite cambiar el tipo de datos de un valor cuando es necesario para realizar operaciones específicas o para asegurar la compatibilidad entre diferentes tipos de datos."
      ]
    },
    {
      "cell_type": "code",
      "execution_count": 10,
      "metadata": {
        "colab": {
          "base_uri": "https://localhost:8080/"
        },
        "id": "24DY-em2iiT0",
        "outputId": "f79ec114-5a24-46e3-95c3-eecc9a9028ca"
      },
      "outputs": [
        {
          "output_type": "execute_result",
          "data": {
            "text/plain": [
              "False"
            ]
          },
          "metadata": {},
          "execution_count": 10
        }
      ],
      "source": [
        "# Casting y relación entre variables booleanas y enteros\n",
        "num_var = 0\n",
        "casted_bool_var = bool(num_var)\n",
        "casted_bool_var"
      ]
    },
    {
      "cell_type": "code",
      "execution_count": 11,
      "metadata": {
        "colab": {
          "base_uri": "https://localhost:8080/"
        },
        "id": "jmizgjv5i1I1",
        "outputId": "35d173a4-f3b6-4daa-d43e-a92e68d2d24f"
      },
      "outputs": [
        {
          "output_type": "execute_result",
          "data": {
            "text/plain": [
              "True"
            ]
          },
          "metadata": {},
          "execution_count": 11
        }
      ],
      "source": [
        "#¿Qué pasa cuándo el entero es diferente a 1?\n",
        "num_var = 1\n",
        "casted_bool_var = bool(num_var)\n",
        "casted_bool_var"
      ]
    },
    {
      "cell_type": "code",
      "execution_count": 12,
      "metadata": {
        "colab": {
          "base_uri": "https://localhost:8080/"
        },
        "id": "8hAiVe1QjCBR",
        "outputId": "bbf57087-cb9f-41f5-b2a1-33e726830788"
      },
      "outputs": [
        {
          "output_type": "execute_result",
          "data": {
            "text/plain": [
              "1"
            ]
          },
          "metadata": {},
          "execution_count": 12
        }
      ],
      "source": [
        "#¿Qué pasa si hacemos el casting al revés?\n",
        "bool_var = True\n",
        "casted_num_var = int(bool_var)\n",
        "casted_num_var"
      ]
    },
    {
      "cell_type": "code",
      "execution_count": 13,
      "metadata": {
        "colab": {
          "base_uri": "https://localhost:8080/"
        },
        "id": "aKeDTNqljMSe",
        "outputId": "9fa40465-6797-43fe-e7ae-ebe1d34173f3"
      },
      "outputs": [
        {
          "output_type": "execute_result",
          "data": {
            "text/plain": [
              "0"
            ]
          },
          "metadata": {},
          "execution_count": 13
        }
      ],
      "source": [
        "#¿Qué pasa si hacemos el casting al revés?\n",
        "bool_var = False\n",
        "casted_num_var = int(bool_var)\n",
        "casted_num_var"
      ]
    },
    {
      "cell_type": "code",
      "execution_count": 14,
      "metadata": {
        "colab": {
          "base_uri": "https://localhost:8080/"
        },
        "id": "hQ7LPfhVZGAi",
        "outputId": "ff55f55c-83cb-47e3-8330-e110d552c154"
      },
      "outputs": [
        {
          "output_type": "execute_result",
          "data": {
            "text/plain": [
              "12"
            ]
          },
          "metadata": {},
          "execution_count": 14
        }
      ],
      "source": [
        "# ¿Qué pasa cuándo hacemos casting de un float a un entero?\n",
        "num_var = 12.5\n",
        "num_var = int(num_var)\n",
        "num_var"
      ]
    },
    {
      "cell_type": "markdown",
      "metadata": {
        "id": "oz9RaOZxSSxx"
      },
      "source": [
        "### Listas\n",
        "\n",
        "Una lista en Python es una estructura de datos versátil y ampliamente utilizada que permite almacenar y gestionar colecciones de elementos. Es una de las estructuras de datos fundamentales en Python, y es similar a un array en otros lenguajes de programación. Las listas son particularmente potentes porque pueden contener elementos de diferentes tipos de datos, y puedes cambiar su contenido (añadir, eliminar o modificar elementos) después de crearlas."
      ]
    },
    {
      "cell_type": "code",
      "execution_count": 15,
      "metadata": {
        "colab": {
          "base_uri": "https://localhost:8080/"
        },
        "id": "1x7T2P_Zwd5J",
        "outputId": "63fce084-8f10-46fe-c27b-0dfb776cbfdd"
      },
      "outputs": [
        {
          "output_type": "execute_result",
          "data": {
            "text/plain": [
              "[1, 2, 3, 4, 5, 6, 7, 8, 9, 10]"
            ]
          },
          "metadata": {},
          "execution_count": 15
        }
      ],
      "source": [
        "#listas\n",
        "list_var = [1,2,3,4,5,6,7,8,9,10]\n",
        "list_var"
      ]
    },
    {
      "cell_type": "code",
      "execution_count": 16,
      "metadata": {
        "colab": {
          "base_uri": "https://localhost:8080/"
        },
        "id": "_GAqUGVxjVb5",
        "outputId": "75922bbe-5d1f-4f8b-9c1e-5be57dff0c8a"
      },
      "outputs": [
        {
          "output_type": "stream",
          "name": "stdout",
          "text": [
            "1\n",
            "10\n"
          ]
        }
      ],
      "source": [
        "#indexación\n",
        "print(list_var[0])\n",
        "print(list_var[-1])"
      ]
    },
    {
      "cell_type": "code",
      "execution_count": 17,
      "metadata": {
        "colab": {
          "base_uri": "https://localhost:8080/"
        },
        "id": "MhzpZ-qsjbqQ",
        "outputId": "8494d69c-440b-4491-d917-668cec1d5713"
      },
      "outputs": [
        {
          "output_type": "stream",
          "name": "stdout",
          "text": [
            "[2, 3, 4, 5, 6, 7, 8, 9]\n"
          ]
        }
      ],
      "source": [
        "#indexación con :\n",
        "print(list_var[1:-1])"
      ]
    },
    {
      "cell_type": "code",
      "execution_count": 18,
      "metadata": {
        "colab": {
          "base_uri": "https://localhost:8080/"
        },
        "id": "Xjm1QpJ5N0Yj",
        "outputId": "7d9162fd-e76c-4c11-c918-78e8615b0bc6"
      },
      "outputs": [
        {
          "output_type": "stream",
          "name": "stdout",
          "text": [
            "[2, 4, 6, 8]\n"
          ]
        }
      ],
      "source": [
        "print(list_var[1:-1:2])"
      ]
    },
    {
      "cell_type": "code",
      "execution_count": 19,
      "metadata": {
        "colab": {
          "base_uri": "https://localhost:8080/"
        },
        "id": "MR3va50cPfSZ",
        "outputId": "2d64c0e1-419a-42cd-e69f-013ff4dd573f"
      },
      "outputs": [
        {
          "output_type": "execute_result",
          "data": {
            "text/plain": [
              "[1, 2, 3, 4, 5, 6, 7, 8, 9, 0]"
            ]
          },
          "metadata": {},
          "execution_count": 19
        }
      ],
      "source": [
        "list_var[-1] = 0\n",
        "list_var"
      ]
    },
    {
      "cell_type": "code",
      "execution_count": 20,
      "metadata": {
        "colab": {
          "base_uri": "https://localhost:8080/"
        },
        "id": "NesCfX4jkB2P",
        "outputId": "a31c49bd-ab40-4b04-b6ee-b9cc50ae4d2d"
      },
      "outputs": [
        {
          "output_type": "execute_result",
          "data": {
            "text/plain": [
              "[[1, 2, 3], [10, 20, 30], [100, 200, 300]]"
            ]
          },
          "metadata": {},
          "execution_count": 20
        }
      ],
      "source": [
        "#listas anidadas\n",
        "nested_list = [[1,2,3],[10,20,30],[100,200,300]]\n",
        "nested_list"
      ]
    },
    {
      "cell_type": "code",
      "execution_count": 21,
      "metadata": {
        "colab": {
          "base_uri": "https://localhost:8080/"
        },
        "id": "-rZ9pjBBkMyJ",
        "outputId": "5a1c1958-b7c7-4642-d198-4fd17f3ab029"
      },
      "outputs": [
        {
          "output_type": "execute_result",
          "data": {
            "text/plain": [
              "[1, 2, 3]"
            ]
          },
          "metadata": {},
          "execution_count": 21
        }
      ],
      "source": [
        "nested_list[0]"
      ]
    },
    {
      "cell_type": "code",
      "execution_count": 22,
      "metadata": {
        "colab": {
          "base_uri": "https://localhost:8080/"
        },
        "id": "4pPxIKBukPms",
        "outputId": "9a1834db-1ac6-40a3-e807-6ff9f5193389"
      },
      "outputs": [
        {
          "output_type": "execute_result",
          "data": {
            "text/plain": [
              "2"
            ]
          },
          "metadata": {},
          "execution_count": 22
        }
      ],
      "source": [
        "nested_list[0][1]"
      ]
    },
    {
      "cell_type": "markdown",
      "metadata": {
        "id": "H4JL_zeASd7n"
      },
      "source": [
        "### Strings\n",
        "A string in Python is a sequence of characters, such as letters, numbers, symbols, or spaces. Strings are used to represent text-based data and are one of the most fundamental and commonly used data types in programming. You can think of a string as a collection of individual characters that can be manipulated and processed by a computer program."
      ]
    },
    {
      "cell_type": "code",
      "execution_count": 27,
      "metadata": {
        "colab": {
          "base_uri": "https://localhost:8080/",
          "height": 36
        },
        "id": "WxLnM5hIwc0b",
        "outputId": "9746b6ae-2583-4b97-fb56-fd666da67df2"
      },
      "outputs": [
        {
          "output_type": "execute_result",
          "data": {
            "text/plain": [
              "'¡Viva México!'"
            ],
            "application/vnd.google.colaboratory.intrinsic+json": {
              "type": "string"
            }
          },
          "metadata": {},
          "execution_count": 27
        }
      ],
      "source": [
        "string_var = \"¡Viva México!\"\n",
        "string_var"
      ]
    },
    {
      "cell_type": "code",
      "execution_count": 28,
      "metadata": {
        "colab": {
          "base_uri": "https://localhost:8080/"
        },
        "id": "bOLS53S55_Um",
        "outputId": "e75064c5-cc0f-410a-b972-66972c24c4ef"
      },
      "outputs": [
        {
          "output_type": "stream",
          "name": "stdout",
          "text": [
            "!\n",
            "¡\n",
            "¡Viva México\n",
            "!ocixéM aviV\n"
          ]
        }
      ],
      "source": [
        "print(string_var[-1])\n",
        "print(string_var[0])\n",
        "print(string_var[0:-1])\n",
        "print(string_var[-1:0:-1])"
      ]
    },
    {
      "cell_type": "code",
      "execution_count": 29,
      "metadata": {
        "colab": {
          "base_uri": "https://localhost:8080/"
        },
        "id": "HDek51mHSos7",
        "outputId": "20c18b74-a942-42ec-a941-8f51f8550235"
      },
      "outputs": [
        {
          "output_type": "execute_result",
          "data": {
            "text/plain": [
              "[1, 2, 3, 4, 'Viva', 'México', '!']"
            ]
          },
          "metadata": {},
          "execution_count": 29
        }
      ],
      "source": [
        "# ¿Puedo crear listas de strings y números a la vez?\n",
        "mixed_list = [1,2,3,4,\"Viva\", \"México\",\"!\"]\n",
        "mixed_list"
      ]
    },
    {
      "cell_type": "markdown",
      "metadata": {
        "id": "W_wSZwsTRgv0"
      },
      "source": [
        "### Tuplas\n",
        "Una tupla en Python es una estructura de datos que es similar a una lista en que puede almacenar una colección de elementos. Al igual que las listas, las tuplas son colecciones ordenadas, lo que significa que se mantiene el orden de los elementos de una tupla.\n",
        "\n",
        "La principal diferencia entre las tuplas y las listas es que las tuplas son inmutables. Esto significa que una vez creada una tupla, no se puede cambiar su contenido (añadir, eliminar o modificar elementos). En cambio, las listas son mutables, lo que permite modificar sus elementos.\n",
        "\n"
      ]
    },
    {
      "cell_type": "code",
      "execution_count": 30,
      "metadata": {
        "colab": {
          "base_uri": "https://localhost:8080/"
        },
        "id": "QiKM_u7uwfiX",
        "outputId": "16b8dcd2-233f-4058-e55d-d6ededc80f83"
      },
      "outputs": [
        {
          "output_type": "execute_result",
          "data": {
            "text/plain": [
              "(1, 2, 3, 4, 5, 6, 7, 8, 9, 10)"
            ]
          },
          "metadata": {},
          "execution_count": 30
        }
      ],
      "source": [
        "tuple_var = (1,2,3,4,5,6,7,8,9,10)\n",
        "tuple_var"
      ]
    },
    {
      "cell_type": "code",
      "execution_count": 31,
      "metadata": {
        "colab": {
          "base_uri": "https://localhost:8080/",
          "height": 200
        },
        "id": "DNVG7e_UPukV",
        "outputId": "5bb15bfe-3ad1-4e73-8d20-2638ae4fc0b5"
      },
      "outputs": [
        {
          "output_type": "error",
          "ename": "TypeError",
          "evalue": "ignored",
          "traceback": [
            "\u001b[0;31m---------------------------------------------------------------------------\u001b[0m",
            "\u001b[0;31mTypeError\u001b[0m                                 Traceback (most recent call last)",
            "\u001b[0;32m<ipython-input-31-56b75fbe19a6>\u001b[0m in \u001b[0;36m<cell line: 1>\u001b[0;34m()\u001b[0m\n\u001b[0;32m----> 1\u001b[0;31m \u001b[0mtuple_var\u001b[0m\u001b[0;34m[\u001b[0m\u001b[0;34m-\u001b[0m\u001b[0;36m1\u001b[0m\u001b[0;34m]\u001b[0m \u001b[0;34m=\u001b[0m \u001b[0;36m0\u001b[0m\u001b[0;34m\u001b[0m\u001b[0;34m\u001b[0m\u001b[0m\n\u001b[0m\u001b[1;32m      2\u001b[0m \u001b[0mtuple_var\u001b[0m\u001b[0;34m\u001b[0m\u001b[0;34m\u001b[0m\u001b[0m\n",
            "\u001b[0;31mTypeError\u001b[0m: 'tuple' object does not support item assignment"
          ]
        }
      ],
      "source": [
        "tuple_var[-1] = 0\n",
        "tuple_var"
      ]
    },
    {
      "cell_type": "code",
      "execution_count": 32,
      "metadata": {
        "colab": {
          "base_uri": "https://localhost:8080/"
        },
        "id": "pAXv_JpueMK5",
        "outputId": "db5083b0-f517-4b52-8720-cc05002b37b2"
      },
      "outputs": [
        {
          "output_type": "execute_result",
          "data": {
            "text/plain": [
              "[1, 2, 3, 4, 5, 6, 7, 8, 9, 10]"
            ]
          },
          "metadata": {},
          "execution_count": 32
        }
      ],
      "source": [
        "tuple_var = list(tuple_var)\n",
        "tuple_var"
      ]
    },
    {
      "cell_type": "code",
      "execution_count": 33,
      "metadata": {
        "colab": {
          "base_uri": "https://localhost:8080/"
        },
        "id": "sSjt_wy8eRap",
        "outputId": "e0b7524c-68b2-49f5-b8fa-716d0ac3864d"
      },
      "outputs": [
        {
          "output_type": "execute_result",
          "data": {
            "text/plain": [
              "(1, 2, 3, 4, 5, 6, 7, 8, 9, 10)"
            ]
          },
          "metadata": {},
          "execution_count": 33
        }
      ],
      "source": [
        "tuple_var = tuple(tuple_var)\n",
        "tuple_var"
      ]
    },
    {
      "cell_type": "markdown",
      "metadata": {
        "id": "mNuz_LTgQwyj"
      },
      "source": [
        "### Diccionario\n",
        "\n",
        "Un diccionario en Python es una estructura de datos que almacena una colección de datos como pares clave-valor. A veces también se denomina \"dict\". Los diccionarios son increíblemente útiles porque te permiten asociar un valor (la parte \"valor\" del par clave-valor) con un identificador único (la parte \"clave\" del par clave-valor). Piensa en un diccionario como en un diccionario del mundo real, donde las palabras (claves) están asociadas a sus significados (valores).\n",
        "\n",
        "Los diccionarios son versátiles y pueden almacenar una amplia gama de tipos de datos como valores, incluidos números, cadenas, listas e incluso otros diccionarios. Las claves de un diccionario deben ser únicas, es decir, no puede haber dos claves idénticas en el mismo diccionario."
      ]
    },
    {
      "cell_type": "code",
      "execution_count": 36,
      "metadata": {
        "colab": {
          "base_uri": "https://localhost:8080/"
        },
        "id": "1LoQaQR5wgET",
        "outputId": "2d759c60-eb41-4b70-ede9-2c11024794f0"
      },
      "outputs": [
        {
          "output_type": "stream",
          "name": "stdout",
          "text": [
            "{'nombre': 'Gerardo', 'apellido': 'gutiérrez'}\n",
            "Gerardo\n"
          ]
        }
      ],
      "source": [
        "dict_var = {\"nombre\": \"Gerardo\", \"apellido\":\"gutiérrez\"}\n",
        "print(dict_var)\n",
        "print(var_dict[\"nombre\"])"
      ]
    },
    {
      "cell_type": "code",
      "execution_count": 37,
      "metadata": {
        "colab": {
          "base_uri": "https://localhost:8080/"
        },
        "id": "EouMHkgHPt4a",
        "outputId": "1b5703e4-473d-4eaf-8e0c-64726ebda955"
      },
      "outputs": [
        {
          "output_type": "stream",
          "name": "stdout",
          "text": [
            "gutierrez\n"
          ]
        }
      ],
      "source": [
        "var_dict = {\"nombre\": \"Gerardo\", \"apellidos\":[\"gutiérrez\", \"gutierrez\"]}\n",
        "print(var_dict[\"apellidos\"][-1])"
      ]
    },
    {
      "cell_type": "code",
      "execution_count": 38,
      "metadata": {
        "id": "8D-ntlksNM9L",
        "colab": {
          "base_uri": "https://localhost:8080/"
        },
        "outputId": "74d35c54-cf46-4a5c-9a91-65ecdac8c2e8"
      },
      "outputs": [
        {
          "output_type": "execute_result",
          "data": {
            "text/plain": [
              "{'nombre': 'Gerardo', 'apellidos': ['gutiérrez', 'gutiérrez']}"
            ]
          },
          "metadata": {},
          "execution_count": 38
        }
      ],
      "source": [
        "var_dict[\"apellidos\"][-1] = \"gutiérrez\"\n",
        "var_dict"
      ]
    },
    {
      "cell_type": "code",
      "execution_count": 39,
      "metadata": {
        "id": "3cX03eWNNND-",
        "colab": {
          "base_uri": "https://localhost:8080/"
        },
        "outputId": "f658ffc6-b211-441d-aca9-04b6be39866a"
      },
      "outputs": [
        {
          "output_type": "execute_result",
          "data": {
            "text/plain": [
              "{'nombre': 'Gerardo',\n",
              " 'apellidos': ['gutiérrez', 'gutiérrez'],\n",
              " 'experiencia': {'udea': {'cargo': 'desarrollador',\n",
              "   'fecha_inicio': 2020,\n",
              "   'fecha_final': None},\n",
              "  'itm': {'cargo': 'desarrollador',\n",
              "   'fecha_inicio': 2014,\n",
              "   'fecha_final': 2018}}}"
            ]
          },
          "metadata": {},
          "execution_count": 39
        }
      ],
      "source": [
        "var_dict[\"experiencia\"] = {\n",
        "    \"udea\":{\n",
        "        \"cargo\":\"desarrollador\",\n",
        "        \"fecha_inicio\":2020,\n",
        "        \"fecha_final\":None\n",
        "    },\n",
        "    \"itm\": {\n",
        "        \"cargo\":\"administrador hpc\",\n",
        "        \"fecha_inicio\":2018,\n",
        "        \"fecha_final\":2020\n",
        "    },\n",
        "    \"itm\":{\n",
        "        \"cargo\": \"desarrollador\",\n",
        "        \"fecha_inicio\":2014,\n",
        "        \"fecha_final\":2018\n",
        "    }\n",
        "}\n",
        "var_dict"
      ]
    },
    {
      "cell_type": "code",
      "source": [
        "# ¿Cómo podemos repetir la llave?\n",
        "# Usando una lista en vez de un diccionario\n",
        "var_dict[\"experiencia\"] = [\n",
        "    {\n",
        "        \"empresa\":\"udea\",\n",
        "        \"cargo\":\"desarrollador\",\n",
        "        \"fecha_inicio\":2020,\n",
        "        \"fecha_final\":None\n",
        "    },\n",
        "    {\n",
        "        \"empresa\": \"itm\",\n",
        "        \"cargo\": \"administrador hpc\",\n",
        "        \"fecha_inicio\": 2018,\n",
        "        \"fecha_final\": 2020\n",
        "    },\n",
        "    {\n",
        "        \"empresa\":\"itm\",\n",
        "        \"cargo\": \"desarrollador\",\n",
        "        \"fecha_inicio\":2014,\n",
        "        \"fecha_final\":2018\n",
        "    }\n",
        "]\n",
        "var_dict"
      ],
      "metadata": {
        "colab": {
          "base_uri": "https://localhost:8080/"
        },
        "id": "XvAo36wU9av2",
        "outputId": "0c8e8876-bc20-4e64-ca6e-547c9fb2dd61"
      },
      "execution_count": 42,
      "outputs": [
        {
          "output_type": "execute_result",
          "data": {
            "text/plain": [
              "{'nombre': 'Gerardo',\n",
              " 'apellidos': ['gutiérrez', 'gutiérrez'],\n",
              " 'experiencia': [{'empresa': 'udea',\n",
              "   'cargo': 'desarrollador',\n",
              "   'fecha_inicio': 2020,\n",
              "   'fecha_final': None},\n",
              "  {'empresa': 'itm',\n",
              "   'cargo': 'administrador hpc',\n",
              "   'fecha_inicio': 2018,\n",
              "   'fecha_final': 2020},\n",
              "  {'empresa': 'itm',\n",
              "   'cargo': 'desarrollador',\n",
              "   'fecha_inicio': 2014,\n",
              "   'fecha_final': 2018}]}"
            ]
          },
          "metadata": {},
          "execution_count": 42
        }
      ]
    },
    {
      "cell_type": "markdown",
      "metadata": {
        "id": "3eByNOYSwkjY"
      },
      "source": [
        "## Operaciones y funciones sobre las variables"
      ]
    },
    {
      "cell_type": "code",
      "execution_count": 43,
      "metadata": {
        "colab": {
          "base_uri": "https://localhost:8080/"
        },
        "id": "saKesS6Uwwm6",
        "outputId": "51dde7ff-5da2-4710-c3ad-0e09e606c9ec"
      },
      "outputs": [
        {
          "output_type": "stream",
          "name": "stdout",
          "text": [
            "3\n",
            "12\n",
            "13\n",
            "144\n"
          ]
        }
      ],
      "source": [
        "#operaciones con variables numéricas\n",
        "print( 1 + 2 )\n",
        "print( num_var )\n",
        "print( num_var + 1 )\n",
        "print( num_var**2 )"
      ]
    },
    {
      "cell_type": "code",
      "execution_count": 45,
      "metadata": {
        "id": "rBS_CJM2w0s2",
        "colab": {
          "base_uri": "https://localhost:8080/"
        },
        "outputId": "cf232a93-a7c9-4ed2-b9ac-c32e75d38d9a"
      },
      "outputs": [
        {
          "output_type": "stream",
          "name": "stdout",
          "text": [
            "[0, 0, 0, 0, 0, 0, 0, 0, 0, 0]\n",
            "[1, 2, 3, 4, 5, 6, 7, 8, 9, 0]\n",
            "[1, 2, 3, 4, 5, 6, 7, 8, 9, 0, 1, 2, 3, 4, 5, 6, 7, 8, 9, 0]\n",
            "[0, 1, 2, 3, 4, 5, 6, 7, 8, 9]\n"
          ]
        }
      ],
      "source": [
        "#operaciones con listas\n",
        "print( [0] * 10 )\n",
        "print( list_var )\n",
        "print( list_var * 2 )\n",
        "print( [0] + list_var[:-1])"
      ]
    },
    {
      "cell_type": "code",
      "execution_count": 49,
      "metadata": {
        "id": "2G7NG_XqwzPl",
        "colab": {
          "base_uri": "https://localhost:8080/"
        },
        "outputId": "7106ba3d-4a5f-4d95-8d33-a262c75454bb"
      },
      "outputs": [
        {
          "output_type": "stream",
          "name": "stdout",
          "text": [
            "¡Viva México!\n",
            "¡Viva México! ¡Viva México! ¡Viva México! ¡Viva México! ¡Viva México! ¡Viva México! ¡Viva México! ¡Viva México! ¡Viva México! ¡Viva México! \n"
          ]
        }
      ],
      "source": [
        "#operaciones con strings\n",
        "print( \"¡Viva \" + \"México!\" )\n",
        "print( (string_var + \" \") * 10)"
      ]
    },
    {
      "cell_type": "code",
      "execution_count": 52,
      "metadata": {
        "id": "YTM5MCWFNe6y",
        "colab": {
          "base_uri": "https://localhost:8080/"
        },
        "outputId": "221f8845-cdd1-4729-e237-050fe6605ef8"
      },
      "outputs": [
        {
          "output_type": "stream",
          "name": "stdout",
          "text": [
            "2\n",
            "1\n",
            "1\n",
            "1\n"
          ]
        }
      ],
      "source": [
        "#operaciones con booleanos\n",
        "print( True + True )\n",
        "print( True + False )\n",
        "print( True * True )\n",
        "print( False**False )"
      ]
    },
    {
      "cell_type": "code",
      "source": [
        "#operaciones lógicas\n",
        "print( not True )\n",
        "print( True and False )\n",
        "print( True or False )"
      ],
      "metadata": {
        "colab": {
          "base_uri": "https://localhost:8080/"
        },
        "id": "bb9AbFtTBBAO",
        "outputId": "4e1502bb-0101-4632-aea6-5ae8da256bcd"
      },
      "execution_count": 61,
      "outputs": [
        {
          "output_type": "stream",
          "name": "stdout",
          "text": [
            "False\n",
            "False\n",
            "True\n"
          ]
        }
      ]
    },
    {
      "cell_type": "markdown",
      "metadata": {
        "id": "sFt_hQPL5Y0u"
      },
      "source": [
        "### ¿Qué es una función?\n",
        "\n",
        "Una función en Python es como una receta o un conjunto de instrucciones que puedes dar al ordenador para que realice una tarea específica. Al igual que en la cocina, donde tienes una receta que te dice cómo hacer un plato en particular, una función en Python es un bloque de código con nombre que hace algo específico cuando lo \"llamas\".\n",
        "\n",
        "Imagina que tienes una caja (la función), y le das algunos ingredientes (entrada), y te da un plato (salida) a cambio. No necesitas saber cómo funciona la caja por dentro; sólo necesitas saber qué ingredientes darle y qué obtendrás a cambio."
      ]
    },
    {
      "cell_type": "code",
      "source": [
        "#funciones intrínsicas ( built-in )\n",
        "print( pow(2,3) )\n",
        "print( len(list_var) )\n",
        "print( type( dict_var ))\n",
        "print( isinstance(dict_var,dict) )\n",
        "print( any( [0]*10 ))\n",
        "print( any( [0]*10+[1] ))"
      ],
      "metadata": {
        "colab": {
          "base_uri": "https://localhost:8080/"
        },
        "id": "T61wqJPt_eGh",
        "outputId": "0fe87273-724b-4cf8-8722-8a6c910a4a40"
      },
      "execution_count": 59,
      "outputs": [
        {
          "output_type": "stream",
          "name": "stdout",
          "text": [
            "8\n",
            "10\n",
            "<class 'dict'>\n",
            "True\n",
            "False\n",
            "True\n"
          ]
        }
      ]
    },
    {
      "cell_type": "code",
      "source": [],
      "metadata": {
        "id": "lszTe2uF_0kx"
      },
      "execution_count": null,
      "outputs": []
    },
    {
      "cell_type": "code",
      "execution_count": null,
      "metadata": {
        "id": "_NSSqJJUxtqB"
      },
      "outputs": [],
      "source": [
        "#creación de funciones\n",
        "#Parámetros por defecto\n",
        "#retorno\n",
        "#documentación"
      ]
    },
    {
      "cell_type": "markdown",
      "metadata": {
        "id": "knJIfPU_xC3p"
      },
      "source": [
        "## Control de flujo"
      ]
    },
    {
      "cell_type": "markdown",
      "metadata": {
        "id": "Oaa-CNYDxE6f"
      },
      "source": [
        "### Condicionales"
      ]
    },
    {
      "cell_type": "code",
      "execution_count": null,
      "metadata": {
        "id": "hLFKaJRhw52T"
      },
      "outputs": [],
      "source": [
        "#if, else, elif"
      ]
    },
    {
      "cell_type": "markdown",
      "metadata": {
        "id": "TqCus-BrxWdv"
      },
      "source": [
        "### Flujos"
      ]
    },
    {
      "cell_type": "code",
      "execution_count": null,
      "metadata": {
        "id": "os1r_qwDxM2P"
      },
      "outputs": [],
      "source": [
        "# for, while"
      ]
    },
    {
      "cell_type": "markdown",
      "metadata": {
        "id": "6sV2hM_BxZBk"
      },
      "source": [
        "### Excepciones\n",
        "Una excepción en programación se refiere a un evento o situación que ocurre durante la ejecución de un programa, interrumpiendo el flujo normal del programa porque representa un error o una condición inusual. Las excepciones son una forma de que los programas manejen situaciones inesperadas o erróneas con elegancia, en lugar de bloquearse o producir resultados impredecibles.\n",
        "\n",
        "Imagina que estás siguiendo una receta para preparar una comida y ocurre algo inesperado, como que te quedas sin un ingrediente crucial o que el horno deja de funcionar de repente. Una excepción en programación es como encontrarse con estos imprevistos. En lugar de rendirte, sigues una serie de instrucciones para manejar el problema adecuadamente, como encontrar un ingrediente sustituto o informar del mal funcionamiento del horno.\n",
        "\n",
        "En Python y en muchos otros lenguajes de programación, las excepciones se gestionan mediante un mecanismo llamado \"manejo de excepciones\"."
      ]
    },
    {
      "cell_type": "code",
      "execution_count": null,
      "metadata": {
        "id": "bCBTw9Z4xMSc"
      },
      "outputs": [],
      "source": [
        "#try except"
      ]
    },
    {
      "cell_type": "markdown",
      "metadata": {
        "id": "QiJWeTFzxnoT"
      },
      "source": [
        "## Librerías\n",
        "\n",
        "Una librería o biblioteca en programación es una colección de código o funciones preescritas que los programadores pueden utilizar para realizar tareas comunes o resolver problemas específicos sin tener que escribir el código desde cero. Las librerías están diseñadas para ser reutilizables y ahorrar tiempo y esfuerzo a los desarrolladores, ya que proporcionan un conjunto de funciones, clases y módulos preconstruidos que pueden incorporar a sus propios programas.\n",
        "\n",
        "Piensa en una librería como una caja de herramientas o un conjunto de herramientas especializadas que puedes utilizar para construir algo. En lugar de diseñar y fabricar cada herramienta que necesitas, puedes visitar la librería y tomar prestadas las herramientas que necesitas para completar tu proyecto. Las librerías son como un tesoro escondido de funciones prefabricadas y fragmentos de código que pueden ayudarte a crear software de forma más eficiente.\n",
        "\n",
        "\n",
        "Algunas características de las librerías son:\n",
        "* **Reutilización:** Las librerías contienen código que puede ser utilizado por\n",
        "varios programas o proyectos. Al reutilizar el código de una librería, los programadores ahorran tiempo y evitan reinventar la rueda.\n",
        "* **Abstracción:** Las librerías proporcionan una capa de abstracción que permite a los programadores utilizar funciones complejas sin necesidad de comprender los intrincados detalles de su funcionamiento interno.\n",
        "* **Modularidad:** Las librerías suelen organizarse en módulos o paquetes, lo que facilita la elección y la inclusión de sólo la funcionalidad específica necesaria para un proyecto concreto.\n",
        "* **Comunidad y código abierto:** Muchas librerías son de código abierto y están desarrolladas y mantenidas por una comunidad de programadores. Este enfoque colaborativo conduce a la creación de librerías potentes y ampliamente utilizadas.\n",
        "* **Funcionalidad diversa:** Las librerías pueden cubrir una amplia gama de dominios y tareas, como la manipulación de datos, el diseño de interfaces de usuario, el desarrollo web, la computación científica, el aprendizaje automático, etc.\n",
        "* **Librerías estándar:** Los lenguajes de programación a menudo vienen con una librería estándar que proporciona funcionalidad esencial. Por ejemplo, Python tiene una librería estándar que incluye módulos para la E/S de archivos, expresiones regulares, operaciones matemáticas, etc.\n",
        "* **librerías de terceros:** Además de las librerías estándar, los programadores pueden utilizar librerías de terceros desarrolladas por otros para ampliar las capacidades de un lenguaje de programación. Por ejemplo, las librerías NumPy y pandas de Python se utilizan ampliamente para tareas numéricas y de análisis de datos.\n",
        "* **Gestión de dependencias:** Cuando se utilizan librerías, los programadores necesitan gestionar las dependencias, que son otras librerías de las que depende una determinada librería. Las herramientas de gestión de dependencias ayudan a garantizar que todas las librerías necesarias estén instaladas y sean compatibles."
      ]
    },
    {
      "cell_type": "markdown",
      "metadata": {
        "id": "CKl62WQwb-dN"
      },
      "source": [
        "### Numpy\n",
        "NumPy, que significa \"Numerical Python\", es una popular biblioteca de código abierto de Python para cálculo numérico y científico. Proporciona soporte para trabajar con matrices y arrays multidimensionales de gran tamaño, junto con una colección de funciones matemáticas para operar con estos arrays. NumPy es una biblioteca fundamental en el ecosistema de la ciencia de datos y la computación científica de Python, y se utiliza ampliamente en diversos campos, como el análisis de datos, el aprendizaje automático y la investigación científica.\n",
        "\n",
        "Algunas características de NumPy:\n",
        "* **Arrays:** La principal estructura de datos de NumPy es el ndarray (abreviatura de \"array N-dimensional\"). Estas matrices son similares a las listas de Python, pero pueden tener múltiples dimensiones (por ejemplo, matrices 1D, matrices 2D, o incluso matrices de mayor dimensión).\n",
        "* **Almacenamiento eficiente de datos:** Las matrices NumPy son eficientes en memoria y permiten operaciones rápidas de elemento a elemento. Esto las hace adecuadas para manejar grandes conjuntos de datos.\n",
        "* **Operaciones matemáticas:** NumPy proporciona una amplia gama de funciones matemáticas que se pueden aplicar por elementos a matrices. Esto incluye operaciones básicas como la suma y la multiplicación, así como funciones más avanzadas como funciones trigonométricas, logarítmicas y estadísticas.\n",
        "* **Manipulación de matrices:** NumPy ofrece funciones para remodelar, cortar e indexar matrices, facilitando la extracción y modificación de partes específicas de los datos.\n",
        "* **Difusión:** NumPy le permite realizar operaciones en matrices de diferentes formas, una característica conocida como difusión. NumPy alinea y repite automáticamente la matriz más pequeña para que coincida con la forma de la más grande, lo que permite realizar operaciones de elemento a elemento.\n",
        "* **Integración con otras bibliotecas:** NumPy se utiliza a menudo junto con otras bibliotecas del ecosistema de ciencia de datos de Python, como pandas (para la manipulación de datos), Matplotlib (para la visualización de datos) y scikit-learn (para el aprendizaje automático).\n",
        "* **Generación de números aleatorios:** NumPy incluye una robusta biblioteca de generación de números aleatorios para generar datos aleatorios para simulaciones, experimentos y análisis estadísticos.\n",
        "* **Álgebra lineal:** NumPy proporciona funciones de álgebra lineal para tareas como la multiplicación de matrices, el cálculo de valores propios y la resolución de sistemas de ecuaciones lineales.\n",
        "* **Procesamiento de señales:** NumPy tiene herramientas para el procesamiento de señales, transformadas de Fourier y filtrado.\n"
      ]
    },
    {
      "cell_type": "code",
      "execution_count": null,
      "metadata": {
        "id": "nlcKTUpDxi-J"
      },
      "outputs": [],
      "source": [
        "import numpy"
      ]
    },
    {
      "cell_type": "code",
      "execution_count": null,
      "metadata": {
        "id": "ktmAEv-vctYI"
      },
      "outputs": [],
      "source": []
    },
    {
      "cell_type": "markdown",
      "metadata": {
        "id": "GxsW8Z5pc6IE"
      },
      "source": [
        "### matplotlib\n",
        "Matplotlib es una biblioteca de Python de código abierto que se utiliza para crear visualizaciones estáticas, animadas e interactivas en varios formatos, como tablas, gráficos, diagramas y más. Proporciona un conjunto completo de herramientas para la visualización de datos y se utiliza ampliamente en la ciencia de datos, la investigación científica, la ingeniería y otros campos en los que la representación gráfica de los datos es esencial.\n",
        "\n",
        "Características de Matplotlib:\n",
        "\n",
        "* **Gráficos y Figuras:** En Matplotlib, una parcela es esencialmente una sola tabla o gráfico, y una figura es la ventana general o página que contiene una o más parcelas. Se pueden crear varios gráficos dentro de una misma figura.\n",
        "\n",
        "* **Tipos de gráficos:** Matplotlib soporta una amplia gama de tipos de gráficos, incluyendo gráficos de líneas, gráficos de dispersión, gráficos de barras, histogramas, gráficos circulares, gráficos 3D, y más.\n",
        "\n",
        "* **Personalización:** Puede personalizar todos los aspectos de sus gráficos, incluyendo títulos, etiquetas, colores, fuentes, marcadores y más. Esto le permite adaptar sus visualizaciones para transmitir eficazmente sus datos.\n",
        "\n",
        "* **Subgráficos:** Puede crear subparcelas dentro de una misma figura, organizando varias parcelas en una cuadrícula. Esto resulta útil para comparar y visualizar diferentes aspectos de los datos uno al lado del otro."
      ]
    },
    {
      "cell_type": "code",
      "execution_count": null,
      "metadata": {
        "id": "dVLiiHppx-bm"
      },
      "outputs": [],
      "source": [
        "import matplotlib"
      ]
    },
    {
      "cell_type": "code",
      "execution_count": null,
      "metadata": {
        "id": "qruHjKE1yOa5"
      },
      "outputs": [],
      "source": [
        "#pandas"
      ]
    },
    {
      "cell_type": "code",
      "execution_count": null,
      "metadata": {
        "id": "k4q9zPSLyAuK"
      },
      "outputs": [],
      "source": [
        "#programación modular"
      ]
    },
    {
      "cell_type": "code",
      "execution_count": null,
      "metadata": {
        "id": "bWzP4zzWyEeM"
      },
      "outputs": [],
      "source": []
    }
  ],
  "metadata": {
    "colab": {
      "provenance": [],
      "mount_file_id": "1pjUffhrvv-KLy37VjdlpuayH37fmjzPA",
      "authorship_tag": "ABX9TyO3A9WNnd8pQG1VghDq7yi6"
    },
    "kernelspec": {
      "display_name": "Python 3",
      "name": "python3"
    },
    "language_info": {
      "name": "python"
    }
  },
  "nbformat": 4,
  "nbformat_minor": 0
}