{
  "nbformat": 4,
  "nbformat_minor": 0,
  "metadata": {
    "colab": {
      "provenance": [],
      "mount_file_id": "1pjUffhrvv-KLy37VjdlpuayH37fmjzPA",
      "authorship_tag": "ABX9TyNjbcfjuJ039Dz1A71zq7No"
    },
    "kernelspec": {
      "name": "python3",
      "display_name": "Python 3"
    },
    "language_info": {
      "name": "python"
    }
  },
  "cells": [
    {
      "cell_type": "markdown",
      "source": [
        "# Programación en python y algoritmia\n",
        "\n"
      ],
      "metadata": {
        "id": "ZjYjcyjZu-fH"
      }
    },
    {
      "cell_type": "markdown",
      "source": [
        "## Variables y tipos de datos"
      ],
      "metadata": {
        "id": "Hd2zQpcCvJTW"
      }
    },
    {
      "cell_type": "code",
      "source": [],
      "metadata": {
        "id": "JH1tljJsvNx8"
      },
      "execution_count": null,
      "outputs": []
    }
  ]
}